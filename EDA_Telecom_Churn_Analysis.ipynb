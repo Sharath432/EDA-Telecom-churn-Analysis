{
  "nbformat": 4,
  "nbformat_minor": 0,
  "metadata": {
    "colab": {
      "private_outputs": true,
      "provenance": [],
      "collapsed_sections": [
        "vncDsAP0Gaoa",
        "FJNUwmbgGyua",
        "w6K7xa23Elo4",
        "yQaldy8SH6Dl",
        "PH-0ReGfmX4f",
        "mDgbUHAGgjLW",
        "O_i_v8NEhb9l",
        "HhfV-JJviCcP",
        "Y3lxredqlCYt",
        "3RnN4peoiCZX",
        "x71ZqKXriCWQ",
        "7hBIi_osiCS2",
        "JlHwYmJAmNHm",
        "35m5QtbWiB9F",
        "PoPl-ycgm1ru",
        "H0kj-8xxnORC",
        "nA9Y7ga8ng1Z",
        "PBTbrJXOngz2",
        "u3PMJOP6ngxN",
        "dauF4eBmngu3",
        "bKJF3rekwFvQ",
        "MSa1f5Uengrz",
        "GF8Ens_Soomf",
        "0wOQAZs5pc--",
        "K5QZ13OEpz2H",
        "lQ7QKXXCp7Bj",
        "448CDAPjqfQr",
        "KSlN3yHqYklG",
        "t6dVpIINYklI",
        "ijmpgYnKYklI",
        "-JiQyfWJYklI",
        "EM7whBJCYoAo",
        "fge-S5ZAYoAp",
        "85gYPyotYoAp",
        "RoGjAbkUYoAp",
        "4Of9eVA-YrdM",
        "iky9q4vBYrdO",
        "F6T5p64dYrdO",
        "y-Ehk30pYrdP",
        "bamQiAODYuh1",
        "QHF8YVU7Yuh3",
        "GwzvFGzlYuh3",
        "qYpmQ266Yuh3",
        "OH-pJp9IphqM",
        "bbFf2-_FphqN",
        "_ouA3fa0phqN",
        "Seke61FWphqN",
        "PIIx-8_IphqN",
        "t27r6nlMphqO",
        "r2jJGEOYphqO",
        "b0JNsNcRphqO",
        "BZR9WyysphqO",
        "jj7wYXLtphqO",
        "eZrbJ2SmphqO",
        "rFu4xreNphqO",
        "YJ55k-q6phqO",
        "gCFgpxoyphqP",
        "OVtJsKN_phqQ",
        "lssrdh5qphqQ",
        "U2RJ9gkRphqQ",
        "1M8mcRywphqQ",
        "tgIPom80phqQ",
        "JMzcOPDDphqR",
        "x-EpHcCOp1ci",
        "X_VqEhTip1ck",
        "8zGJKyg5p1ck",
        "PVzmfK_Ep1ck",
        "n3dbpmDWp1ck",
        "ylSl6qgtp1ck",
        "ZWILFDl5p1ck",
        "M7G43BXep1ck",
        "Ag9LCva-p1cl",
        "E6MkPsBcp1cl",
        "2cELzS2fp1cl",
        "3MPXvC8up1cl",
        "NC_X3p0fY2L0",
        "UV0SzAkaZNRQ",
        "YPEH6qLeZNRQ",
        "q29F0dvdveiT",
        "EXh0U9oCveiU",
        "22aHeOlLveiV",
        "JcMwzZxoAimU",
        "8G2x9gOozGDZ",
        "gCX9965dhzqZ",
        "gIfDvo9L0UH2"
      ]
    },
    "kernelspec": {
      "name": "python3",
      "display_name": "Python 3"
    },
    "language_info": {
      "name": "python"
    }
  },
  "cells": [
    {
      "cell_type": "code",
      "source": [
        "from google.colab import drive\n",
        "drive.mount('/content/drive')"
      ],
      "metadata": {
        "id": "I1apcow5dxii"
      },
      "execution_count": null,
      "outputs": []
    },
    {
      "cell_type": "markdown",
      "source": [
        "# **Project Name**    -\n",
        "\n"
      ],
      "metadata": {
        "id": "vncDsAP0Gaoa"
      }
    },
    {
      "cell_type": "markdown",
      "source": [
        "##### **Project Type**    - EDA\n",
        "##### **Contribution**    - SARATHRAJ R"
      ],
      "metadata": {
        "id": "beRrZCGUAJYm"
      }
    },
    {
      "cell_type": "markdown",
      "source": [
        "# **Project Summary -**"
      ],
      "metadata": {
        "id": "FJNUwmbgGyua"
      }
    },
    {
      "cell_type": "markdown",
      "source": [
        "Customer churn prediction is extremely important for any business as it recognizes the clients who are likely to stop using their services.\n",
        "\n",
        "In the telecom industry, customers are able to choose from multiple service providers and actively switch from one operator to another. In this highly competitive market, the telecommunications industry experiences an average of 15-25% annual churn rate. Given the fact that it costs 5-10 times more to acquire a new customer than to retain an existing one, customer retention has now become even more important than customer acquisition.\n",
        "\n",
        "For many incumbent operators, retaining high profitable customers is the number one business goal. To reduce customer churn, telecom companies need to predict which customers are at high risk of churn. In this project, you will analyse customer-level data of a leading telecom firm, do exploratory data analysis to identify the main indicators why customers are leaving the company."
      ],
      "metadata": {
        "id": "F6v_1wHtG2nS"
      }
    },
    {
      "cell_type": "markdown",
      "source": [
        "# **GitHub Link -**"
      ],
      "metadata": {
        "id": "w6K7xa23Elo4"
      }
    },
    {
      "cell_type": "markdown",
      "source": [
        "Provide your GitHub Link here."
      ],
      "metadata": {
        "id": "h1o69JH3Eqqn"
      }
    },
    {
      "cell_type": "markdown",
      "source": [
        "# **Business Objective:**"
      ],
      "metadata": {
        "id": "PH-0ReGfmX4f"
      }
    },
    {
      "cell_type": "markdown",
      "source": [
        "Reducing Customer Churn Rate"
      ],
      "metadata": {
        "id": "PhDvGCAqmjP1"
      }
    },
    {
      "cell_type": "markdown",
      "source": [
        "# ***Let's Begin !***"
      ],
      "metadata": {
        "id": "O_i_v8NEhb9l"
      }
    },
    {
      "cell_type": "markdown",
      "source": [
        "## ***1. Know Your Data***"
      ],
      "metadata": {
        "id": "HhfV-JJviCcP"
      }
    },
    {
      "cell_type": "markdown",
      "source": [
        "### Import Libraries"
      ],
      "metadata": {
        "id": "Y3lxredqlCYt"
      }
    },
    {
      "cell_type": "code",
      "source": [
        "# Import Libraries\n",
        "import numpy as np\n",
        "import pandas as pd\n",
        "import math\n",
        "from numpy import loadtxt\n",
        "import seaborn as sns\n",
        "import matplotlib.pyplot as plt\n",
        "%matplotlib inline\n",
        "from matplotlib import rcParams\n",
        "\n",
        "!pip install pymysql\n",
        "import pymysql\n",
        "from sqlalchemy import create_engine\n",
        "from sqlalchemy.pool import NullPool\n",
        "\n",
        "import warnings\n",
        "warnings.filterwarnings('ignore')"
      ],
      "metadata": {
        "id": "M8Vqi-pPk-HR"
      },
      "execution_count": null,
      "outputs": []
    },
    {
      "cell_type": "markdown",
      "source": [
        "### Dataset Loading"
      ],
      "metadata": {
        "id": "3RnN4peoiCZX"
      }
    },
    {
      "cell_type": "code",
      "source": [
        "# Load Dataset\n",
        "dataset = pd.read_csv('/content/drive/MyDrive/Telecom Churn.csv')"
      ],
      "metadata": {
        "id": "4CkvbW_SlZ_R"
      },
      "execution_count": null,
      "outputs": []
    },
    {
      "cell_type": "markdown",
      "source": [
        "### Dataset First View"
      ],
      "metadata": {
        "id": "x71ZqKXriCWQ"
      }
    },
    {
      "cell_type": "code",
      "source": [
        "# Dataset First Look\n",
        "dataset.head()"
      ],
      "metadata": {
        "id": "LWNFOSvLl09H"
      },
      "execution_count": null,
      "outputs": []
    },
    {
      "cell_type": "markdown",
      "source": [
        "### Dataset Rows & Columns count"
      ],
      "metadata": {
        "id": "7hBIi_osiCS2"
      }
    },
    {
      "cell_type": "code",
      "source": [
        "# Dataset Rows & Columns count\n",
        "dataset.shape"
      ],
      "metadata": {
        "id": "Kllu7SJgmLij"
      },
      "execution_count": null,
      "outputs": []
    },
    {
      "cell_type": "markdown",
      "source": [
        "### Dataset Information"
      ],
      "metadata": {
        "id": "JlHwYmJAmNHm"
      }
    },
    {
      "cell_type": "code",
      "source": [
        "# Dataset Info\n",
        "dataset.info()"
      ],
      "metadata": {
        "id": "e9hRXRi6meOf"
      },
      "execution_count": null,
      "outputs": []
    },
    {
      "cell_type": "code",
      "source": [
        "dataset.columns"
      ],
      "metadata": {
        "id": "A4xhX3iYklzY"
      },
      "execution_count": null,
      "outputs": []
    },
    {
      "cell_type": "code",
      "source": [
        "dataset.dtypes"
      ],
      "metadata": {
        "id": "gJlhC89gkpFd"
      },
      "execution_count": null,
      "outputs": []
    },
    {
      "cell_type": "markdown",
      "source": [
        "#### Duplicate Values"
      ],
      "metadata": {
        "id": "35m5QtbWiB9F"
      }
    },
    {
      "cell_type": "code",
      "source": [
        "# Dataset Duplicate Value Count\n",
        "dataset.duplicated().sum()"
      ],
      "metadata": {
        "id": "1sLdpKYkmox0"
      },
      "execution_count": null,
      "outputs": []
    },
    {
      "cell_type": "markdown",
      "source": [
        "#### Missing Values/Null Values"
      ],
      "metadata": {
        "id": "PoPl-ycgm1ru"
      }
    },
    {
      "cell_type": "code",
      "source": [
        "# Missing Values/Null Values Count\n",
        "dataset.isna().sum().sort_values(ascending = False)"
      ],
      "metadata": {
        "id": "GgHWkxvamxVg"
      },
      "execution_count": null,
      "outputs": []
    },
    {
      "cell_type": "code",
      "source": [
        "# Visualizing the missing values\n",
        "plt.figure(figsize = (10,5))\n",
        "sns.heatmap(dataset.isna(), cbar = False)\n",
        "plt.show()"
      ],
      "metadata": {
        "id": "3q5wnI3om9sJ"
      },
      "execution_count": null,
      "outputs": []
    },
    {
      "cell_type": "markdown",
      "source": [
        "### What did you know about your dataset?"
      ],
      "metadata": {
        "id": "H0kj-8xxnORC"
      }
    },
    {
      "cell_type": "markdown",
      "source": [
        "The dataset given is a dataset from Telecommunication industry, and we have to analysis the churn of customers and the insights behind it.\n",
        "\n",
        "Churn prediction is analytical studies on the possibility of a customer abandoning a product or service. The goal is to understand and take steps to change it before the costumer gives up the product or service.\n",
        "\n",
        "The above dataset has 3333 rows and 20 columns. There are no mising values and duplicate values in the dataset."
      ],
      "metadata": {
        "id": "gfoNAAC-nUe_"
      }
    },
    {
      "cell_type": "markdown",
      "source": [
        "## ***2. Understanding Your Variables***"
      ],
      "metadata": {
        "id": "nA9Y7ga8ng1Z"
      }
    },
    {
      "cell_type": "code",
      "source": [
        "# Dataset Columns\n",
        "dataset.columns"
      ],
      "metadata": {
        "id": "j7xfkqrt5Ag5"
      },
      "execution_count": null,
      "outputs": []
    },
    {
      "cell_type": "code",
      "source": [
        "# Dataset Describe\n",
        "dataset.describe()"
      ],
      "metadata": {
        "id": "DnOaZdaE5Q5t"
      },
      "execution_count": null,
      "outputs": []
    },
    {
      "cell_type": "markdown",
      "source": [
        "### Variables Description"
      ],
      "metadata": {
        "id": "PBTbrJXOngz2"
      }
    },
    {
      "cell_type": "markdown",
      "source": [
        "State :categorica for the 50 states\n",
        "\n",
        "Account Length :how long account has been active\n",
        "\n",
        "Area Code :Code Number of Area having some States included in each area code\n",
        "\n",
        "lntl Plan :Internat ional plan activated ( yes, no )\n",
        "\n",
        "VMail Plan : ice Mail plan activated ( yes ,no )\n",
        "\n",
        "VMail Message :No.of voice mail messages\n",
        "\n",
        "Day Mins :Total day minutes used\n",
        "\n",
        "Day calls :Total day calls made\n",
        "\n",
        "Day Charge :Total day charge\n",
        "\n",
        "Eve Mins :Total evening minutes\n",
        "\n",
        "Eve Calls :Total evening calls\n",
        "\n",
        "Eve Charge :Total evening charge\n",
        "\n",
        "Night Mins :Total night minutes\n",
        "\n",
        "Night Calls :Total night calls\n",
        "\n",
        "Night Charge :Total night charge\n",
        "\n",
        "Intl Mins :Total International minutes used\n",
        "\n",
        "Intl Calls :Total International calls made\n",
        "\n",
        "Intl Charge :Total International charge\n",
        "\n",
        "CustServ calls :Number of customer service caUs made\n",
        "\n",
        "Churn :Customer churn (Target Variable True=1, False=0)"
      ],
      "metadata": {
        "id": "aJV4KIxSnxay"
      }
    },
    {
      "cell_type": "markdown",
      "source": [
        "### Check Unique Values for each variable."
      ],
      "metadata": {
        "id": "u3PMJOP6ngxN"
      }
    },
    {
      "cell_type": "code",
      "source": [
        "# Check Unique Values for each variable.\n",
        "for i in dataset.columns.tolist():\n",
        "  print(\"No. of unique values in \",i,\"is\",dataset[i].nunique(),\".\")"
      ],
      "metadata": {
        "id": "zms12Yq5n-jE"
      },
      "execution_count": null,
      "outputs": []
    },
    {
      "cell_type": "markdown",
      "source": [
        "## 3. ***Data Wrangling***"
      ],
      "metadata": {
        "id": "dauF4eBmngu3"
      }
    },
    {
      "cell_type": "markdown",
      "source": [
        "### Data Wrangling Code"
      ],
      "metadata": {
        "id": "bKJF3rekwFvQ"
      }
    },
    {
      "cell_type": "code",
      "source": [
        "# Create a copy of the current dataset and assigning to df\n",
        "df=dataset.copy()\n",
        "# Checking Shape of True Value\n",
        "print(\"No. of customers Churning : -\",len(df[df['Churn']==True]))\n",
        "# Assigning churn customers data to variable df_churn\n",
        "df_churn=df[(df['Churn']==True)]\n",
        "df_churn"
      ],
      "metadata": {
        "id": "wk-9a2fpoLcV"
      },
      "execution_count": null,
      "outputs": []
    },
    {
      "cell_type": "code",
      "source": [
        "# Churn data groupby Area Code Wise\n",
        "pd.DataFrame(df.groupby('Area code')['Churn'].value_counts().reset_index(name=\"Count\"))"
      ],
      "metadata": {
        "id": "jlURCIK4VCWV"
      },
      "execution_count": null,
      "outputs": []
    },
    {
      "cell_type": "code",
      "source": [
        "# Function to get all area code mean & median while passing area code and dataframe.\n",
        "def get_mean_median(df,areacode):\n",
        "  '''\n",
        "  This function returns the mean and median of the whole dataset for a particular area code.\n",
        "\n",
        "  '''\n",
        "  try:\n",
        "    return pd.concat([df[(df['Churn']==True)&(df['Area code']==areacode)].describe().iloc[1],\n",
        "            df[(df['Churn']==True)&(df['Area code']==areacode)].describe().iloc[5]],\n",
        "            axis=1).rename(columns={\"50%\":\"median\"}).fillna(\"-\")\n",
        "  except:\n",
        "    print(\"Invalid Area Code\")"
      ],
      "metadata": {
        "id": "dWoCE6fbYsn0"
      },
      "execution_count": null,
      "outputs": []
    },
    {
      "cell_type": "code",
      "source": [
        "# Getting Mean Median for area code 408\n",
        "get_mean_median(df=df,areacode=408)"
      ],
      "metadata": {
        "id": "O_IFX4DWYxg_"
      },
      "execution_count": null,
      "outputs": []
    },
    {
      "cell_type": "code",
      "source": [
        "# Getting Mean Median for area code 415\n",
        "get_mean_median(df=df,areacode=415)"
      ],
      "metadata": {
        "id": "1mqKJItSZWOk"
      },
      "execution_count": null,
      "outputs": []
    },
    {
      "cell_type": "code",
      "source": [
        "# Getting Mean Median for area code 510\n",
        "get_mean_median(df=df,areacode=510)"
      ],
      "metadata": {
        "id": "uEekyqxwZl2i"
      },
      "execution_count": null,
      "outputs": []
    },
    {
      "cell_type": "code",
      "source": [
        "# Getting Unique States\n",
        "print(df['State'].unique())\n",
        "print(\" \")\n",
        "# Getting Unique States Count\n",
        "print(\"Unique States Count is \",df['State'].nunique(),\".\")"
      ],
      "metadata": {
        "id": "t57NwS2WZr8r"
      },
      "execution_count": null,
      "outputs": []
    },
    {
      "cell_type": "code",
      "source": [
        "# Churn Counts grouby State wise\n",
        "pd.DataFrame(df.groupby('State')['Churn'].value_counts(  ).reset_index(name=\"Count\"))"
      ],
      "metadata": {
        "id": "1qC-LXZdZyiL"
      },
      "execution_count": null,
      "outputs": []
    },
    {
      "cell_type": "code",
      "source": [
        "# Assigning churn customers data with no international plan\n",
        "df_churn_intl_no=df_churn[df_churn['International plan']=='No']\n",
        "# Assigning churn customers data with international plan\n",
        "df_churn_intl_yes=df_churn[df_churn['International plan']=='Yes']"
      ],
      "metadata": {
        "id": "pNzXrgGXaUgq"
      },
      "execution_count": null,
      "outputs": []
    },
    {
      "cell_type": "code",
      "source": [
        "# Churn customers data with no international plan value counts\n",
        "df_churn_intl_no['Area code'].value_counts()"
      ],
      "metadata": {
        "id": "LGZWPdcIacQl"
      },
      "execution_count": null,
      "outputs": []
    },
    {
      "cell_type": "code",
      "source": [
        "# Creating call duration column for customers with no international plan\n",
        "df_churn_intl_no['Days_1call_duration']=df_churn_intl_no['Total day minutes']/df_churn_intl_no['Total day calls']\n",
        "df_churn_intl_no['intern_1call_duration']=df_churn_intl_no['Total intl minutes']/df_churn_intl_no['Total intl calls']\n",
        "\n",
        "df_churn_intl_no['evening_1call_duration']=df_churn_intl_no['Total eve minutes']/df_churn_intl_no['Total eve calls']\n",
        "df_churn_intl_no['night_1call_duration']=df_churn_intl_no['Total night minutes']/df_churn_intl_no['Total night calls']"
      ],
      "metadata": {
        "id": "CSFoNP9ykTM3"
      },
      "execution_count": null,
      "outputs": []
    },
    {
      "cell_type": "code",
      "source": [
        "# Creating price rate per minute column for customers with international plan\n",
        "df_churn_intl_yes['international_rate_per_min']=df_churn_intl_yes['Total intl charge']/df_churn_intl_yes['Total intl minutes']\n",
        "df_churn_intl_yes['day_rate_per_min']=df_churn_intl_yes['Total day charge']/df_churn_intl_yes['Total day minutes']\n",
        "df_churn_intl_yes['eve_rate_per_min']=df_churn_intl_yes['Total eve charge']/df_churn_intl_yes['Total eve minutes']\n",
        "df_churn_intl_yes['night_rate_per_min']=df_churn_intl_yes['Total night charge']/df_churn_intl_yes['Total night minutes']"
      ],
      "metadata": {
        "id": "4MT6ZkP7kxGF"
      },
      "execution_count": null,
      "outputs": []
    },
    {
      "cell_type": "code",
      "source": [
        "# Getting Mean Median for area code 408 with no international plan\n",
        "get_mean_median(df=df_churn_intl_no,areacode=408)"
      ],
      "metadata": {
        "id": "t9LITpbfk5Mf"
      },
      "execution_count": null,
      "outputs": []
    },
    {
      "cell_type": "code",
      "source": [
        "# Getting Mean Median for area code 415 with no international plan\n",
        "get_mean_median(df=df_churn_intl_no,areacode=415)"
      ],
      "metadata": {
        "id": "0Q15z8F6lMkz"
      },
      "execution_count": null,
      "outputs": []
    },
    {
      "cell_type": "code",
      "source": [
        "# Getting Mean Median for area code 510 with no international plan\n",
        "get_mean_median(df=df_churn_intl_no,areacode=510)"
      ],
      "metadata": {
        "id": "2Iqi98EVlOzA"
      },
      "execution_count": null,
      "outputs": []
    },
    {
      "cell_type": "code",
      "source": [
        "# Getting Mean Median for area code 408 with international plan\n",
        "get_mean_median(df=df_churn_intl_yes,areacode=408)"
      ],
      "metadata": {
        "id": "SXLvl5IblSdH"
      },
      "execution_count": null,
      "outputs": []
    },
    {
      "cell_type": "code",
      "source": [
        "# Getting Mean Median for area code 415 with international plan\n",
        "get_mean_median(df=df_churn_intl_yes,areacode=415)"
      ],
      "metadata": {
        "id": "20bEWbpIlUpF"
      },
      "execution_count": null,
      "outputs": []
    },
    {
      "cell_type": "code",
      "source": [
        "# Getting Mean Median for area code 510 with international plan\n",
        "get_mean_median(df=df_churn_intl_yes,areacode=510)"
      ],
      "metadata": {
        "id": "QvifIztIlWqS"
      },
      "execution_count": null,
      "outputs": []
    },
    {
      "cell_type": "code",
      "source": [
        "# Checking Number of voice mail sent for customers with no international plan\n",
        "df_churn_intl_no['Number vmail messages'].value_counts().reset_index(name=\"User Count\")"
      ],
      "metadata": {
        "id": "asyvkj5Ulbq3"
      },
      "execution_count": null,
      "outputs": []
    },
    {
      "cell_type": "code",
      "source": [
        "# Checking Number of voice mail sent for customers with international plan\n",
        "df_churn_intl_yes['Number vmail messages'].value_counts().reset_index(name=\"User Count\")"
      ],
      "metadata": {
        "id": "LwtWYigElt1i"
      },
      "execution_count": null,
      "outputs": []
    },
    {
      "cell_type": "code",
      "source": [
        "# Assigning Customers data with no international plan and voice mail plan\n",
        "voice_mail_plan_yes =df_churn_intl_no[df_churn_intl_no['Voice mail plan']=='Yes']\n",
        "voice_mail_plan_yes.describe()"
      ],
      "metadata": {
        "id": "plwBMzb0lxvR"
      },
      "execution_count": null,
      "outputs": []
    },
    {
      "cell_type": "code",
      "source": [
        "# Assigning customers data with international plan and no voice mail plan\n",
        "voice_mail_plan_yes=df_churn_intl_yes[df_churn_intl_yes['Voice mail plan']=='Yes']\n",
        "voice_mail_plan_yes.describe()"
      ],
      "metadata": {
        "id": "1QrK6T7jl07N"
      },
      "execution_count": null,
      "outputs": []
    },
    {
      "cell_type": "code",
      "source": [
        "# Assigning customers data with international plan and no voice plan\n",
        "df_true_intl=df_churn[(df_churn['International plan']=='Yes')&(df_churn['Voice mail plan']=='No')]\n",
        "df_true_intl.describe()"
      ],
      "metadata": {
        "id": "Lhpr3Vzwmf2G"
      },
      "execution_count": null,
      "outputs": []
    },
    {
      "cell_type": "code",
      "source": [
        "# Assigning Customers data with no international plan and having voice mail plan\n",
        "df_true_voice=df_churn[(df_churn['International plan']=='No')&(df_churn['Voice mail plan']=='Yes')]\n",
        "df_true_voice.describe()"
      ],
      "metadata": {
        "id": "OFVIbj4zmnUn"
      },
      "execution_count": null,
      "outputs": []
    },
    {
      "cell_type": "code",
      "source": [
        "# Assigning Customers data with no international plan and no voice mail plan\n",
        "df_true_no=df_churn[(df_churn['International plan']=='No')&(df_churn['Voice mail plan']=='No')]\n",
        "df_true_no.describe()"
      ],
      "metadata": {
        "id": "JW9Bus4dmsp1"
      },
      "execution_count": null,
      "outputs": []
    },
    {
      "cell_type": "code",
      "source": [
        "# Assigning Customers data with both international plan and voice mail plan\n",
        "df_true_yes=df_churn[(df_churn['International plan']=='Yes')&(df_churn['Voice mail plan']=='Yes')]\n",
        "df_true_yes.describe()"
      ],
      "metadata": {
        "id": "RiYeguffmv4d"
      },
      "execution_count": null,
      "outputs": []
    },
    {
      "cell_type": "code",
      "source": [
        "print(\"Churned Customer Shape:-\",df_churn.shape)\n",
        "print(\" \")\n",
        "print(\"customers data with international plan and no voice plan:-\",df_true_intl.shape)\n",
        "print(\" \")\n",
        "print(\"Customers data with no international plan and having voice mail plan:-\",df_true_voice.shape)\n",
        "print(\" \")\n",
        "print(\"Customers data with no international plan and no voice mail plan:-\",df_true_no.shape)\n",
        "print(\" \")\n",
        "print(\"Customers data with both international plan and voice mail plan:-\",df_true_yes.shape)\n",
        "print(\" \")"
      ],
      "metadata": {
        "id": "NhLuyK4cmztZ"
      },
      "execution_count": null,
      "outputs": []
    },
    {
      "cell_type": "code",
      "source": [
        "print(\"Customers data with no international plan and having voice mail plan maximum voice message sent:-\",df_true_voice['Number vmail messages'].max())\n",
        "print(\" \")\n",
        "# Assigning customers data to respective area codes\n",
        "df_true_voice_415=df_true_voice[df_true_voice['Area code']==415]\n",
        "df_true_voice_510=df_true_voice[df_true_voice['Area code']==510]\n",
        "df_true_voice_408=df_true_voice[df_true_voice['Area code']==408]\n",
        "\n",
        "print(\"Customers data with no international plan and having voice mail plan voice message sent in area 415 mean, median:-\",df_true_voice_415['Number vmail messages'].mean(),\",\",df_true_voice_415['Number vmail messages'].median())\n",
        "print(\" \")\n",
        "\n",
        "print(\"Customers data with no international plan and having voice mail plan customer service calls in area 415 mean, median:-\",df_true_voice_415['Customer service calls'].mean(),\",\",df_true_voice_415['Customer service calls'].median())\n",
        "print(\" \")\n",
        "\n",
        "print(\"Customers data with no international plan and having voice mail plan voice message sent in area 510 max, mean, median & customer service calls in area 510 mean, median:-\"\n",
        ",df_true_voice_510['Number vmail messages'].max(),\",\",df_true_voice_510['Number vmail messages'].mean(),\",\",df_true_voice_510['Number vmail messages'].median(),\",\",df_true_voice_510['Customer service calls'].mean(),\",\",df_true_voice_510['Customer service calls'].median())\n",
        "print(\" \")\n",
        "\n",
        "print(\"Customers data with no international plan and having voice mail plan voice message sent in area 408 max, mean, median & customer service calls in area 408 mean, median:-\"\n",
        ",df_true_voice_408['Number vmail messages'].max(),\",\",df_true_voice_408['Number vmail messages'].mean(),\",\",df_true_voice_408['Number vmail messages'].median(),\",\",df_true_voice_408['Customer service calls'].mean(),\",\",df_true_voice_408['Customer service calls'].median())\n",
        "print(\" \")\n",
        "# Assigning customers data to respective area codes\n",
        "df_true_yes_415=df_true_yes[df_true_yes['Area code']==415]\n",
        "df_true_yes_510=df_true_yes[df_true_yes['Area code']==510]\n",
        "df_true_yes_408=df_true_yes[df_true_yes['Area code']==408]\n",
        "\n",
        "print(\"Customers data with both international plan and voice mail plan customer service calls mean & voice mail sent max :-\"\n",
        ",df_true_yes['Customer service calls'].mean(),df_true_yes['Number vmail messages'].max())\n",
        "print(\" \")\n",
        "print(\"Customers data with both international plan and voice mail plan in area 415 voice mail sent max, mean, median :-\"\n",
        ",df_true_yes_415['Number vmail messages'].max(),\",\",df_true_yes_415['Number vmail messages'].mean(),\",\",df_true_yes_415['Number vmail messages'].median())\n",
        "print(\" \")\n",
        "print(\"Customers data with both international plan and voice mail plan in area 510 voice mail sent max, mean, median :-\"\n",
        ",df_true_yes_510['Number vmail messages'].max(),\",\",df_true_yes_510['Number vmail messages'].mean(),\",\",df_true_yes_510['Number vmail messages'].median())\n",
        "print(\" \")\n",
        "print(\"Customers data with both international plan and voice mail plan in area 408 voice mail sent max, mean, median :-\"\n",
        ",df_true_yes_408['Number vmail messages'].max(),\",\",df_true_yes_408['Number vmail messages'].mean(),\",\",df_true_yes_408['Number vmail messages'].median())"
      ],
      "metadata": {
        "id": "pOy4LCWonDOP"
      },
      "execution_count": null,
      "outputs": []
    },
    {
      "cell_type": "code",
      "source": [
        "# Assigning customers data with no international plan and having voice mail plan state list in area 415\n",
        "df_true_voice_415_states=list(df_true_voice_415['State'].unique())\n",
        "print(\"States list where customers data with no international plan and having voice mail plan in area 415 :-\",df_true_voice_415_states)\n",
        "print(\" \")\n",
        "# Assigning customers data  with both international plan and voice mail plan state list in area 415\n",
        "df_true_yes_415_states=list(df_true_yes_415['State'].unique())\n",
        "print(\"States List where customers data  with both international plan and voice mail plan in area 415 :-\",df_true_yes_415_states)\n",
        "print(\" \")\n",
        "# Getting Poor Network connectivity states based on our hypothetical logic\n",
        "poor_netwok_states_415=set(df_true_voice_415_states).intersection(set(df_true_yes_415_states))\n",
        "print(\"Poor Network connectivity states in area 415 :-\",list(poor_netwok_states_415))"
      ],
      "metadata": {
        "id": "1CRIlMkpnNC-"
      },
      "execution_count": null,
      "outputs": []
    },
    {
      "cell_type": "code",
      "source": [
        "# Assigning Customers data with no international plan and having voice mail plan state list in area 408\n",
        "df_true_voice_408_states=list(df_true_voice_408['State'].unique())\n",
        "print(\"States list Customers data with no international plan and having voice mail plan state list in area 408 :-\",df_true_voice_408_states)\n",
        "print(\" \")\n",
        "# Assigning customers data  with both international plan and voice mail plan state list in area 408\n",
        "df_true_yes_408_states=list(df_true_yes_408['State'].unique())\n",
        "print(\"States list customers data  with both international plan and voice mail plan state list in area 408 :-\",df_true_yes_408_states)\n",
        "print(\" \")\n",
        "# Getting Poor Network connectivity states based on our hypothetical logic\n",
        "poor_netwok_states_408=set(df_true_voice_408_states).intersection(set(df_true_yes_408_states))\n",
        "# Getting Common Poor Network connectivity states based on our hypothetical logic from both area 408 & 415\n",
        "poor_network_states=poor_netwok_states_415.union(poor_netwok_states_408)\n",
        "print(\"Poor Network connectivity states in both area 415, 408 :-\",list(poor_network_states))"
      ],
      "metadata": {
        "id": "MVh2U1KfnPmQ"
      },
      "execution_count": null,
      "outputs": []
    },
    {
      "cell_type": "code",
      "source": [
        "# Assigning Customers data with no international plan and having voice mail plan state list in area 510\n",
        "df_true_voice_510_states=list(df_true_voice_510['State'].unique())\n",
        "print(\"States list Customers data with no international plan and having voice mail plan state list in area 510 :-\",df_true_voice_510_states)\n",
        "print(\" \")\n",
        "# Assigning customers data  with both international plan and voice mail plan state list in area 510\n",
        "df_true_yes_510_states=list(df_true_yes_510['State'].unique())\n",
        "print(\"States list customers data  with both international plan and voice mail plan state list in area 510 :-\",df_true_yes_510_states)\n",
        "print(\" \")\n",
        "# Getting Common  Network Maintainance states based on our hypothetical logic from area 510\n",
        "maintainence_states=set(df_true_voice_510_states).intersection(set(df_true_yes_510_states))\n",
        "print(\"Network needs to be maintenanced in states :-\",list(maintainence_states))"
      ],
      "metadata": {
        "id": "ahAauJMUnR6p"
      },
      "execution_count": null,
      "outputs": []
    },
    {
      "cell_type": "code",
      "source": [
        "print(f\"Poor Netwok States are {list(poor_network_states)} and Network needs to be maintenanced in states {list(maintainence_states)}.\")"
      ],
      "metadata": {
        "id": "mG4KMsKGnTrI"
      },
      "execution_count": null,
      "outputs": []
    },
    {
      "cell_type": "markdown",
      "source": [
        "### What all manipulations have you done and insights you found?"
      ],
      "metadata": {
        "id": "MSa1f5Uengrz"
      }
    },
    {
      "cell_type": "markdown",
      "source": [
        "According to my idea, we will get a clear view of the customers those who aren't churning through graphical representations but we have to deep dive into the churned customer's behaviour and to search for some hypothetical statements and insights which might lead us to the reason for churning. That's why, I took the Churned customer data to find out the reason or churning behaviour and the pattern. Then, I experimented with different logics to extract some insights. I created some new columns like International, evening, day & night call duration as well as international, day, night, evening call rate per minute. Again, I figured out those have taken voice mail plan but not using it and sending less no. of voice mails but talking more durations might be facing some network issues as I myself experienced that voice mssg need some more network stability to be sent. Other reasons are noted below which i have found."
      ],
      "metadata": {
        "id": "LbyXE7I1olp8"
      }
    },
    {
      "cell_type": "markdown",
      "source": [
        "![image.png](data:image/png;base64,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)"
      ],
      "metadata": {
        "id": "6K8l2OmvFCos"
      }
    },
    {
      "cell_type": "markdown",
      "source": [
        "![image.png](data:image/png;base64,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)"
      ],
      "metadata": {
        "id": "tc4bQBbCFNVc"
      }
    },
    {
      "cell_type": "markdown",
      "source": [
        "Reasons for churn those who have taken international plan:\n",
        "\n",
        "Because price of INTL CALL RATE/min for International plan is same as the price of INTL CALL RATE/min for NO PLAN.\n",
        "\n",
        "Thus there is no extra benefit for taking International Plan.\n",
        "\n",
        "Reasons for churn those who have taken NO plan:\n",
        "\n",
        "Because they are unsatisfied with the Customer service calls as the average indicates 2.3. (it must be between 1-1.5 for no churn)\n",
        "\n",
        "Reasons for churn those who have taken VOICE MAIL plan:\n",
        "\n",
        "1) Because they are unsatisfied with the Customer service calls as the average indicates 2.3.(it must be between 1-1.5 for no churn)\n",
        "\n"
      ],
      "metadata": {
        "id": "X3uNfbF8FoEm"
      }
    },
    {
      "cell_type": "markdown",
      "source": [
        "![image.png](data:image/png;base64,iVBORw0KGgoAAAANSUhEUgAABOAAAAENCAYAAACmWRqLAAAAAXNSR0IArs4c6QAAAARnQU1BAACxjwv8YQUAAAAJcEhZcwAADsMAAA7DAcdvqGQAAP+lSURBVHhe7N0J2G5T2QfwLQ1oUKESRUmEjFGRMVOohJIyHYQyiwZTokIqjWaqIxEVhcxTojmKkCaFStL0NQ98/dZ57mOdfZ53np73fe//da3rnHc/e1h7rXvdw3/da+15Hv4fmkQikUgkEolEIpFIJBKJRCIxJnhU599EIpFIJBKJRCKRSCQSiUQiMQZIAi6RSCQSiUQikUgkEolEIpEYQyQBl0gkEolEIpFIJBKJRCKRSIwhkoBLJBKJRCKRSCQSiUQikUgkxhDz3HvvvfkRhkQikUgkEolEIpFIJBKJRGKMMM98882XBFwikUgkEolEIpFIJBKJRCIxRpjn+OOPf3jTTTft/JkYTey///7Nyiuv3Oy8886dI4m+cNFFFzXnnXdec9ZZZ3WOJMYLX/3qV5sPfOADzZe//OXOkcRA2GeffZo11lij2WGHHTpHEr2Cj370o82DDz7YvPvd7+4cmXo44IADmpVWWiltS2JCcNBBBzXLLrtss9tuu3WOJKYzTjzxxObee+9t3ve+93WOJBK9he985zvNO97xjuYrX/lK89jHPrZzNJFIJMYXt912W7Pddts185xzzjkPv/71r+8cTowmttpqq2bNNdcszmqifyDeTj755ObGG2/sHEmMFy655JIio3fccUfnSGIgvOpVr2rWX3/9QoQkeguHHnpoc//99zenn35658jUw9Zbb9285CUvaQ4++ODOkURi/LDtttuWycV3vvOdnSOJ6Ywjjzyy+dnPftbMnDmzcySR6C1cf/31zfbbb9/85Cc/aR73uMd1jiYSicT44tvf/nZJ4MiPMCQSiUQikUgkEolEIpFIJBJjiCTgEolEIpEYIf74xz823/rWt5rPfOYzzRe+8IXm//7v/zq/JAaLv/3tb833v//90oZ33nln8/e//73zSyIxPvjPf/7T/OhHP2o+//nPN9/73vdyHE9j/Pe//23uuuuu5otf/GLz3e9+t/nzn//c+SWRSCQSieFj2EtQf/3rXze/+tWvmr/+9a/lbym9iy22WPOb3/ymedSjHtUsueSSzVOf+tTmD3/4Q0lNj/Ng/vnnbxZeeOFi3NyjxlJLLdU87WlPax544IGSKtzGfPPN1yy++OLNM5/5zM6RR/CLX/yiPP+f//xn58jceMpTntI8+9nPbhZccMHyt30BOP0DwZ4Bz3jGM8p7DRbDXYL64x//uPnd737X/Pvf/+4ceQSrrLJK88QnPrHz1ywHgVPwwx/+sHnooYc6R+fGE57whGbppZeefa1g8ac//ekc/dIfXvCCFzSLLLJI56/Rx1CXoP7jH/9o7r777ua3v/1t+Vv/POtZzyp9NO+885ZjYC8o7fmvf/2r/P3kJz+5edKTnlScarLZhuvJlvaqIWW0DgbJsHPJ4i9/+cu55E4766vJgKEuQfWe3pkOAO1tTGmPxzzmMeUY/OlPfyr3jLZfYIEFSnATf/eHRz/60c1CCy3UPO95zyv3F4xHX9d4/OMfX86J8QxkAxEScC/9pI7w8MMPF91SjzH97Ry6ZzAY7BJU70vO6rb1DDJGDmvYF0CbGdPaURmMbgLvv8QSSxS5/vnPf945OjfIpfdsj2V6gC6OPu0L2nu11VYr/1dXOpcuacM7ek6MI+1sLGr30FN+0w7kJoB88Q5xjvGqf8nOYDGcJaghD33JZl/tVkPQfvbZZzf/s6nlvHPPPXe2zI02RrIElW297777ZgeT88wzT9Gf3k8bGG9sOVs53rCP1Cc/+cmylO1tb3tb88pXvnIO+Uj0Bka6BJXOIIN0QiB8LHaWDh9ovI0V6EIy+OlPf7p59atf3fCP6aBE3xjJElR2xLivZYHtIwt8DTaQLAzWNo8myGHIwite8YrmDW94Q/GjE5MPQ12CSvbIJT0F7CT/Z5lllin/wu9///vib9Vx1NOf/vRybTe/qA22VpxMv7DL/K/BxGTq7zpxB3+2Bru93HLLFb/Tu9Y+DV/YdfbvDCCY3Scgfjf2xFPRTt6Fz9/fO9Hf3sPzvZc20HbasIa9a4157+qcGquuuupcsddQ0c228GfoEc9jU/jKfFL+pjHeX+wcoH/E/87FG7RBZ2lb8lFD+2tf8epgoB3V8S9/+UtpJwh9qE/0ofe45557ZvMn4cOtsMIKs2WzW5+5Xjso5HSs/NNE/4glqMMi4CiK8847r7nggguK0QXB8jbbbFM2uEROcJ432GCDssH7e9/73kKCBAj/JptsUoTATHeNI444ogS3NuXvtok2IbTx9E477TSXEv3IRz5Sgh7BV1940Yte1Oyyyy7Ny172sjLQN9xww9nv0B8MPu83FDJtuAScAPLyyy8vyr0NRNXqq69eBhtoQzNzb3rTm/olNhCb+kR9DNBvfOMbpX0FjYPBxz/+8WazzTbr/DX6GCoBR7F88IMfLHIC5G/GjBnNjjvuOFuBU1JXXHFF8653vWu2EvL+Aodbb721ueGGG8qxGltssUWRrSAZAsgWZEOA4rKJ4q677tp84hOfmEvuGBnjYzJgqAQc42bTZUQDIEeMKW2PWAeyeNNNN5X7hhw/97nPLUG/IH8gIJRe/vKXFxklr/vtt9/svq7xnOc8pzn88MObtdZaqxgpIBvrrbde+T+Qhze+8Y3NXnvtVf7P8JIJYyxI2OWXX77ZfffdS8A/GAyWgPO+5MxHGwI+ekPGXvziF5e/OVCM7Z577lkyLsgteUY+IckHA8rcM8j1+9///s7RucE5oO8FE4w8ww30gDH42c9+tvzdFwQf2g2QnD54oJ/boPv33nvvMtZAO1955ZWlr4L0pJMENEro8te+9rWFiAzHDMl09NFHl3MHi+EQcOSB7aqdthoc1te97nVFP4SMt8GO+JDJxRdfXJxQ9qjbRNFoYLgEHNttvMvo0M5ABjiO5IK9Vne6dN111y2/jyf4Cccee2wJloxHdUonsfcwEgKOLiBnfMivf/3rnaOzyHY+hsCMnLKtCLDxhqAHoXTNNdcUXe1DOwKbRN8YLgHHL/va177WfO5zn5vD92P/2Si+ggCef/ua17ym8+v4ARni3a666qrij5AFvl1i8mGoBBw9xIdAwAJiih/ynve8p+g+/qZ7+vBIHd+K+1xb67a+wLflR5Ix/ocJvMHEZMgTPtb5559fJnlr8IVPPfXU4neKp+uJa5O+66yzTvHbjD1+5zHHHNNceumlnTNmEUCh9yRe8O+9y8c+9rESN/YFPoQPDxonfEs6/Mwzz2zOOOOMzhmzYKy7j/ihJv6A/zQSXUt3sy3isbr99Ym4gD7hwx144IHFDvHpHA+ftD/w+V0nttl44407Rx+BSdq11167Of7440uiUPjW2kF9TjjhhPL3QNB2m2++efHPguhjG9VVDOM5iDd9HPqWbPJLyao+E3dcd9115W8kY4CvjQhE3vEh9913384vifHEsPeAEywKonQ+g0vIFEH2KaecUjqWkGOV+0IIZlwbqP+O/9e/gwErSO2LLGifX99HIdACVMrOuwx0fvv38UB/z6Zwa2XfF+p7KAJ5XwBCSNWon9G+pv6t18FRonBquZM1xUDWMwA1ur0jZ7CbARxKe0ymdhsu6ndkkLQzYx6gG66++uq5SORu7RjHuv0W6Ot3s4+IoJilDNTnqRfn3pgPtO/Vvu9oIe5b3//222+fg/RHNl144YXlXYJ4gnYdIY51+y1QH2+fb7bTF2/f/va3z/Ws+DdKoD7WPh7/1sdB8MoWtFGfRyeRG6RhoH2fbvceC/T13Ch0yVFHHVUmk9ozzuAYMhhRjGhELowV+TZcqCOikYPIuYt3A+PURIK+MF4iO841danR1/Ea9Tnt0kZfv9XH27/VaJ/X7dxu5/RV+sJIzg30dXw6gO8oMBQg1WNM8GQC4Nprry12PCZH+murvo7XqM9pl4HQ7RqlLwzm3G7n9FX6wmic2+3YeEOAbsKEfa5lgf4RtCK+2KnwI/qrc1/H26jPa5f+EL8P9pr2ed3O7XZOX6UvjMa53Y4lZoE8gswnsRc/sp6MrxHnhhzXiGPdfmuj2zl9HQvE792OBeJvpJ2sTqQO8i2OK8goRJgJ4SDFHa//hfoaxRil1+nwSEaI3wL1/2u0zxsuPNsEXtu2mHAU++Mm+tpSoF2H9t+BON7+zX35Tyak+yP0ul3b7ViN/n4L1OfQnXw95FvcW9E+6idxJ+xrYuIwpAw4QoU9NRtlVkpWyZZbblmyNWQOyGYzmDHmghWzmRwpzv6HP/zhEihjopXnP//5RdFjwhF6Bq9MB+y5bDOECgExkAmSYC2EWhYHJhdDX4MDJ7g12CjJF77wheWeMdthcPjtm9/8Zkl1/dSnPlXuL1NJAExAvQ/2OfCDH/ygKCrB5HhlwGkLyzDU0z4k9ayDVFpta9YEtCEHBcsuS03giwHHbscSSOfIjjHz4920mzbUh2YLMPP68M1vfnPJqghoT+2sL3otA44BkfnnOn2t72ReCpBlP5lB/dKXvtScdNJJhXSQEm32Stt592gzhNtxxx3XueusmQSz+zJA6mUnZrRuvvnmMuNAjmUCGQfkxYyOoIKMyBqRGWeW1CzVZMBQM+C0vbFEmdvrStubDWR8zQyZiSGHH/rQh8p4BG2P9CGb2txMn1kcM5JmuvUdIDqMRzJfZ8DRL+TQcX1aO0AvfelLmz322KPM7IH6uTd9JGvOGDerZ3aKrpGGTbfQDUhb40T2nhmJwS51HGwGHKdN3WVFGWfIDSnkMjt22223IouCDTNrxrt3pP/M9qsTh0Emlfc240neQi4ZfLLvPbWrMU7n0cEmGehes7OWI4QORMCb8TQ+3F/76y+61f3UT/vR8wIj96AXzIiCfl500UXL/40hOsI5guZ2xrJx4P7qph3C6BuDxpDnybaiV/QF6CuzcmaIOIfaxTmR3TgYDCcDTr2MY/qWPLOJG220UefXptgK4yT6TjZxwHX610xqDbqIbMWSgNHEUDPg9CkbbGyZxNLm+r/WURxu449tJH/avdaNbAf5Y7uNa0RuZGjqp9C7AcS88caG6vsaxjvZcE/PCdtMPk2YsH9m62Ws0t1gDJMls/dtIHLpnxr6z3vIbjUG9R97oV7urU3Uy33NOhtX5M4x+l0b0001+AnsSk2g0xnGmbqZ+Q5oy0MOOaTY8whq3/KWt5T6IGjVGWTCyvar7U2vY7gZcMaR8SKQNTZkTNDHAe1IBrQF/0m2vzakY4A/xQ+Toa5PyRe/hi7iq7hGX9Zgh/qaiJNxS5fLsqTzBJ50gD7zTHIq4yD0TywZ4w9ZjVHDBIrVGTXUX32NVXJHN9PXslLoBf4GPVgvRdM29D5fj/y1/Vw2y1ipMxtAX2ifemsD95Y1YYKKvIMMEG3FBqsP3cxuGI+1/zcUDCcDTjvIgjHh6flvfetb58h2jYlyExv6lf32jjHRZ9zoP23MDpEF99JvbIff2stW6Q6+Sbfg0zPodsvM6HKyYJw6lz4iC/RRrD6JPmPXaxmGiI9q0KvqpI/0hbbXB3xLsuB+fAEy4b58Jm3KT2Vz2eC2fMly4oPxTWvw5/iitSx4B7JQZ/xYiTTjf74uX05bqxf9RD6sEppKoAPI+GAz4GJ7H76KLK7IRqIP2HbjiKz5nezSGWSQX0hWxDLGgz70XDbXtaAObAm/qZ0Bx/9gt8hLjFFZbXwSOox+4v+yxfQg34l9saqCzWOD6EB1UydxCV8IKcWH5DN4Pn+Nn0wPh44C40v/+9e4FOe4jk8l5jIGjQN62dgDv/G1jWnjxyQf+0D/kFE+rHrwl40z9TG2tK/xzXZbGWfSMsbXUEHHeS4779m1bTFGjGc2g13HKRjXkQHHFzcW9LFMP34eP1nd+DniZG3LzzEWjVkw9mvbIlONTyPZJfy+yIBjM7SNf+l/19JX+pF83HLLLaVN+eNIRO1gXGo/fUMfGs/0A9kUL/BnEGrkQ920IZ9MMpT+0H/aPkDfah+6gPxqh8T4Y1gZcJQzIdd5HPcVV1yxKGtG07+E2ADiUIeCowwIVATYBIhyIKjOcx+Gh9JxXjglFJXzGArPJHCUkvRUA8aeZ21w/l3jWvfwTHtHqJ/CoMRSNfektAwmxo6wK/6v7pw2Rd3UNYzveEAdOF/R3sixcCYoVO8eCkC7aWOKxnurr7o6N95boSj9Thm4h3d0jntrK22i7ShSaasGsHvrI2W4SnGsQEGSpVByQUQyehQrZ5pCq7NwvKN3ISfePeRAm1G0DCEZ5AC3s+DICfmhvBlG1wkkKEj/aldKknFBCE0W8m040PZkKcaDthdcMAjagfPJIaz3ItPWIdfkjPyRO/1hjDLcnGPOisDGM/xGBoGc6m9OgWfod8Gs48ZD3c+uJfP62f9B/RCMQbCoi8BZ3/s3/h5teEfjM8YZGNccIPX2PpwaBAS9Cuqkfcmc9lIvddbe2kZgzzlgYAVsMRa0aehXz3INOa91IEeKnub4aItwHKJ/nEOXeI56uE8cV9QpEDrE++hz9fA3XeV9vVMQFe6j/u7tfaIt1ENGs3cB4yZIDO8S43SsEXrBsxT1j3dWOLccK32EDBX8sknAyaSPyWBdnBvEy0RDkM3ZF9hz+JBvnLP6HS2/5sDpH4Vs1u/DbhhHQNci8uI353pGQHsIAgW7ZL2+j8KG09H1/TjHrotxQDYECHENGWOfahhDHFnOaX1/BSkqUKJb9JUgPX6j36Ne9BRbcdlll80+Rpf5m2yC6wUsJlo4T3EfxTUCKP5CbTe8W11/xfWCNPeOYzKFBSMmiqY6tJ3gkR9Gf7OltQzaEoRc8jfoQHKh36Ot6tUV+oQ8xG90WYxJ8H/9gjClM+O8upBBkx5Aj/EdPA8JS579Vsu5ok+dG3APAbrAtj5PIf+CQrJBF9AVIRP8DH3u/9rERLWMr7BnIZMCsIDJJ3bSsXhGFAS7cUB2A9pA/es2RMILhBEAnuuYSTFBKls0XhDsGnuINNsVtGXBBJyJTLLAFrRlgR8QsqCvBLXxm36sZQEsHfTu/IA4ry7agh4D/UuePI8MhCzU8qbwA2tZoNf4z4Lh+jwFcSqY10fgWWE3wuf0/4hv6IWQBZMYiBjBftgUukSfOxbPiIJEEMTX20N4h7YsIyUQFfqeHDvmGgQvYmk6g//DL6h9EjCGkWXGWfh2zgX/dw2/RWn7uXwufUYf8aVcx7+K6yHiUL4fHciP4+/yyfh2URd+ii2V2GpjwznOJSeIWhNqfLI4Li50vev0t/Ej5rHUn96NcWeCjZ5BFpFJckBuXOud3Et9/R3X4AIQOkC/GZfOETvXPpxrTbKoI3n0XPrRe/A9RhJn8h/4DNrMliG1PokJI/0QMWMN9cRdRF8q+p2/Gu0X8C6OO0cb0guIUJMlxrQYNPyaGu7h/ciBvtePZEN9HdOeAX1FBjzbOc5Vx/CbPdtv4Uv7v3uqm3bg67ie/ow2UEwK4ALcj05NTCxmRaeDhM61jxMh5ggJmgw0mScE0qyxmQAGot7ksQbhZCgJHRBgQtstUGFEGWm/uzcBN5hdw2BxGoYyS0OJMLIMJsVYDypgDDklZgo4QmB21AwkgR7PGWpKjHMm6KEQzUhof4qL4kdE1sFwX6AIwtHjVAoyuw08bYpN57TIbtDHZtw4EvrG7H6vgjLxXuRK35nJoIgZOSAzlFIb+pvD6XrXINAsw9JeCCREGiUW0G5mYSlcbclhJptmHMi72VP3CNmeDmBQGC1jS3DFaWYctA0Dy2nwWzdoO7Mx+gk54HxOByKAfJsBrg0yxzQy6hgWZKe+QojoLwbWREAbdBZHhHxwVs1AM84TAUaW/HB2Bff0mmCKfkH+cu76Al1Irr2HdnAuvWBGkrPAYRoIDL2ZceQE+edguXYkMotkQ0i5B4cKAYeU8I5IODOs3ZZjGjNkxXkcQk6YsdqL4Bx6DzJOV3pfOlH9kQnaUN+QUbOMZLtXwDkXdJIbThwdZXzRezXYV+/J+TMhwRaYkSUrNbEE7D1njvPcfldyqX2MaXpZIEAPALvGbpMPzw8b7Llmoz3XHoPGNdvOWWSLQFvTNQG2UbaUYJEfQofX/kAQCuyXevBTvJNJE/4LfaEPBdWIEvcwnrSXsaYvFXafr6Ne5NNstfcPOP+0004rtpn+YjOMc/+XKYlQNOvtOTEpQbchHfSJLAf2yX2mKvSBPtf/5MtY0rf+X4Nu1n7agt8jsJAdwU4gIWrQNzIHkRr8uhquJ7NkkA9EtsInpWtlNLAZ/EByBfoMya7fyDyfSfYwgij0F3lV55BJYx5hIcOBPiV/9GuMLaSLYkyQGe89Y8aMQrhqD7bJ/ckIGSPTMmX4GnSn9nKe+2oDgb9JacFu28cm1+TYtfS89xCgyYw2Rv2O0GGPFWMCQemZSEoyyDaNB7wT8ko7GYfaQF1r0FPama9FFryX7GZt0M7+cy0iwb7AMekT0P+epx+McZOo4SfoF7LAFvM1QhbYYvowZIGPIltdPbUtkAX1D51EFvifZAGRRZbJQrwXvSeuIH9sNR1sYse2MmTVMT4n2SUL4h86zXggC+SLXuSD0jXagdyQF3Jaw6Sw9zXpJfBWZ7IuA049yZ82pH8U5x122GHlN88eT1mYLCAbsrzJCj9Af4Us9Ad9hEjXd3QFGWRH9BvbwhbQKXQdGdRP7bEQIG9+Uxe23DX0IKLYc8idLTCCeBVvO9cYcp0x7zykmnEhq8s4czzAVyaH5Fe9+WdKf74ZGaJ7gLzWfnuA7SW3xid95Bl8xdHyxcXDUUeTF/apps+1Mf3NXzEBzdcA41fbBUEaCQVtaDfvo60jHmTPyIAxyW7wLYwzNoPONs61rT5yX//qB/9v8w7g/uruN8/RB8MFH4q/pX5sHCLeu2sf8srHUV9yl5hYDCkDjlAQMh1I6AzymTNnln0cOKCWFzDmHCuGqxsEAmZdOJ0KB5pC6AYOq1kgQmmwMsKYZoJD4QRJ1g2cFMpIndRNUU/BrgElaGpD3ZFb6kdhhdIirEiB8SShGEckBsXMWVAQDhSF4JtD0FeQxxnlrHnn2ESUQqJszC7XwUOAU8Bgax/Gl7JEVHL0ZB721Z+9gFBeFCuZQcgwBhS9wJg8tuE8zig50qbIRs4VJ4ty5RAFgVeDYjNrZKklxe08z9dOHCPjYjoBKeydKf0YP4Ie7cJYMeLdDA5wRAS6nEUG3Jgl7wwyJ5ljXhsi/cGgMGZh8Ixjzzde/NYNIQMCFgHwWWedVcb2RICjwwiSHfJHTjlJxpqU5P6cHEEEp1ubGZ+KNrB8gOwJGgYCWdUvin4RiI2kLRAZ9BES2jiio0JfcThCV3UDPW7M6T8BBse/l51+faeNySkdSU8Au8A+cHLohTapMNFQX3qOvAhi9X23OgooBAX0m//rH7Ll/+SmhnaI4LI9vj2PPSFXnmmc+z/dSc/6YAsSgm7gbAIZQDLQo2yNe5IhE2DaVWkvC+ZLGAsCVvJv1j/OVdSd803+6CT383xtIMghe2wbm0hW1YH8ei/jkF/iPRRZdPpc0OJ53ieK88iCsaQ+QQYJzN1PXYwN0PbeUxs4bnIvMhDoqakMwQpZiECmW8AjUBIkIT/IH5mRvWCMkbUaZBhBEVkLNUzmyGDSP3Rr9BkfyCQR+ZMJTNaDQDG+TQIICtkztk0d1CVkiu9LZkJuBaZByrMx7ougjfPVnT0z/mS/8FE833saU2QSOUgW2QTt4p3IOT9NvckdIJo9jwwqtQwqxppz2cKYqPIMusl2ABF4agN18v7qGjIoWI1zxhq1LGj/brIgYER4BFFhTGorbRbtHzCetZkx3JcssC1kIdrOPcgavaEt/N/1QEeINTwPSaod/Ut/1LJgfDsXkPXGv3cjR91kwXEBOpKOH+CZ9B1Z4584R6zjHegM78Sm6Bf1Zm/pGokC/Fvy0Z8sIK35GcCX0sdkgXyDdkcK6391VF+6iR6OcxKzoE9kesVYFf/W2aZ9Qf8g7RCtSGf2EZFmEjkIKPJFx5EnE/kmZruBzNAPZE+/hZwAH5pN5HsHxHSIPzJBXyrkQlEHfVyTbzXUhz5CBJO7Gmwecq6OrckkkNlufqxxSB6NQbLoHmIG9nU0YOxqG+3JV2az1UsMrI50Il9GH4L3F2eQ924TkgGxBh1BF4WeMgYRndrRuNUX2sv41r84BO8G2lwsQx9YfdCNXDP+9W2Mw8Ek1/QFtkU70F/86miH6CskoXbwzomJxZAIuIDlK5xbjokBLPgy629ZlNlIad6MTDfoeA4oo6IIOhnPNsxMURwECAg1R4dzy7gwqAwLx8fAboPSY6DM0KuXol7AuBgI7cCBIWXc1c9gVCja8QZlSWF7fwqWkRWoU4LenUI0iBj8bvCb2c7oD44bJaC9g7BogzNCcTEKFLL37ksh9SIoRs6ROpvRRMJpR05TKNwagjKzQIyAd9WWsqNc4x4c5r4IHcZSMEBpkiH/aj//TkdoD7Jl/HBIEEqMqrHOMPUF1zFeAhJOBMPUzTgB2TfeEWiMH/IZAU8PGP/0Dbn3dzcwjupI1yD19W1fBPZYwxjjYJkg4MTQnwgN44/D0xcYaM65NiOz2m+iwdnjVMWSH/1EV9FZdBcdzCnsBuNMW3DY6GtBifsZk4nJC7aG3mXbyYXleWyRZS0yROhO5Jvf24H0UGC8s/98EGNbYFSDPWDv6PSYdQ/SVB0FvpGZR1Y5vUiwGFdkUkYIR5pc8kHYDXvChk+hyLoR/JB/dkOd+gJH3J46gmDP9DyZcHyp/sj3xNDAjpicQIrpN+SXvrI0z6Qvu03+lCDghgP+KD3OpyKDCL3an3V//iYbRV7ZRXIC5Ez/1xOi7kMmg2x0Ll+YHAoqI3taMF/LoOL+3pX8CfT7grEpoJQNxY54f8SLYHS8CLjxBFnQxmRBe/KHtZelvOwvCJzpj8FMYvUFPiR5cA+ywK+hZwICYuQKHUSf8FVCFsiM8U9mAyELoSNDFhQ+A33mmTJ927LA5pIF9ph89gU+miw8Hw8ij2QBuYMY8ltibhjPJm20PYIrJlz6grhA8gjdoE/78nP5dfpC+yOcu4HNIkOW7/OtjV++M/khU2Jk8hFyzM+lL/hUdAryHfENEb/0Bb+7P7lDmtWgh/hrIW9sIh3FP0UidptMci/xNX+P/TdhhTfgE4wWtLEJBaS98UzfymCN5fkm34NT4H8iu2wdoO37gskx+xKrNxhX2lR2vXfWPnSzJBft5G/JM8ZdtDV5sSUHgr2vGEdigdUsSLiRJryYRJQdTg/hM0wKyHK2Hxx/BT8Q7ZCYOAyJXSJYHE3EEGNtXwsb50eKY7D2SC+KiQPbBmG2l4rrFEs0BO5tRcDAxMDkvBAYA8WeLoJ8g0DQ3ddzDHaGS51kNSmIGI6GPVgogvYzGWm/ex/GUqGwsNzq0xepONpAMhjQgheZWpwty3iUUPacrb4GEDLKu3j3GMiMKeVUG/gagg8OmSWnBi8DQIl6d3Xh1HVr516BfpItwRjpK/UWmHUj38iOgEwbUpgMKQWrfTln2lzRvu3ZGX9z2ihyJIM2ZozMLMiyoJCnGxgys+ycC/Kp7ZBFCKX+YNwzSIwjZ9WMDIeTY6kPjQM6BzgWHAxgTCzp4oS4NhwMeqkv0pRzy+iTbX1uj8P6/uMJesW7cpS8E8fX2IyZ9L7AkFqC44MTCMXI1tTm2muwskefhmPAGaArhwuOvmeDeoSeorPIAZ3pHemybpBhgiihr/RjfCSgF0Fu6EB2oy8nqhehvjE5oP5jLfOCTsSqDX79G/aXnqQ3BXtssPFHFw8Xxg8dzN51I64do5PoJ33HJgQBN1hor5jJBnIa79OtIDBilrwbBAWy9aYjQtfoc/0xliDv+sKHf2QwRP+oAx1jWaaAyETnSAh/5K5C5rsRqHQ6P0rwS+8iRIYq88Yr/yvGrfvVMtcu/J7IiukGwSYSYSIRwb22GIkOGAz0uXGrv2WxRDshLQSlIQt8DH05XJCjmMDtRkDwUUMW6CH6aLiyEOOHzNV93y4DyQL/ld+cGDz4b3wxZKVsU/qkP32mvyWsiJf5OmJPWUpkhe8kFhmJPmTnyLIJavXR34gw8sZX5pexlerBvxbrkVH+Ir+MDe0GJD5f3H3aMmTyiI9PxvxL/zkPDyDG7DY5bBwixyx758fK/lQ3K+GQ0UO1zW24Bx8S2SmGxy/YUkicgHxnl2Wm2TtxJONcW9IbYTckbviwmA8vIMO9hzgRTzESX1YbK+43FJ9Nn/KtTLQEz6Ig9kwI6QcxrBiol2P66YAhRV6ESkdSJgQwgirKROdKQcW4GoiCYcTGcMBRwR5TJoy0wd0uBrjnE/huDpRzzGqpk3XnillQ6aYDwfsIFBSBLqaf4rB55EiVxGAgM4vyM/goyva7G0Cx/KbbwKR8KSBkEsXgGmw90sK9+xvMggOkhmwFytrMhtl6BJPZ/V4FeRDM6y/Eq6CToeu21JhRQgogCDiC7fZlzDhGZDhmSIGRNJty3nnnlXtwXsgXg6ZtpPrKrhqKspwKIKccPW1v7Gt7bcPADhZmpyyVFhjIXkSEm8HhANAHnAvGmuy3+0txHFGMkO9rjDLM7qm+xoFZqjbBOh4Ip5njAupvxrk/R7mGGVC6zP5cZA2hob0QwAPB+d45SDN1oWOGA+PBOKLn+xpH2lrWUCxP6AYOm/o7l67tRT3jXY15dfOuAqmREJfjCWODjqIj1T9IgPY4Mc4440q3gKA+37mct25jzW9g0sfEmWXTYYORcjKs2TdjXpu2ERNj3eqHOGbv/ab9nWtSsFsQo36CDDpE8IGQGWqfuY58kk1gT9mAeJ8o/CGBmHfqZnMSs4gjekF/6fdu8hNypZ+7kRPOj2v8S1ZD3mr4jTx4psC3lkE+LL3HfxSMsQNt1DIYzwP/Dxn0XPKk0Kn0XHtcqQP58zu9YUwMVd+6TjBFn6qXCQ6BZC1/imNkUGbXRBNsA0H7kwVkkkka/Vi3GwwkCxDX+Lc/WXC9ZxqftSxYnkZG9I9MXTFHDe3dlz7yd8gCu+o8skDnRAZafU3IAqKATqaPhioLriMLrvM8cVd/ssDnt9onMboQ55rQZcf4/CZp2vLRDZJPxFSyxGRM8XtkvSFjh4sg4IwlMY2/TWgjm40xvjN9y5bJsnKuPQPpFf4yX7COWUKurWTwfnwHBHYNvqqPmpA1GXCy8bSBbG7+u8m2/iA+EGuK2dhu8trXGB8sbGHii/0SgMKHNF5kw4ktTFx7D+003OwvbYOA0270jbYMfzdKjE1LVBGCg5GLbjB5w1fSLtq2tpf+1WfRb+ELgXEvy1471G0qxqDv/CZOQw4Ol6NJjA6G5I0SAM6Kf60pFsQGCKOMInuIjTQLyIBELnHUzKALLNsFi+6ZnB6BN4UxVmA0Meb+7S+de7RgcBu4nCgpuu13RwaafXGOc/sChctIUKRIRUvF3C826BwIBrlgjePAQRlIqU40BEmcDY4Wo4HkQCK2YTNcCpgzLPOt3b7SdGVKUXp1W1HwlBuDZSkRYyqopegYFLKIGLHEZTqCoWPgtL+2H24atXHNSEbGiqw2zooxyIi0+0uxV4uACiFkXPQF44YhHsnSt9GAlHREOYMtI0HGKWM+HJBT7TUYHWi2zmbLHBN9RG77y9jpD0g1gQaCQvZsu0+Q+MYRQ6//+gJnTpaKc7VHL8Jkhqw+wSIZkvGpDScD6Cj9bNaeQ3fccccVndWenTXOZIPMmDGjK2EqcIyZY/upmMUmd7XzDmZfOeWWbAh2a3+AzBmrAmXXtkkzQYH2BeOfLgjIVhK4CC7UXYYtHWPMm/ywl2QNE2b2gBVg97cUfiCwo4IFjrWvR9pftYYAXAaNZaQyrmTSJOaE4ADhYMNvtpkf4oNd7QBAXyI57feHEGmDDyYAAvJB77C7fNIabIHlpmzSzJkz55B1WZFsAF3jvLbe5EdYwmV883vqbAkBLvm1koP/GzqUXjB5IKug9pNM4nofAQ9ilnwPB9pP9iRdGStP2jCmY3ma4K+XwWZ4H+OXz2QSyQRbDROgVrxob+3aBlkI3eJf94j4pIbfZMLwp8Ut9UoWukZ78Qe6yYJ2r2Wh7lvyZ7kgWeAnmuAjD2SELNgEPmQVHPNBEfaWPqGXhwsZPYgWMq60YRKdL4ysrSeRE6MDNkUfkuHhgpyygWKstg0dCoKAC8Qeyewk2xUg487lA1h5Qv+JZ4wNpFnAuJIVSa8anzL+yHZfIIth/8DEMNJvIPCB+ST8V/5Ge9wOFfx+97IFkay6Ggg5+rqtY4aKiAnZKQQZgrvt9/IPtLFn4URcMxyIo8RT/A73QXiGPsGN+CiUWFM/Sn6IScKYZLWC0HLTGvw2fhQdlZh4zPM/R+hhzs5ggEVnrARdHGjCEc6yvzkqyDCkh6WM0m0NYtlThIEBI1QGHgXB2AlsEBqYWmw4A8bRD8GlNASo4XirA6fe/k+uw/xygGIfIc8zOCg2To97OofR855mLmr4BLdZL+eD+rX3gSDQfhcwI/7MQA0G6owAo5wGgoFl8GoPgZC/1UNbySSShaYeDKvUVgOMAZdFox+0LWc22oyBsPySg+BfColDy8nwjorrXUNRcAzdh+IIMAp+1x+MOeKv25LO0QBHlVNp/7DBQP9T2pSqd1Jvfa1vBPIMkt/InTYxk0NRydTikOlPzhVnnMyZNXaNQI58kSHnUbLuC66h+ARc5J7MkQdLoxEbztf22hZBxyHUP+Svl8FgkFHjejBAsmt7fcUJNbai7Tklxh3ChSHUN+RL28fyLLJqHAuuBWPaMowH6C8kvP4gc8aD/tDuxoTMVvJohk8dzJ75l1Fx/8gy8Ax95j7GkPR4/eK49+Wsu6cgTWbcUGSbg2LZqIC8P3h3To6smXqcaSukgPEtOBSEhJzSY+RS2yAojEFtxnlyvHaqEJTIZNcgHLw34oszYvzSjWQyZDD6Qx+ZDWO4XeMZDLrAzT21C11Or5Ph0InqjsCxhNAkiWDG+erFUaNPnS/YcL/IMozxCfrWMY6ifrQBtndTB7PBESA5zpkbKhBDZMH7DRYCM3Ik6AM2LGwbGPdkif6YMWNG2YIBjAXXaVPgvIY9Q6pqZ7LtfmTQ+44GPB+ZQfcMBvpI++o3BJF6mZSpg0A2h/wZB/aIElh6n5kzZ5YZZPLErrhWIErGyAkY2xxwxCSZZadMDjmun4OsJKfkXFsad/yEmqh3XHvK4HaddqM7QP3IDplkK/0uAx7xhvQjg/WEi2P0U+zhwjdgB+kSdfT+9BXZpv+Nq9gHlY01YaX++g2xQTbJAf1S+wjqY6xoK2PaDLP70H/GAQhItJWxEXU0Jr3D0UcfXeo+mSCAo0vtWTMUGNvamj4kE4gY+idAroxdckYGTbgAwo4M0pXsK31hjGl37aoPtCub4CMJ7ksf8hOcayyHrJNjPo3xQIfzab1LgF+KtJAt5f8h8xA+pmerD1tEFmW1sHnkgt4Oe8bWGFN8DBN75Je8smne1fkCWOQcckabyNxXH/6e7Brvy1/WFoIwAZR3JUs1jEfvRc+ydXQNHc3vY2vpJfrfM8lwgG42Ptii4YIf5N3oisFC2wj++RLay1irZUE8QRb0HVmIOOW8884rba9dQxaMZ++nTcmCPtNmfHDtgcgjC97V/YKwIAvhO9MFMmj0aUB/kwV7KdM/7htbRZABsuAcBKE+5Aci/a04CVkI3Ud29Snbz0ZrL5M6zqU71MuzySQ9zT+VqUQWXMue0hMhCwhXekobkPca3oeeZa/EDkhMzyEL2jV0o2c6J6B9jIeRTFj0KvSNjDM6I/p/INDhxra20//601hhE+gTtops8P3BGNdniBFZ0WScfjJeyUPIApA7/oZjbCV7BMaDzHFypd/FemEL2Sj9L9Ms4L1OOOGEYq/IJxtsOaT7Gzehr+zdTl97Hj3gGjJl7LhO34Mxwaf0LO/K1zUO6S0xVdSZDjG2bPivsHHuzxciU37jd5A18kiXGuPaiK5RJ/qNrWf3xfnuqc7D0UWy68VudCCd4FkBz5Y8Q8+w5fzU0Om1D2dMOM/Y4zvTR/qTTfEudA+y0vvw5b0jTgHXof34z/pd+2lXvg0OQJ8Y9+Jcut8YdA/6ypimy9XHc4x/Pju4j2vEEO5vnGv7kA19RRZNZpEvPoV2cL53NmFTt4PnkUnyb0LCdbXOTYwP+OCWA8+7zTbbHDnYr2Ew4gSCoTeYdaYByanSqQY1AyJoxmxTGog0AhlBlWsIDaNBscjOYjDB9YTWvfxG4EPQDE7BIkVg0HJCwDkGjfs5j7JxjuPq616ebVByrNtBNuXpfSgDxXnOrwvj6H6En4M32KViFJaA1QAcCAaktqQIKPo45h0oZuQf55+DQ1FoM/V1rjpHAOC4gadNgHNnAFKwDLJBr1B4ruPEeDft7vf6vbUn4+F3Skj7uc9YgPHgLEqpHww4HhSntlA/9VRfyozBYCidwxCGcdRe3tvf3ldhpLSb4IpCpcDNcGg/99WW0R7OdQ1oZ0rSsyxjIXPkOmTI7wI/hqDXCTgGVTvVRr0/CDQYfQ6vNopx5l0ZIsZXf5JlbQbazZjWjuTMuNZGftdv0cYKPQARoCJxyLln0R+eRx4FKurCQQ4CxH2NE/dxjT5xzJh1DVIESccQcxg8n6FFHg1FtgWE3tO47A/ejY5DBKt/jDMGnmMdJIdJCueqqzqru3eoxyB9QH7rttLuzgcTFNpYpqa2dQ05Dh2ogDoLNOilCEo9h7PJIXO+57iv+9Q60TGkvtl9AYS+8E7GlN+Q0uTAfbyz+6hHPY7iffxLt5lFdo1CHyneFYkhKBoqtDc5MTYHC04vmxK6oW0HjGvtixRk48JBCvkj787T/toM9HPItn5lP+jj0QBHkNM22OWO5M1Yohe1szFC/ut3JCsCOwEbW2ucGIMcO/3MThpnziU3HD//D51H9wahy8mkVxyPNlDoSY49wpuu0CZ1VhDnkiNqTLieLMS1xizSjq7moOsDdYu6sgdxruLeHFrvxBHmONPv3iV0D6eWDPrNe5A79pLcspOOaTeEhnv4WzvQffEc48U9kVJkTt3cnz1DrDsn7Ab5iuu0i/dEEkRQP1ngvQSEQx2f+pae5a95d+Mn2kMxfviOSEz+RgSF/tWmzom2N8a1nWvoEm1Ltuh5cq79YyKX3MUztLvz+RqCENkddRASY0X9BI8h8wq9TMeRBw40u6K4B7kRgNXy7jfENJ+YXKgT3Rj+hXfwL8IDkUeO1E37kBn1pzsAAcVWGQeIHL/FcxSyq262iKGjvJMxLpgny3QwOK++zjsJ+oyX4QKBwG4bb4NFyIKiHeiMul7GIFtFV7CVIQvGijYz7vi9zjWWEY7qELKAuCcL9GTIgnYP/0DRV95/xowZJUhGlAbhD2TBc9XPuFfiWs9kv9lDkyH6mtzoI4G5fq5lQb3pPLGT/kbq8LvUJ2RBn7MRZEF/eRc6zu8mDkIWEGpkju4kC36L5yjuRT87jywYFyZYyYJ3cF/wb32dtkDw1ATtVIFxLMEBqcTODAZ8Av1If4D2IYv6WL8Yi+RA3AnGun42Htgj/UVvkcdaFhR6CdhYpFMQQq6NPXRDP+in8P3oXYRXwDliFrZSvxnLYnpyHPE5OeZn6VvP8xu7Rw7Jj7g+6mWMhFz71/ikc/k5sUTbO6k/XULWQ/4932R4fIDAO5O3sH/8ATqCLdV2fEb3YQec677uNRxdpA/oA3aDzFseG+9kjKkbHcFG15MXtQ+nfuqgaG86hq+DN/A+xmv0tXPYnvB7nKcf+Bh+A/JCDxur/C5cCL9Y39L1+padUUfPpq/cKwhiPg67or5IG+2qn12v/7yP9kTu6WPQl/pUfKJ/TTxEO6iv/nIN20eWEuMPfSHmG1IGHCWA1GDUdR5hr/dMMLANfAYkjKXBJ1g3qAOMlECYM9vec8EgprQolUAoDw4MA0spCv5qMJzuZ6AR6DYoHAGnwVnDbFUowoFgIDBq6jgYDCUDTttqV+1rYAYoZeSjQEs9ZSvVbUmJGeAUocFcgxPHQVZvoGAi248BojBcNxggO7TdWA1YLP9QMuAoGe+ivwPkhJJlZLwbp4tTNxAoOc64NkFCcFRq+esG54YCRLRSbEGEAOMsWDTDGIqxVzHUDDjnMVqMUw1yRt7JrL4hyyMB2dafDE4ED0B/0DFkkuPJMGn//oAIR7IxVMaJscRAkx/GkcEeimwz4hydgTLg1Ev92m1LLhh1+pLjgQCiv0YCwZd24vj1Bc4hA98mbtRTn9IR/UG9zSKTeXqklnm/bb755sXR4Ih4Zw5If9D2MVkDdKD20j/6SzbrUDGcDDiknQCtL31Ix7JB6lTDO9Iz2qI/sBnkVdA+GhhqBlwNgQgbilxoQ/+xpW1YuuA9Y5yxLeTXGKcrOZz6UnCirZzrmm4YSDey/+RA8FDrYecbp9qxDWQd4rkG3YHE9a/7sBnuGcEA0Fn0OKcY2ALvQS/QOxxh12sXcJ73EnS1Ifji9Hp/ARfZ6M+e8Zc8D3E32Qi44WbABYxP+kY/t4F06Taxwecjt8gkQCogxckgfaFfBSrGaEzAuX+QFjX4BzIh6PyaAK6h/9q2hR9JD5DBdhaN82a2MsDUg98ksFK/kOtaL5JrckoH0aeeQeacH9kmgjwEEaKZHGu7bjqH/Q1ymi3QZias+7MtziW7IyHghpMBFzDW+Aveqw36kn1og+4iCzHxZsyRBaSWftB2xjV9IdgPWah964D2JQvO70sWBN10Wu1v6n+ywIZ7fg3BtKzqGogMY4bs0JchC7UuYSe8M1nQZ2SBjgoCjk9EFsRfdIZ78HHregXYB7Knf723/nHfbm0QMKaQhORvqmE4GXB0gMmZmBQG8siH4ucax2QjfC52Qh8anyaOBwN9am/yIODonP58OLpEHwXoPv1KL5Jh+g9BCIhcfo3xQMd006tIpbquxgAZJNdkBxA/2sG/NcggGasnFsk9+ccBkFu2sAbbYUxCu/34BpJchqOL6BCFDabX+/MHagzkw6lr+G3GK7+gBn/JuDZ2+M90UA194nc+k/gSJxIEXQ1jPdq9LZ/kDynLP41r6QXv431r0It0BT9c3fVvDdwLYk5MlJgYGOP6ekgEXGJoGAoBN90xVAIuMXoYKgGXGDwBlxh/DIeAm2wYCQGXSIwUIyXgElMLIyHgEonxwHAIuEQikRhtBAHX22vjEolEIpFIJBKJRCKRSCQSiUmOJOASiUQikUgkEolEIpFIJBKJMUQScIlEIpFIJBKJRCKRSCQSicQYIgm4RCKRSCQSiUQikUgkEolEYgyRBFwikUgkEolEIpFIJBKJRCIxhkgCLpFIJBKJRCKRSCQSiUQikRhDJAGXSCQSiUQikUgkEolEIpFIjCGSgEskEolEIpFIJBKJRCKRSCTGEEnAJRKJRCKRSCQSiUQikUgkEmOIJOASiUQikUgkEolEIpFIJBKJMUQScIlEIpFItPD3v/+92XbbbZuNN954jrLNNts0H/rQh5p//vOfnTMfwd13390cdthhzSabbDLXdUcccUTnrMRo48EHH2y+8IUvzG7r22+/vfNLIjE++Nvf/tZcd911RT+QwSuuuKLzS2K6ge342te+Ntt+XHLJJZ1fEolEIpFomnnOOeech1//+td3/kyMJrbaaqtmzTXXbA466KDOkcHhrLPOar73ve81f/nLXzpHHsGhhx7aLLnkkp2/pg6888knn9zceOONnSP94+abb26uvPLK5sc//nHnyP+EeZ55mhVWWKE4wP/+97/L79/85jc7v87CM5/5zOZ1r3tds/zyyzd//etfm1tuuaX51Kc+1fl1FlZaaaVmww03bJZddtnOkVngRKnfAw880DkyN57xjGc06667brm+xq233lrqc8cdd3SOzMKee+7ZXHPNNeX/L3/5y5vHPvaxzUc+8pHy90BYdNFFm9e+9rXNC1/4ws6R4cF7kdF23RJ941WvelWz/vrrNwcccEDnSKJXQEfef//9zemnn945MnTcc889zbve9a7mpptuav71r391js7C/PPPX8bcmWee2SywwAKdo00hfT73uc81X/nKVwoh1MZqq63WvPvd726WW265zpHhY+utt25e8pKXNAcffHDnyPSG/r744oub9773veXvz3/+882qq65a/p8YfSAWVl555ead73xn50iCv4aAQ7T/8Y9/bN7//vcXX2Q64Mgjj2x+9rOfNTNnzuwcmd5Axn71q19tDj/88GIL3vOe9zRveMMbOr8mJgLXX399s/322zc/+clPmsc97nGdo4lEIjG++Pa3v92sscYazbz/cxCORFokRh+CsWc961mFhBsKzjvvvELKCOh+/vOfz1EQSIsttljzhCc8oXP21MAPfvCD5jvf+U6z6667do70D4QW4sgsY7SN7JP55puvefGLX1wcoMsvv7y59NJL52g/M5MvetGLirP8pS99qRSGuT7nvvvuKwHdQw891Dzvec/rPLEpM9ruibSrz6+L5y6xxBLNKqus0rmqab785S83X/ziF5urr766vGd9/u9+97vmhhtuaP7whz80z3nOc5qHH364OeGEE+Y4p6/iWd5lpIQsEtO77b333p0jiYFwzjnnlP566Utf2jmS6BXQnch1JOlw8H//93/FQJ500knNIossUgKnzTbbrEGsKy972cua1VdfvRD08847b+eqWZMC5557bvPnP/+52XHHHUsWHJI2rkOYPfe5z22e+MQndq4YPtiIxRdfvFlrrbU6R6Y3HvWoRxWbSF9ra3rx8Y9/fOfXxGgDwWmyae211+4cSZgA5H88+9nPLuOSg73QQgt1fp3aQDzyYV7zmtd0jiSQPPx/ssAnXXjhhTu/JCYCv/jFL4ofvu+++zaPfvSjO0cTiURifPGrX/2qOe200zIDbiwx3Aw4M/mykczUIOEQQgGB31vf+tbi3E0lDDUD7s4772y+/vWvF1Lru9/9bjGonJx11lmnecUrXtH85z//Kb8jzATTguoVV1yx9IfgTIahJUuOI6AFboI4f3//+99vfvOb35TzZKi5L5jRRL5xNJUf/vCHZdbXtTJiBNacLJkugm11QBQef/zx5Z4y1mS/1E65+smoe/7zn9/stNNOJWvjjDPOKESd/ke4uuZpT3taOV82Dnn4xje+URz9Qw45pFlvvfXKb8NFZsANHZkB17sYbgbcr3/96zIG6NzbbrutZKwiGbbccsvZ44+eMY432GCD8jcIPjn3xvpll11WSLntttuuXBMEHbKM/kHojQZGkgGHvKc/f/vb33aOPAL1kx1sEqHGT3/606Lv6L2ATEB1oKPqgIbu/Na3vjXHuSYknvzkJze//OUvy73o2qc85SmFwKFTTZ4E/IbIQGAiNfxOzwYccy3y20SKd9HfNehRZGd/JNy9995b+pszVEP2Mh0bNqPusx/96Eel1O/2mMc8psgD3T9dAruRZsDFWJNp2gY5WWaZZebKQNdfxqZra7DP5JU8BsiFiTX99N///rccW3rppctklf4my+BZfCpjgY2u4X7IE7Kmz9nkGgsuuGCRa0SLerXfRf29h2f0BRNw6lLLP6iTccAHIMvGWICu0XZtmVdXhM9EZPeMJAPOe2g/uqENbcw3amcNG5+uaY9d7WZirJYFE5XXXnvtHLKw1FJLleJ6uh70E9/t97//fZlMqeF+9I0xftdddxWdVONJT3pSGQ/0jf5sv0vIc3+yIFPOtfRzDXXSp/rc/8kCHQie4zidW0NdjYnM9HoEmQGXSCR6AZEBlwTcGGK4BFxAVtKpp55ajDKjy8haoijAlJFRL3+a7BgqARe46KKLyn5MnCwzW4LlCLocQ9AhwDjklgMIlBzzPI4sh02Gi6wWwTIyTHbJ+eefX5aROH7ssceWtuYQBzhhp5xySsluswwUUYcQq+H5Rx99dCHZZGeQBzPEdXArgBHoy2pEwDmHA/iJT3yiZBlwqnfbbbdCBKivDDnv8va3v71c87a3va2QjiNBEnBDRxJwvYvhEnB0j+Xo9ENfiKCcXg7stddeJdO2P5AV543WssjhEnACfTrLJI9ApA3k2x577NFsscUW5W9L+dkfOsw19WSQ4HiHHXYoBIgJCEEoWPYvIEdaBOg9JKQsZxMjdK2/6bHPfvazJZM54DeBrixT/6ffZSoHBJ+C2WOOOaaQHoJ+Dk0N7fLqV796DuKiBv3NviJMBfI1jGlkqmzp3XffvZCE9K6gXNuRj7odkIX77bdf6VtkgXaZ6hgJAYf00IayUdqkFyBQENjsXoBtQqKwVW079cY3vrFkPdo6IshSZJ2MbueSYdCPnF6EC3kG8qGPkbiyV2uQQb4DWeMvnHjiiZ1fZgHBazL0qU99apk0u+qqqzq/zIIsWHVD/HUD2UXeG1dt+fX+ZB+Rza/h74H3IbPqT4ZrWD3AF0D2xITBeGG4BByfVsayydA26QV8JbLGvwrQKyELdFMN7Ray8PSnP70c84w3v/nNpY9j305+ueL60N1kYZdddil+lv6uYdKUH0jP0UvtbULI7P77718mZ9id9v5/fEy6Ut90A3lFEJGF9rYpljHzH00AewZZ4It6H3Kg+H8NvqSJWbIb7TDdkQRcIpHoBQQBlx9h6FFwFMyEyRZAvnAMZFo5zlFpz5hOV3DQBD6WnHHKZC1YOgocXAEfUs159lhDpMmY066cNEExh42zCxx4Dh+nR7aZczm64cQPFgI2BBwHWiCHGBQ01+QbIO8MRLOx3bJjvJeABRknyLM8VeBqJp8zNx2CvURiPIBcE6wg0gXVYMID0S3AUozfdkAj2PWb8UuPKII5YzSuo8N7wekXPCIaZN5E3dTTO8nkorMiSJXBKxgVXNtOgU6LaxSEmzR6+9rJDoq98hBS2sx9tR/C7IILLmg+9rGPlcwR+svv9LP6mFDwt/s51zUyedRHRpkMJHrOb+7tvs7XniZbBL3q476ORXZIX/jTn/5UJnssMVaH+p0UZEpkzNC92kHWlQkcBFy7HbQdvXzccccV2zxUWzHdgJxAdAuE63bUj/r3H//4R7GZwJabkProRz9arvH/+hrlwgsvLHts6TPXArmJMUhGyIStHj74wQ8WwifkU9aRPkUekTmyBsaw+vAX/J/8Rea6ezuXvLm3OpMBdXHP9mRdN5B5k3wf+MAHCtnbfiekinFqPIavp64f/vCHm8985jNFhtvXGEtIaaRetw/E9CKQlp/85CcLqVa/i7anj72HNgDjzpj8+Mc/Xq7h19XXKCZk3/e+95X7hgzVsoDIIgv29tT2zgtZIFsIMP6e/g0boP/p75AFego5G7+Rg5AF+idkQRmsLNCP9gykH+v3Uci1Pvc+kQlMFuhThGe3McFfRBgiuieLLCQSicR0QhJwPQpOgJl5QQ1yBiHk4wEcRJka7Zm/6QpLhMwIck442By5cLwQmJxbS0NlsgnozDTGsgXt6vo2OFfIObOd2p9TNFQnRiCA5OMkcvrcj1PXBvLQzLosj2776XgnM+Acb0EzZ9RyDA6bYMJ9E4nEyGEsCuSRTTImBE6yV5BMAhnFBxZktdbwsQa/WQ4egTpyR6ZKXOfjALLLJhqIMhkhMkUQIbJv1VPQKohkX+groCeRUWyNZfoCX9dEkblmEsAyKFkk9B3QSbJAtJX2o3dBe8ra+/SnP130l0BWW2kbH7SQseZc1wg4BcYCcRlKsvQRc/S19pSB6NmyPOhGx9xXBpqguD/IcKbT6ehXvvKVs/soClurHYLIo3ePOuqoYk/UX/ZL3Q6y8wS9bA193W0pXeIR2HNUW7J30YbkkA20pJNcxMQSW278mTFmP5HBddsrsr4QM4iKWBqIMGFXEVl+R5KBPtVX5NMzjUnPki2HwJJFRn74AOyrDHn/N3lmAsxviPazzz67EILuTd7pBLJjLMkIrZdAdoN6kxXki0zCtgyaGPQOAeQTubN1hqwm8thuB5m5CHOZUnX2aS+DzlCMq3gP/WJMW27Jd4tlm3ww+sikJkINIV6/vyLTGDmJhIyMOv1nRQEdZRI2+oYs0Hnky7X6kSzItmMD6B06i45CjlnW6f8mU2U+hizQO4rVFXxGExL6ELnH70TC9Qfnqi9ZII+1HCj8P3oQQifRxSaX6Tv2p90OJpXpIbKQKxsSiUSi95AEXI/CHl+CJdkVAkPBB8NvVk5ghKBr7wEyXcEpsl+b2XJp5mYEtQ0HDInJSbKchRMumOLUm63sbzN0ThrHz54h7hV7hyQSicRkhQCTHkRwCVYtDUUkID6QCkgLpAJYgm+5KL0q2BOYuiaKCSFLn2R8IT7qZZltCJgPPPDAkiWGSFEP2SaHHXZYyeyWgYLscJ5JEkvSfMwCPBsBQ8+Pxt6nkRWNVLEsrI2YLBG4q5dJD2QJAoB9QY7U7WACSGaKTDnLGyNLJdEdCF72V1tqv4022qiQbwgnxAt5tBUDmACzPBk5gQgmL3XbK8gLmeJIp/qr6G2QH0vQkCWWjyJQyDuZ5D/IXEKy+E2GEcImZJq/hQzhFyA3BiLYBgK/BFmGNOu2jBwJjWDmoyDcEHCWJiIakXDI/nY7aCekMnIz9jXrdZAFRUaad0CQyUzTVwhQGV70DBhfJp/pBaQSMrbdBvrIKgjZle1lmTX40VY60HkmYsmCLEtLjhGofEayQDfRg4hV2bKAMERyyXajK8nySOBdZDl6rn5tQx3IgHbyL9CH/Fx611d32+0Q2aBkrL13YSKRSCQmHknA9SAQPoyyZS82BxaM2E9EAMSgckQ4mv05GNMJMiUEQQJFTjOSTdtwmjktsiYEfGYPza5znDgnkSnXDRx/Tr0ZUETcQMsIxgqCUg7WzjvvXJxG9U8kEonhwB5CPjLAhiC66ElkHFIJESC7JJaS+le2nOCfvmSLXBOFfXKO35FT7tkXBIUyRJBaloTRp8g2Ok3WW2S+yYpCtlhCJdD2TNsAIFeQYhGMjwTuKeD2PARbG/aGEtxrD797V7bCe/q33Q4mxJCQftce/bVDYtY+XTIa9YH249PYD057I2llTpI3YNOjfbUtYqxue0WfOM85/S3/RTLbuzOWW4MJTjKJlFYfMsmX4CvInkPAIb1kN5rQQ4iZzBupHUaekBPy9YIXvKBz9BHIpJJlJTvU/2UzGRfe01jrqx3IYLTVZIAtOOyTRyd4BySX7Fh7Q5IFS0rDT/PuoXP6kgVk+WBkAcluQhvpSxb0N9KtlgW/yZClq2TlqRsyjiwgQRFvtobp78MKg4F7qqutD7rJgqw4bWFJKRlWD7JgUngqyUIikUhMJyQB14MwY8XhYjgZUjOaZv4UhhfMoHICErO+XsUx4Twj37SLGUttZImBWdWAczhZnBeOTLe99AR+ZlCRnDIPzTr6dyjg1HHgOG+IPEFb9N1QYCYYgWgTX7P/lkVwqsziW4YSyywSiURiINBlM2bMKMukBPeIJsvuBHL0pmV4CC+gu0xWANLEki/XdCuIvf6W2CI6Yk+lvkBXW4omAEa40d8yOWTzIDwsSXPOSEF/Injq96tB5yI9LPVXZ5M4AW3V7f2jWLrcC0uNexlIJ0SqpXPazLLvffbZpxAastyQcfZpC5AHfeXr5j760G7zKD4khDztC5YVI9/6A18CWexfvgEZlFkm40gdZClZwhoE3nCBfDPmkCTerw0Thsaq5ankEfHn+WCpdrf3j2KprOytyQCkkyXftSxYcun9tT0yDvkFSLKQhY033rh5xzveMde7R0HmdtvSI6B/Y1lnX1AHkwZ0AF+xlgX9RhZkSw7VN2yDPgpZ6JZZSffJhuTjxiRsyMLmm2/e9f2j0MuWwSYSiUSit5AEXA8C0YaA44AhXpAudWGIzfTJksvlLrPILs4Ux5mDJgvOkiHEl+UFlvAGOLICKwEhh+q8884r7WjWFCxfsDTG7DfCjIPl/KE6WWZ0Oc6CMY4jJ1IwiSCsYfbTLK/9lLp9ES5gGYIZW++IPPSONmk2GxubFCcSiUQ3CO4EkTZ+l0ViKSdSTWFjkHImJhD6sZebvYsEfoI9E0FIKToorkMEuMZv9Cc9NxIgYOhrpAOCTCaUDfbZOJkhMvdGA7G/m0C6/cXBABvsS4iWq3pHpAudTteyv9EGCgJBsK4d6OYIjhNzQ0alr1ciVclT3Y6yvPW/ia+whdpc37PrSAr9ICupvs6HURBaykhlECHrfsgV/cgXQAiysybv9PVInwHkhd/C9wiCqQ1kpOW4llUiXhCXCBpjQzvUbaBYCYDMUSaDDFrpwY+xjJKfVL8LWbC/GV0Uk4yy0vjE2oAs6Ke2LGgjY1AbjLSf+HwIQrrSs/mUCEH1NbmKRB6NdkaoeZZJB35nN8hU9uEJskJ2vDv9HO1Qt4EiW3gyyUIikUhMN8z7P4fiSBssJ0YfNnJlCPublQ0wlEg32QeIFWnkgh+Ei42mLZ0QmHAQZcRZlsHhlyXHOeUQjIZjOFGQ9SfYkWEwHHCQzGpymGWvyWLjpNpfRlZFDW1oCYgggNMjqOLUCvQ4exxu2SCWKFkiEc44Z9A1nGbOsSDBEhUOFGdanwhuBbvqAvpGfZwrC47DZP8hxxTvbANyz0UicvIRdeSAPHA2OWeWGcQ1ltbag8Q7kgmO6kj2IRHwuJ+NqBODg0wh8jVZMg2mE2TPIN/pzKEAOWBcG4sCbuOcrhD8GrvGHr1M5yLXwXOM7Vii5l9kFH3sGjrFdfS7JU6jBRMHssHsITUYqBOyyZfz6DY6LzJ92RP6zT5MbAqZjkkLwSxd5L3oNe+LyHOdYzJxfYRAu9CXSAC/28OUXqHLTGpoQ/dynmvpNvWnt2uoB32HAHMf5+mDTTbZpBB+NSwNpI/Vwz31l+d6L/2jzeln91Bvky7gd9lN+ppepbtdXxfLcmVR06vst3fXz5EdSAbiXMGxr6oilkywCIjphqkMS4TJeH9ZRt2gDdk7G9STC3Y32hGBxg8wbkx6yT4CMqGf/WZSLPo1rtNXtulgy2W4IezYWNlKfkecIHtkMpItdjqujSWHNTzPufra+LVE1vgxLiw5rOEd2GNj3/3IvOeRK/fgk3m2McbnUD/39x7ewXuRT6RK1ClKTMx5X/LvX+/IZyDDbblF1iGIPMtzxjMT0z58xqM9JQcL41adkU7epx5T/q9t+FNIN34caE8Tp2TBxxbITC0L2oss0AX0rTYwJvWJ3/1LzxvXbVmgM9oZaJ6nH6N/YwsYpJzJ8NrnJgv6n36Ne/oIQnyIS7+HLJAP+oj+o5u8A33kNxMEcX0UumXmzJnFf9x0001LHcgdGSVXdGR9vnP5sXxWMo7snu6Ipe4yLBH7iUQiMRFgd3z8Z57/BZIP248jMfqwkTDn3dKIgcB5kZ3ga00MeQApI/CwHwjDyngw8gGG3T5hAgAO2WSFbAPvIPAaLjionCIOKsfe7Ogee+xRiMw2OEbam7PEyavBGZb5xumz717Al6cEHhzmvmAGPzJKAjaYRgwK+uq+DXCWBdKcV45Vfe1AsDeIzYRHEtxz7sgopzUxOCB3kOMHHHBA50iiV3DooYeWQMeXDocCGVcIJZlRfQFBLgssdLoA3fKpgfSWjA57OY4WfEDAxEK3Ddy7Afklm4x96bbsHpBkiA8fJoiAl13yDLpB0CgwbgMRg/RATgiWPcfyp/4gyETOmbxoQ8D8pje9qRBbAk4TUDvttFPZ/L4GPW/jdERLf/As72MPpYCvvupvwStb0YYJFME7GyLThV6295fgX+DP1rRBNhCXzp/qy77YHJM/loQOBTJ4fME2iMw2yAMi1xizN1jA8mdjDHnSrb+QDDFhZssJZLLlwANBQO49usGEFMKGzbYNBLvcJoGNC5lJ/IL+IFtJ5qSvI/PZAEmCjCTv3bLYnSfz3XLL8ENsQ2GCwbg0NtrgByBb2KehTkCMBJay04XeabCQ2UdH95WFSha8vzFo/Acsn+e/kQUTBm0g0sgC/xtZ5f70yUAwYc6X7gZ2nr5CFNILZCE+FBKgr9gP9+kPSD59xN+NiVrEoYAMWddNFiI7mB6LL3Rrc+OJLPQ1JjzHMtV2Xacj+OA+wiKOQlgmEonERECMYRInc5N7BGbSzMpw1OrCWAexxuiarW3/3p7Bna7QPltssUXJOozZz27kG/h6lf1GBNJ1eyo2YRZA1uQb6Aft3T6/Ln5vz64hyTzLjH63a2yA7utXSDgzot3O6auoUz0Lm0gkhgdjr61f28X4ljkR6KaTu5X6mokAHSHjQlDbrX4K4si+kkG+AfJKkCwzWVZX+xqBoT2n3v/+9xf95Tl0Uvu8bqUvvaWNLfVTX+fR44i9Ngbb9kq7/elbe0jJ/u92vqAf6aNNgE6XrYNI7dYOio3j6fncc6lvIEfIVLf2UxAmSKaafIOjjz66TD4iFLpdhzRGsCLuyNVg7SgZ6guyzpAezvNvvZVFwPVkq33fboWs1jLvw1rGDdKn2/nGExms/RDyxZ9AeHe7BjGkHcaTfBsuBpIFeshkSk2+gQkPe5v5kEK360yAHnPMMbOXCw9WFpzXF9QFqec8499Xc9sgC4id9n27lbbPrs6+/mq1RbfzTbaQBb5iyCwCjv9q0qTbNeSLLCT5lkgkEr2HzIAbQwwlA84SBzOaZr8sdwmEURfomIU3GyubIRABT7dMgsmE0ciAAzOBsScRJ0Qw1xe0szZvfxxBe3cj0vSN8+v2byOC+PZz9Z3ru2WQ6FvP1Nd+N8s6WHhHzwunbDjIDLihIzPgehfDzYAztumPbtlNAeMsSB+gC2JZXH+gD4zz0cJQM+CAbrHcqS/9pY7erVsgSqdqm27XytRBQmibsGOe0x+cK/juRsLRy7UeVy+lreO0OZ06UNu7Tv0i8yignp5BN7ehHZSh2AD7i3pOt3eaahhuBtxAfdaX7QUyoXTrL+PRtWSX/Lj/YOyoDKRuz4JaPtzbM9pjw29Rr/5AJjyHn1bLR3/tQZa0RUzABgZqh5H6A8PBcDLgvLP27eYTgTb3Lu33h/7Gbq3HhiILsS9fN9TP0y90+XjKQkxqTAZZ6FVkBlwikegFRAZcEnBjiKEQcNMdo0XAJYaOJOCGjiTgehfDJeAmE4ZDwCUSo4XhEnCJqYnhEHCJxHgiCbhEItELyCWoiUQikUgkEolEIpFIJBKJxDggCbhEIpFIJBKJRCKRSCQSiURiDJEEXCKRSCQSiUQikUgkEolEIjGGSAIukUgkEolEIpFIJBKJRCKRGEMkAZdIJBKJRCKRSCQSiUQikUiMIZKASyQSiUQikUgkEolEIpFIJMYQScAlEolEIpFIJBKJRCKRSCQSY4gk4BKJRCKRSCQSiUQikUgkEokxxDznnHPOw69//es7fyZGE1tttVWz5pprNgcddFDnSKIvnHXWWc3JJ5/c3HjjjZ0jifHCJZdcUmT0jjvu6BxJDIRXvepVzfrrr98ccMABnSOJXsGhhx7a3H///c3pp5/eOTL1sPXWWzcveclLmoMPPrhzpHfwl7/8pbnzzjuba665pnNkFhZddNFm1VVXbZZffvnOkTlB/1x99dXN3/72t86Rppl//vmbddddt1lxxRU7R8YWX/rSl5q77767WXvttUtdE92x7bbbNiuvvHLzzne+s3Okt/Cvf/2r+dnPftZceeWVzd///vfO0aZ56lOf2qy00krN6quv3jkyJ3796183F1xwQZHhwOMe97hmlVVWadZZZ53OkbHFtdde29x+++3N85///GajjTbqHO1tHHnkkaW9Z86c2TnSO/j3v//d/PznPy+y8Ne//rVztGme/OQnF1l48Ytf3DkyJ3772982n//858s1Dz/8cDlGFugitj8xuXD99dc322+/ffOTn/yk9GMikUhMBL797W83a6yxRhJwY4mREnC/+c1vmrvuuqv51a9+1TnSNPPNN1+z1FJLNX/+859LoLLssss2z3rWszq/zgp+brvtthJEBOaZZ55mueWWK9ctsMAC5di9997bfO1rXyv/74bHP/7xzQte8ILmuc99bvOoR419ouRQCTjveeuttza/+MUvyt/axTuq76Mf/ehyDLTdt771reYf//hH+fvpT396s9BCCzW///3vS/u24frnPe95xVFv44c//GFx5GrnvI0nPelJ5foll1yyPPs73/lO85///Kfz6yN47GMfW+r7nOc8p19n4Lrrrptdz3nnnbfc/9nPfnZx0PWP50SfDhdJwA0dScD1LpKAm1hoezrlPe95T+fILCBsdtxxx2bLLbfsHJkTF110UfPud7+76ObAU57ylOZtb3tbIXzGEhGkH3bYYc2Pf/zjog/f+MY3dn5NtNHrBBzShO084ogjmj/84Q+do02xt294wxuaXXfdtXNkTvzgBz9odt999+aBBx6YTbo88YlPLIH7eIw1ftuHPvSh5qabbirjhDxOBvQyAcdPvuGGG4os6NcAP2q77bZr9thjj86ROcHH2mWXXZrf/e53zUMPPVSOkQWyf8ghh5S/E5MHScAlEoleQBBw826zzTZHrrDCCp3DidHE5z73uUKOIeGGCo7Y5ZdfXoips88+u2QGKF//+tebP/3pT+X/nLRnPOMZhYSLa7773e82Z555ZvOpT31q9jUyEcwCI6nM+skqcJ8DDzxw9jntEsQRh8M1j3nMY8ozxgocX8/syzFuAyl12mmnNSeddFKpL5KNUTWjGcYVUebdjz766OYrX/lKOY8zxTnXtp/85CfneGeFs77EEks0iy++eLlHjfPOO68E9V/84hfnui7Kj370o9JeSy+9dOmfd73rXc1ll10213nf+MY3ChnoPP1R47///W+pBwfw2GOPbc4555xyzVe/+tXm+9//fglQkZWCUwTcggsu2LlyeBBwXnHFFc3ee+/dOZIYCPpEMPfSl760cyTRKzDmjXEk6VQFXURHrbXWWp0jvQNklgkieor9Yzv++c9/NgsvvHDRz2Gv2njwwQeLfl5kkUXKJMkf//jHcq13HGsf5f/+7/+KPTEB5PkbbLBB0c2J7pAZxPeQKdiLQJjoU1lMT3va08oklaw4/77whS/sM7uR3uBHhQzymxBxsp7GY6x95jOfKbY+5H6yZGEiO/ksr3nNazpHegdkgT4iC/qVDNBR/GGy8KIXvahz5pxA3JEFeksxiUsW6KJelftE3zBZz3ffd99955ikTyQSifGE5Bz+Zu4B14PgLCB6PvzhD5esJETNYostVgpCDHkUWV3IOE4BskmHInyQcBwG5z/zmc8sTofsAhkJglOOBefDfWVVATLHEqF4jqw5JJ5sEll4HJZeAgP6hCc8YXb2V8xyao+YrUSGOaY9gVOLrJJFxrn2vt67Bmba8qlu76vtoy/CqQfZgnHcv/6WNeh37e+4Y9o02t2z1b9bdiGn32zdnnvuWdo++lI/+u3cc88t/wpQBbaJRCIxWNAZyK777rtvjkKHIs2U0CtsC10oq619vuV67E7o2wCduummm5aJI0XWG/01EExUmVD59Kc/3bzvfe8rOnawoA/b9YviXbtlIQdMeAjO1dX7WGooixnY2Ppe3pnz5P/aBOlQ/64N2+jWfiaQEETd4Pz2faPU2YEBdqCuE3tXX+PdEEu9BGRYt3fUJmw4IlafBvSfY+3zFe+rD2uws5YWmqjSryaXlllmmc6vfUMG/Cc+8YlChB1//PElS32w0G/d6qfog24+RSB8OEug9aUlr0G+eff6XmRQif/X/a+Ev1OjW/u5pvaXJgraxTvUdVO8h6Le9bjyLt30l+J92mPdhKwlx/qVLOy33359TgLUMBH78Y9/vMjCBz7wgULWDRbtPquLMdqfLCQSiURi6iMJuB6EzCzEEadZmuLMmTPLviBRzM7X4Kjat8TMKWflZS97WVnG4FyZTaecckohce65556SUWcvDEEGgs1xJNDb3/724vzFMzgrnFoEkOf/9Kc/7TytN4DAspTkFa94RflbwIislMHACQOzl5bjAqLRnipmv3bbbbfiXHvf9rISDp/MM2nqbeywww7FgdM+sgw33njjct/NN9+8+exnP1uOa9NtttmmkHV+l3nnuGwchJy+4dAhRC1l6Ja9pj8RpYI/GSPvf//7Z/fLVF5Wl0gkxh4yjd/xjneUJdR1ueqqq8okzVFHHVUmIoANoPst3Wmfb4lc7JE00ZAd3K5fFMskbbnQF5Aj9DQSxNYD7GsQcDLF63vJ8Nlss83K/xGL733ve+f4nQ2uIRC3NI/tqM+z7Qc70A2Wwh5zzDFznB9FNncbH/nIR5otttii/G7ZLALT3mFxDXvn/XoJJseOO+642XWMok34K+wyexfgu1gW3D5fMfGIiJpo8De61U+ZMWNG6dc2URgIH47/YYLQ8nIkHJDd+l6vfOUrZ/c3efzoRz9a/KD4nf/YhvbTpnGO4h4f+9jHupK64wkZ+Pyxum4KOebvvPWtb51jXGkP/mr7fIXsIBYnGu0+qwu9QSe0icJEIpFITB8kAdeDuPnmm4tDydG3x5RlhjK+oiB2zI5auijbgPMmEEI82dNC5tRqq61WznWO2T7Orn8RagIws3CR/QZIuPoZlt+Y9TOTjLDjwPUSZJOpc51BxrlFwJlZ59TJBDTjWCOu8e4Cr+9973vlfZFziDQZa66VBddGu43UIY67XxyPOtXnxzHXxLlxrA2Omf7xPpxwe5XEfWSFCKiQeYJF/ZNIJBKDAbIGaYRYomfqIusMCSc4DMJK5omMWxM77fMF7ieeeGJZDktfTQTs6SRrzh5U7fpFkVmk/n3Be9guAAEnU8akVOh2x+p7ybyRpeX/CBcTXPXvyI9LL720XMuGIzje/OY3l+VP9XlIgjPOOKMQZW3CwN+y3OvzoyAi9tprr86Zs8BOxO/stEkgE1JxjM03QaT0Aizf11/aKeoYRZuQN+1VT/rZUxCB1T5fMSnmnhM1SSh7y9I2drlb/RQ+mqxH8tQN+gvhiMy2xNHS7ZBBqO/leZHpRR7joxHxO7IVeQUm8bQpP9KqiThHQfZ94QtfaF73uteVLTEmAueff37Zm03/1nVTyDFClizUE6K29NDX7fMVskPO+XATAf3y5S9/udl555271k/RJ3TDRGceJhKJRGLikARcD4FB9mEBwQJiTco70qy9/5qlOjbnPfzww8tGyL/85S9LMICMMXNqc/7YV4wTJwUfISe4MLuKlHJ+f7A80r18uMFyEU58t48W9AKQUfZD4twKLINk9K+PHfS1/Mn7IDu1mww1+88hOzl3iDkE3URAfRCs6i7AsxQ5ZoDJhWwUga86CxYTiUSiP7AtssQsbaff2AOTMoLzKI7ROfR9LJFiRwTosmzqc2XlWmbKVtmXUjA/EZBJZaKF7lfPuo70I33pnWQk9wXkhQkX97DkkI0MyEDWTjEJxh7KyJFp5r4mUUyU0ceWLyIukYKIEZNByBFBua0h6rr52IRn6QtEAxseQMDQ+fX5iiwqtg65oM0F88AeyKpRx+g3pGRct9566xVbiICZaOgr+4XJMkcyIYPrdyRT3tF7kMOADC9ZgfW5lgfKJERAut9E2WukJwLLxJ/6q1fUUZ+ZNDPpJtu9JtVqeF/Z+sgZclQvv7ZlhUywmHTVbj4OgFSztQX5taKBnPINtQM5RObJZEWQ8/ne9KY3zdF+yHg+Hnk1gWsf3vEEHytkwX6Csm/r+pkQ9X7koJYFE9BtuTH+rIgwht1vonxV7UwW6EX1rPUmglZf0hn2Ce5LFhKJRCIx9ZEEXA+B88Bx54whYQQN3TKc7F+GeBMwceoYfY4bo26fsCDfanBkZFIJLgRL9deguoHDiIRTB/93jVncXoTASDaYPV7U0/LdyOSwVJVT2gan+ZZbbimOmvaUibD88ssXwhNhacaVIzcR0FeCR868bAtOKgdc0CZLZebMmUVWMgMukUgMBgg4GTYCc7bDF7rrZWvKBhtsUAJ/NiW+Am3yB1FE95usQOIpyJzIipaxxf5MBIIs9Hz6PupnCaksFEttLf9kB7pBhh9biMQAkzW1/WQbfGiF3RQ4I0G0lQxxbeM4okDb+T997Z7sikCcbZbdZEIo6qb4O0gCmWA1YWBSBQlXn68g0fSDd5UNFhk0srfZPrYa4Sjwr/tVW7AXiJmB7P5Yg9wgEH3Axpd8YzlvXfyGhKtJKMQnsMnRHrIW9bn+92597ak31kCEhhwaX+qlfvrCigRf8bUHHf+rW9a7a2PvPn3qvWsSmDxqF3LB19HX/vZhCCQw/2zDDTdsXv7ylxcii/xpC/dDuMsgQ8b5inu0XbSf+qq/L+KPd9YYMhaBrl1s22Ec1XJgTCEjyQLiKuCYd7blSLwLshuZrS2RXxMpC5F9auybEFY/YxNZbBmwbVDsL+cdEolEIjE9kQRcYkqAg2NPE4QUx1KwKOgQfMR+PjUEMxxAwQynjaNqKUtkInBM3WM8IBjzxdxvfvOb5W9ONTKQw7bTTjuVQAUxyKFznuUlijr3t7QqkUgkQGBP5wnEfV3RpIQJlhomdF772tc2r371q4u+AYSP5XVI/9A7Sp0x45y+9rYaa8j6ktmNtKBH6zqaYEGS2VagJjRqCJbrYN3kB5KjLyDy2JqAyRqEUQTT7oeIkQ2FEGCDECIXXnjhHHWTGRfL6uj1mNxCmrBLsuLq8xUkg7rqS/3o3m2om6y9muhhTxT1iv1RJwoy77UNghFR2N4DVfY++UPIxEcIwDYY7HPdLpYaxseoFO83EUB6kUGkrCw29Yo6IraMDRn6CLluWU/IGstKAwi39qqHGoi4IMhBXxsHMRmnHcghuUNSkRftI4s+6qVYtouUc+5EEJiIQcu/9bnJxrYsIBrJAp1ENwW8h6WptSyQDf5TENQTJQv0EFmgP7WtNo46IuLIggxGstCNjE0kEonE9EBagB4C54wTxTBzIjhGA0EAYNbedZw4M9zhzNfgsCOXOPiCEZlyA4GDzynjNHAI+wtMJhqCyU022aS8F/JMW5g1l+3RhrYV/CjezX4cMstsPi5zThYiYoszPR6bO9uzJT4Koe8U2SqCOlkcli8p++yzT8nUE2AJxgTGnNhEIpEYCLK86DvBXzvYBUH8jBkzylIuupMesiUC3WQyQuZJZKcg8WReTTTUycSLyYo6e0bw60NC9jG1J1NfyxPZtTrjjW3QRiMF0gMJEMtWfXynrl+7yLQDGV3IBRnPMoPWXnvt2ecgrfoiEicLyJR2QRTGO9dAliLfLJc0CaUvtImvmZpwck20h2WX2oQPNJFAyiITLQOOuilkztJDS0ORcohWctEGO4/4DZgQHC0Z5EPy45A+vgpb169dkITjCQShd+1LFrSrTN099tijbMfifcjCqaeeWlYF0GNR93XXXbecM9ErApCxshHbsoB0tj/kscceW8Y3H3U0+jiRSCQSkxNJwPUQEHAMuOCIweZsIIDas3mcKksWEGqINY664EnwYNmLWc8g4Thfzjerbj8QBBzCzvn9wTXIHUtdALHVzpjoJQikpPUjpzh0Ah8OPKezDe1m6YNsALPJAqS6CAJcr/3twTbWEBhrb/9aiqTN7UeHFLTkhpMKHEzH3vKWt5RlGZy4iVpqkUhMZQiOkPjGoqwdenayA1FhckdmVr3nWA0TD/S+SQgEgkw3x9glXx5EKAiA7ddkwmOiwU6ym5Yyxl5LCtIQSSjDxmSFpWDdwKZ5NxliQP+yoyMFQsWyOfcVgPvoABIp6udrjep4yCGHlL1c2R2g702+8AHsM2dvK+fbr8vfbNNkBjuNcLJsmQ3uBuOODOoLfkx8lAHhYh8t7eHLp770jqybaL+E3VZPvkb0r3LCCSeUL5aGX2Zyr1tmVj2JSpZHawml+yLejHl1sxQ25KluQ/KndPOVxhLGRshCt49eAR9N3/OD+UHnn39+0cnGh8nJeA97JtoDcqIJarKAWHzRi140u50VsiCbj59HFviV/p9IJBKJ6Ykk4HoInC/EmD1nzP5Jq7eHjQDQMoUoZvc59DZftjTIDD5HlFMi5Z2jj3BzLseQcyN48q+sBc6B4KCegTO7WD/DubvvvntxJgQHruMA9wrUV/1jRtm/imwIbWc215IQM6txDng3e8TJ7EBc+kKdPXgscVF8fU5gJPNA8BZfC0Rkuk/dRrEEyHF1iePxvPr8OOaa+lzFsbiXgFLfgeU1suLszRLncs4FJJz6XMKQSIwNkAB0qb0Y6VbLh2KMTkawLZZ0IYbYDNmztQ6KIpC1bxUbgiygj0BWh+VVzqEXZaD4wieETlNCl9X3HEj3QVuHxm9KrUeVuB/oIxl79sesz0GqyZCyFIyujPfoBm1imwJthBSqyY94l6iLOnq+/8fv7WP+1laWzbG/stnobKRn1A/pIDCX0Yw48FEFUFfPZ2tlIyJRnG/Z3fnnnz/7YxHRVvF/xf+VaEvwb7RXnFu333jDcl3LJ9lZMhbtURfvSQZlfaszeXMcQcQX8X9tZBN/WevIYoj3jnao7xn9E23Q/g3av8W9wDnta+K3a665ppBB7a+gek91tiTRWFLPuKYNxGTsP8vfY+cDrnG9fxXPrp8P7X71f3LNj3FvRLrMKwRv1M9krOOWeNrmIr7eO17g65oA1X4+XFG3XRR6iiwceuih5X1DFrQpn9T/kV6Wm5sUiExX7RH9p9T3HKhfwe/Oq3+Le3W7Ju7HThi3tg6pzzGe11hjjSIP/ta/8axEIpFITD/M8z8H9mHLNxKjD+nz9to56KCDOkcGB46Rr8whXxhrH1eol3+aCeR0CBp8DUuQKEPDV8KQSH4zK8yZ4xi4B+fPLKvNgGULyIZD7nEEOBochFj+CuEw+s3+FZwH9xsrnHXWWcUhl60wGFhWdP7/HHVLowQt6oZss+RUpgBS0jmWdwqCzKRyRL2nmcfIaOGkypwTIHl/M8QXXXRRCZac574caUsH7Hkk8BQ8aZ+Y7XQP7a2P3Et/2ODcu5hh9nwBvXPdD1Fa96fg0Dk2IebII1gFH+DeirqD/nAvdUMecp49cyS45JJLiozKnEwMDvpYZosv0SV6C4I1GcKIj+FC1oVJC/rFmLMkbttttx0wc3i8IGD2BUObeg8G7AAdaJzbI5M+6ZYtQrfIIOYTILboBlm39BY9RG8JHEOngXuxUYhK9ZKZqw8C9CR9y7a4h+zdgD5CDLJb9rdEgNU2y//V03XgOZZ3sWGOsZOW99HH9b5YQN96rs3qbXxuGWg3qC9S8swzzywZZiZgIhtIW/nqKR3tGdrGJA/9ixTzbq4hKx/84AdL1rT6IiwVpIe9qdijaD8gU+qGSNIuno0wlBmDjNAOSLyA9vYstl/WkGfIbooltvaYI/PaS7Y6u6CdvAtixbWeTX75DPGFyeHCWGBr3/nOd3aODA7eVzt94QtfKHLU7jNQV++4wQYbNEcffXSRDcs49YE6y5zynvogyDfvpk18iMBHN/STCcpAtJ9nukedNXfEEUcUItRYt0ww9n4lg2Rcv7umHi/aVnYbopfc6gd+W91noI6e6zh/S/3CltcgC3wgpKx3IXPGE5BPJJR31f9kCbFmklG/O8734dtpK36HMWYPPce8Ezkmc9F+oC2MkSCcZcEhjoYDE8Jk3zgaLDzXV0K1n7butgxV2xkflpiSAeODTPNba1nQLqEvtJ/+9/Vf/hQZq2McsqC9tYd2cm6APNMtfD1jMiZDQxY8x3P5cAH+Jn+AHkAY8sPp2vrDERCy4D09hyyMpU+dmBOWsNMJtp7Jdk8kEhMF/AtOJVNoehAcPbOplqeY6eNY2z8kin3eOH9m/AQVZu45lIJEmQBm3jkozkUWOZ/D6DdOLacDaeW+nBDg3Erzj2dwzNybE8KR6zWDxYFSZ/WMgNC7Os7hMrPKabKMhTMEHGkzpP72m+L/zuG4ASfaLKv7xX21h/byW/SF+3g2eGYc96+/w7lVJ8cd84xod8eiOC+ez7Gz1FSfcjoFZYjBODfqKkjjlAsAEonE6EKQaxwK5uhWmTvtgGoygT5BXiHsZDbLEq51UJRVVlml2X///cvkkfMFicgr+j/0Fv0o+BfcAr3KxgRZQcfV9wx9K3ils+vfnA90IJ3qGJ3p/2wTPeq+cT4bJYgNfamf6MfQ03XxPESUyQwkXF9AWNkEXht5RwQGAhZCX7uXZ7IBir/Be3n3sEPgd+9sYgQxpz3Vsdb79Lj381yTPlE/9p7tj4/uRDF5ZjLPpJvrwm5pP+0TbR82TXEeUkJ91E2d1TWIqIkAskOG0IEHHjjXO0bRbiaX7P2FrLKUmMwiONTfOf5FhOy3335lUs17k8sgqbRFfU+/OR7tU/9GdsDv4Tcp+gtpoq2QRfU10b6ABCKH7Wcq7D4/yhJEpC590g3kwxJFvp938EGR+Aq7OrsXWVQX9/R8fwO5VG/9GnUij9qI7iJ/JorIULSfYiy5j/ZFGtnHbjxBFvilJgVsFxL1qguSec899yzbbmg7Y4AsOB7vQlfQT3vttddsv4+e0Y76T5vU9yQLjjvP2Kh/027Qlyxoa+1cX6MN3QvIArmMPquL66xusZzc5Ek3IjaRSCQS0wOZATeGGG4GXIADYfmhJQltcNiXW265zl+PgJH38YD6GoEFUk7QxNEDs6q+0NUXODQcNteZjR5rDDUDzj5GZrI4WgHvKbC0DxznxnIdX/4bCJxnWQ3e01IGwVc45QEzzhyye+65p7RxX+BAC5JkGggkOdLhnA0ES2L1KydP5p6g33tw/gRYAY5ofPF1NJAZcENHZsD1LkYjA06wJaNDEEwvWLY/3puU94ehZsDVkN1LL9JnbdBbsXQfBK+IHsv9BP5A/wh0tQf9FoitCpAV/dmWGoJ+EyZ0rqwvwXF/oPPYvdCN+ocdiMC5hmBYYC/DbiB4rgkqy+F82MEHb2Sw0eGWldWgp9ka7UJOtAc7qS6RTcR2yhAz2dVuv4D6e5b3qSe41EUGjusCJlrcS7DPL/B8bWGShi1k74PMVJ+4r5lWwX/Acxz3+0gIgOFmwAWMT/2tfdtgw8mRfwPOt21EyKwxicDRv9o27DWSzvvpezZ0MECKIP0QOXwn/w4EzyDvyBay67ro+xra2JgiH4OBbFMZ+Igz2WgydtyXja5hMoCvwR8JIo7voJ0UQKB7N+d5p7r9ahhLyNA6q2uoGE4GXACRxler5TRA7smCfg3Eu7gOyIL2IguWcsc4Iz+OGScXX3xxOTYQkKTaw731abRlf/AVV7KgDvpD3RB7bZAFugPJnhh/ZAZcIpHoBUQGXBJwY4iREnDTCUMl4BKjhyTgho4k4HoXo0HA9TpGQsAl5gYiTcBtTzEEpQ3rZRgnumOkBFyiO2w/YR9GpKIxbhXEZMBICLhEYjyQBFwikegF5BLURCKRSCQS0x4CMllKtnaw7LbOvkokxgsytuwfKzNUVlUikUgkEomphyTgEolEIpFITHvYf82G+jZwTyQmAlZO2JNNlmEikUgkEomphyTgEolEIpFIJBKJRCKRSCQSiTFEEnCJRCKRSCQSiUQikUgkEonEGCIJuEQikUgkEolEIpFIJBKJRGIMkQRcIpFIJBKJRCKRSCQSiUQiMYZIAi6RSCQSiUQikUgkEolEIpEYQyQBl0gkEolEIpFIJBKJRCKRSIwhkoBLJBKJRCKRSCQSiUQikUgkxhBJwCUSiUQiMQ3wl7/8pfn973/f/O1vf+scSSQmHv/4xz+KXP7ud78r5c9//nPz3//+t/PrI/j3v//d/N///V/z4IMPNn/84x87RxOJweGvf/1r84c//GHI+s915NO1ZDWRSCQSiZEgCbhEIpFIJKYBPvShDzVbbrllc/rpp3eOJBITC6TaRRdd1Gy33XbNeuutV8o73/nO5t577+2c8QhuvfXW5sgjj2w22mijZq+99moeeuihzi+JxMD46Ec/2uywww7NzJkzO0cGh1NPPbV53ete1+yyyy7NhRde2DmaSCQSicTwkARcD+E///lPc/bZZzc77rhjs/nmmw9YDjnkkOa2227rXJ1IJBKJRN9YYIEFCmnxla98ZchBaCIxVkDC/f3vfy+ZSYoso4cffrjz6yOQFfevf/1r9jmJxFDw85//vPnJT34y5OxJMkc+FX56IpFIJBIjQRJwPQbLLzgId9xxx4Dll7/8ZS4lSiQSicSgIPtt2WWXbX7xi180N910U3PXXXd1fkkkJgbzzjtvs/baazdHH310s/766zfzzTdf55e58bznPa/ZddddSybTwQcf3MwzzzydXxKJgYFIU4aaOUlvvve9720OO+ywZp111ukcTSQSiURieJjnnHPOefj1r39958/EaGKrrbZq1lxzzeaggw7qHOkfnIKbb765ufPOO5vzzjuvLLd4wQte0Lz61a/unDELX/3qV5sf/OAHzYorrtjsu+++zRprrNH5ZfLirLPOak4++eTmxhtv7BxJjBcuueSSIqNI3cTg8KpXvaoEiwcccEDnSKJXcOihhzb333//lF5mufXWWzcveclLCgkxVNCzMq0f+9jHNmz/m970ps4vicTgsO222zYrr7xyWSo6HHzve99rbrjhhpJRFHjRi15UlqJee+21zeqrr94cfvjhzZJLLll+c+z2228v+78FnvCEJzTbbLNNs8giixQSrw3+1Be/+MXmnnvuaf75z392jjbNYx7zmOaZz3xm8c8e97jHlWP2Rvz+979f6hR48Ytf3PzsZz9rHnjggfL3QgstVI7xuxJzwrJgbTWUrNpbbrml+Lt0NTz+8Y9vXvrSl5a+ueKKK5rf/OY35bgJAwRYwF5sV111VXleG/qHXD7lKU/pHGmKzFxwwQXNb3/72+bLX/5yWdqsD+nPGnxtvvSiiy5a/lav888/v+z/FtmY5GWllVZqNthgg/J3jW9/+9vNd77zneZPf/pTIZFf+MIXNj/96U/Lfoay5sjrCiusUJZYt+EZfPrrr7++c2RWezz/+c8v+87dfffd5Zh70P1k/tGPfnQ5lhgctO32229fEhxi3CcSicR4g61ga+b9nwNzJKOQGH187nOfa571rGcVEm4wMJvL+eAccEw4nJwE5AjDy5HQVww8J4JDaDbu6U9/eucOkxecD86L2e3E+OLHP/5xcXj33nvvzpHEQDjnnHOa5zznOSVgSPQWrrnmmhLQIEmnKkzQLL744s1aa63VOTJ4CAbZDxM9Ast11123BCSZTZQYLD7/+c83z3jGM0rm2lCAzPrWt75V5Nc9vvGNbzTf/e53S/FhBZmZCAd+E7l88pOfXK4799xzy/mC6DgfubHhhhs2T33qU+ci4CxpJePHH398c/nll5dnxnWINksRkTTIFmSJJYlInU984hOzz1OPK6+8skx4+tt4seJgscUWa570pCd1Jf2mK6677rrSXq95zWs6RwYGUpWPfNlll5X2tZ2KfiAD+ts9HUeE8XGDjJW5+8lPfrJMHEZfRVEHMsM3nn/++cv5jn3gAx8ofen/4J7taxFayyyzTJFrsMJEVubXvva14ps6xySl+3eTe3JmIlm9yZhneKZJZQGX9/N8dSPfgV//+tflHGMC4Rf1cf59991XfiObjiGPXv7ylxeZTwJuaCBXCHlJC9l2iURiovCrX/2qOe2003IJaq/DklQBpZnFI444ovnSl75UnD+Bv5m+pz3taZ0zE4lEIpHoH0svvXSzxBJLFDJBdpBAs9sXJxOJ0QbCzfJRxATfBYEcRcY/gqHOVgsgX2TIOU9WkCy2/kCeESAItrguikwn2VPqgfwA2aBIEdlN/g8ID5lGrllttdUKoWPvRD4Ygj8xMiC6+LDLLbdc8WllISLVZOjKXlxllVWKrqKfPvvZz3auagpR++xnP3uOPjVR/dznPrf55je/2Vx66aWFYA3oT5PafOYgdE1019cryDcT3QEZaDIxTaCvuuqqs6/tC+5JNhFs9idEFJLxkD//R8QhDyOrTgYogveMM84oRJ9JvajPwgsvXMYEohlJ7J3V54lPfGLzqEdl6JZIJBKTGanFexwcVplJZsbsXSH7zdK34447rtl///2nRPZbIpFIJMYHAkQZFII4mUKIim4b3icSowmkBAILoYBY2X333UvGUBRLMvra/80XUhFmznvzm99cSIj+4D6WI/rqr+ynY445ZnbZZ599CsFjWR/Sx/+RK5Y5vvvd7y7/lw2KGLK00jNPOOGEsvTPO8hIyg9AjBz82Pe85z3NW9/61iIPoN2RppYW6zc+LvLThEHA10hdV/frUUcdVTKeyYXMR8tUA3Sdfj3zzDNnLx/ebLPN5pA9hZ+91FJLld/BMz/2sY+VyW+ZlJaU9odNN920yKb60q1IRUu0bYXg/r6gKmuS/CMIkcQmQGQAyqzTBnvuuefs+uyxxx6lPrK1EMGyCz/+8Y8Xkm4gAjqRSCQSvY0k4BKJRCKRmEbwNVQBIgLO3khIiERirIDgtQzUMjAEFzLBPnI1kBWjuaSfTHvmjBkzCtkTBfEXQNbU+8rV2GmnncpHH0A2FCIHaWJVQmaMjg0QS5al7rfffoVoQmqddNJJc+01aDmy/ok+dd5HPvKRkh1nGetEf5ws9idE4tK1IIOSzrUFgP3tyJDtPyxLRfbZ69k1AUTjK1/5ypL5lkgkEomphSTgehycC86G2TP79HAC+5olTiQSiURiKMjst8R4AHFleamlerKc2nsOWgLqtyAsRgKkxoknnlgynyw3RXZEqcnm/mRf/eo6tuubGF3Yk0/W14ILLjh7iaU29/96yaUvkcoqiyyy6NNe02Nt+ekGmXqWoSJ4vXdb3pDVozEeEolEItFbSAKux8Ew+/DCDjvs0Jx66qnNG9/4xrL8wWbBHJGrr766c2YikUgkEgODDbH8zvImkzoDBYqJxEiAHJH5419baShtyH5yvNsecEMBQuNHP/pRyaSyf9jmm29elhDae0uxXDGWmSZ6B5ZnxtL4biAbNtH/+te/XnTXa1/72tl9yje2ub7l9ZMJMuXsUUfmu2XtOdZtrCQSiURiciMJuEkABlqKui8v2RPCZ819xt8mr1LYE4lEIpEYDOwjapkWQgTpYR/RvoLeRGI0gOyyqb4sH/te+arkXXfd1fl1Fnz50tfQZTSNBAg4z/ClMXtnbbzxxs0mm2xSvqoqy84y2CQ1Jh/IBfmgv3wwQX8qli3zj+2jNtDefLLJ+NM+ghBfREUK86NNavsyna+PjhcsL7Us1cdA7PesBBCN/rZHZyKRSCSmFubdZpttjpRhlRh9mIHl8K255pqdI/1DGv0tt9xSvoqkMLwCJLNjjkdhlDkJAigbt/oC1GQHx4pTvuuuu3aOJMYLnM8rrriibEKcGBzOOeecskfNaO5ZlBgd+Gq0AMum3FMV5513XrP44ouXr+UNFXfeeWdz/fXXl+wg9sNeQzKtMyMoMVjYFsNXLE0KDgZkS3aSr5wqyDFLUslg+DVnn312WVbID+L3uAaZJtvp2muvLV+QdJ593WS4IWScx37xH9xLFpXsNkv7rA6wXYcso3jOddddVz4EgcQB+3Ih4xDQ9913X3PxxReX8+yN6Df3QtDwt6666qpSd0DiWDLp3rJIpzu0K0LL3n6DRfi5vlxKJ9mLTz/Yk9LXP/WDe2pj+olcIG31he1Y9IsPGvha7Q033FD6jq8ckwnkx7VKgAwhYMmVe3uuyWzyJbsOEeZrqvrdV0ndVz084+abby4TF2TMJLjjCjn08QeyQeacR/6c57ivn/7whz8sPhaSUB39Rr4suVYPy6TJKJ//gQceKPf1Pnxiz0Rc+3rvVPD1Jwr6XR/LlMwxm0gkJgr8H5M9ScCNIYZKwDHkHFufJOdYAGMcjkoUDgijbOZsqhjlJOAmDknADR1JwPUukoDrH5dffnkJOJEI9hjdaKONknxLDAlDJeACiBSkGbKh7dfITiKHyC/kHHLEEjyEhY34EWfOc9w5iDPkCaLEcVlv9pZbeeWVC+mCzGDbTFginJ0jCF944YVnf/3UvfhYfCnkjn3jIjsOWYI8Eay7/oILLpi9hBYJKAtrySWXLETKdMdwCDgfTfCFUYQVQkuf8nt9ZTZkQltrZ7JGNrQ1ovT2228vGWLO8W98Wdd9EHn61f+XXXbZQnIF2AXBD0LMChLXI9n41HzpVVddtVlppZXKPSxrRQo7B3Hn/fjoPtwR9VMsm/WxDveRxYlENjmunjLyyKMvnSJ/EL+OqR8ScfXVVy8xgndzPh847ouUQwQaL3R1EnAjQxJwiUSiFxAEXK476TEw5pw6Bn2g4jznJxKJRCIxEHwlUDbH3XffXTI9Ntxww84vicTYY7XVVitftNxtt93m8mde//rXFzLYlyP9bYLD8miZZv7fPr9dEBmINECcHXvssYWgRuDEOeutt17Z6B8pgrCJ62QYBZFSF2QdMs/92r+5RiZTYnhAqtlSpd2udXFOfHRMW6+44oql/0wcxDn6FzF14IEHFvmK44i3NjlqP0BfG0W0xXlR3vWud5V9lddYY41y3WKLLTbXOd0KGUGSIcvavrs6INqcQ9/Wv5Ep1y2//PLNm970pvKhtfp3xfJpxBuCLmUtkUgkpg7mOeeccx7m+CRGH1tttVXJfjvooIM6RxJ94ayzzmpOPvnkMvuZGF9ccsklRUbN+CcGB9lVgoADDjigcyTRKzj00ENL9osv5U1VbL311iXoPPjggztHBocTTjihZPLI5LCJ+f7779/5JZEYPLbddttCYiHTEokjjzyyZGzJaEuMHixpPfPMM8uSVh9g23777Tu/JIYKWazaz1JhpGgikUhMBGRUm+jJDLhEIpFIJKYBLKOy/9Gmm26ay/0TiUSih2GZrOWqMvJkgiYSiURiaiAJuEQikUgkpgFmzJhRMo133nnnskF4IpFIJCYWsrJ8hXW77babo1idYG88y1Bzv9lEIpGYOkgCLpFIJBKJaQB7adknyb5XiUQikZh4+OiDD0n4ImxdbBVgzzpLvnO/50QikZg6SAIukUgkEolEIpFIJMYZPjbigzhvectb5ig+OGGPbh+fSCQSicTUQRJwiUQikUgkEolEIjHO8LXUzTbbrHwMqy6+FuwrqYlEIpGYWpjnfe9738M+dZ0YffhC3UorrZRfLhoEvvKVrzSf//znyxefEuOLr33ta82HP/zh0v6JwcHXT1dfffXmDW94Q+dIoldgLx1fjTv88MM7R6Ye2BZZETvssEPnSCIxfvD102WWWabsJZhInHLKKc19993XHHXUUZ0jiURv4Xvf+15z2GGHNV/60peaxzzmMZ2jiUQiMb64/fbbmx133LGZZ4EFFnj4sY99bOdwYjTx17/+tXn0ox+dn7weBP71r3+V8oQnPKFzJDFesMmvLyM+6UlP6hxJDIQc272Lf/zjH81DDz3U/M+2dY5MPaT8JSYS5G/eeedt5ptvvs6RxHTGdNC5icmN//znP83f/va38vGheeaZp3M0kUgkxhf29rTv5zynnXbaw695zWs6hxOjiZ122qlZY401mr322qtzJNEXzjvvvOaTn/xkc+mll3aOJMYLV155ZXPEEUc0X//61ztHEgPhjW98Y7P22ms3e+65Z+dIolfwnve8p3nggQeaj3zkI50jUw8yj170ohc1e++9d+dIIjF+2HXXXZsXvvCFzf777985kpjOOO6445pf/OIXzYknntg5kkj0Fm666abir33nO99pMukkkUhMFG6++eZmo402auY555xzHrbJZ2L0sdVWWzVrrrlm2csh0T/OOuus5uSTT25uvPHGzpHEeMGn7snoHXfc0TmSGAivetWrmvXXX78sRU30Fg499NDm/vvvb04//fTOkamHrbfeunnJS15SlqImEuMNX2VceeWVy1LUROLII49sfvaznzUzZ87sHEkkegvXX3992Q7oJz/5SWaOJxKJCcO3v/3tkpyVH2FIJBKJRCKRSCQSiUQikUgkxhAjyoD77W9/W1LpfvrTnzbPec5zmle84hWdX+aG/SFsjH3xxReXfwNPecpTylKaFVZYYcqtyx+tDDj7a5hdvPrqq8t+XYsuumhps6WXXrpzxtywyZ8ZH5uNvvrVr26e+tSnlj1b2nA/Hz6wp0tf8HUm/TuWs0ajmQFnM2DLKX/5y1+W/R6WXXbZslywDe1Kdi+//PLOkVlYaqmlmlVWWaV59rOf3TkytTHSDDjteNFFFzW/+c1vijwBudOOZKcbyNtdd93VXHvttZ0js0APyOzp9f3oRpIBRzZvvfXW5i9/+Uv5m957/OMfX7KaFlpooXKsL1hGQecuvPDCJYXZuE7MidHIgPvnP//Z/PznPy86176U66yzTtGBg4F+Pffcc8u/7B4svvjizWqrrVbGxGhgJBlw3/zmN5sf/OAHZQ8KCPmzFcUiiyxSjo0G7LlzxhlnzGFbjGv6+GUve1nnSGIyYrQy4Opx5v/PeMYzim/z/Oc/v3NGYjIgM+ASvY6pngEn7uEb/uEPfyjxzpJLLtn5ZfrgqquuKr5NgG/Dp9l0002Lz5xI9AIiA25IBByHWmBjkHOWDHhfUPzxj3/crLvuuuVLit0QBBIF+OlPf7oQdwGDYsMNN2y22GKLQnrMP//8nV8mP0aLgPv1r3/dnHbaac3/+qq0O8d39913L0qlxle/+tXmwQcfLEGffQ6QnQsuuGBz6qmnNs973vO67ntgU1JEgj2T+oK9lPTvWJIio0nAaSf3u/POO4tDj4B8+9vf3vl1FrQTEuSyyy4r+8/VWG655UrbvvzlL29e8IIXdI5OXYyEgNOOvmBrXN9zzz2zCTiyph3f9KY3lbasyXWy5otU2t4XqWpQSkEuPOtZz+oc7T0Ml4C77rrrinx+61vfav70pz+VY9oGUaytttxyy2axxRYrx8HHMVzj34cffriQxXSu/Zfe9773jRqhM5UwXALuj3/8Y7FliHvtTX988YtfLOTZIYcc0qy33nqdM7tDf7Jz7KMvsfo7CDj9ZU9QNmE0MFwCjg1GDn7jG9+YS/7s60X+Rjru2Hu6gA2yN9Sf//znzi9N8+QnP7l8PVgg9NKXvrR8SCIx+TBaBBxfkH9CJxpzvuxLD26++eadMxKTAUnAJXod40XAmXDiS9sTcSCwf2IUunSkdeInfupTnyrx4oEHHthsvPHGc/jd0wF8P7Yk8KhHParEcMcff3yZ+JsoSE6oJz27Qf/jQJ7+9KenXzTFMawlqMif7373u8273/3u4vh/7GMfK8HGQJDx9rnPfa4QORSCLBeznJwtgbogx71+9atfla9DJB4BgkwgiKjwldD+IOjjEOub888/v/TXUCDDQ7+0S1/Zc70GBAUZQlKYVe8PP/zhDwtppF2XWGKJkp3iXSlr9zj77LOLXAoKEt2BkCebnG8GZplllpktM4J4v9kQH6HhXCDDdIbMGB/cQAyvuuqq5ZrnPve5JXPzlFNOKTNZUw1kiZ5DlCMioq04X2T3hBNOKBmBNWGBFKJvEcjGtd+D5EyMLsipca+d3/WudxUdikwaDGS7kWuye8wxxxS7xr5FH9MxnMGJBPljIzjqbfkD9lkmUi1/w4EZ+GuuuaY57LDDilOJfIxnsSU33HBDmaxDkqa9n74I3+aCCy4Ysq+SSCQSvQj2z6Q+P2KgwkbyOfpbgTRYeK4Jcb72SG34ZAU/i5+x0kor9dQEPkL2Ax/4QFcZiHL44Yc3F154YSFuB4r1E1MDQ4oIBIkUhWWjT3va00qmhv8PBIpBsM3Zfu1rX9t8/OMfLwrqpJNOanbYYYeSJWBZjCVpnLLELGiXH/3oR4W8FIj75H9/QZzfBFb6RtqtrIahwNda9Uu7rLXWWmWJUi+DbHLiI/PN35ZB9gUKUcBMhvfbb7+SFeJdZWzIWvzd735XyGZBeaI7jFVyGcuGBPchM4hghJoZH7NykW2DjJcZIwPumc985mwHxDVIJobTDJ7ZyqkEYxmxu8ACCxSSl8xFW/n6r6wg2b+IC5mZARMWZsMsTTWuZQz3+licrKA/tLV2NgtpCfpgJx6+//3vFzlGkJLr173udYVkjj7+6Ec/WrLLJgr0oXEV8rfPPvvMrpuslRe/+MXlN+POu4wE7DySmF7wzux8PEvGqLrINJSFF8uwE9ML9CEZYHf5h4jaiSaoE2MPYx9BgCiQ/ajwIfgJfK44piAR+ppsomNcU5+v8Eki67gb6Jv6ObLxPUe9ari/c+t782EExiZl6uPsRvv6xPQFPWa1kFhMDMKHs40F341voZiIaq/2Ikd0YcgV2TQ2yFZ7fBg/kRxAHvnV5NjYIrv+7/o437U1yeee9Rh0rme4lpzHtSHzbahX+/7h4wfq8encuv6ur9/Vb+0xZBx7xzgnimv7mrCxMoyfYTXVjjvu2Dk6N9xbu9Xv4P/hj2iH+jfF+w138tuELK5ETB4+fcTqCv/evT/4wQ+WDD4JDTX0a10XRTv0R9T5zTn1Nfq826Syc8lQnKc/tIU+cTzaYiRtkJgbQ/J4BH4ItC9/+csl0JCxMZi9XHSYwUbILEcLZpqDbhmNLBhCqZMHm3EwHUDwpSrKSjCALaXsj/BEdOgXRYA/nUCBcOhltJEjhJBMy77AUSOXZO+Vr3zl7EDbskkZWWTTPd0r0R2MifEsW03mj6V6Ae26wQYbFENHcTNoNegCy5qRu5F673zF3wzHVAKnDCFpWeRnP/vZInMBxDq9amxznOpJCETQlVdeOXtcj9YSxsTckAVrWa92pkf23HPPQkoNBvb1k1lmmQMi2mQGB6tXwL7KcDZOyZ8l1AG2xZJWQQEHa6Sz8SY19thjj6IXLG23Z2kAqWlpf+iFyIxNTC/wB03E0G2CVPpwoP0vE5MfxrslgJYw28JB4auaoGDb4phy1FFHNbfddlvnyjkhe1ZGSX2+8vnPf74EmX3Bc+x1Gefb+kaWPrtbw8QrPV7f+x3veEeZlLXlRn1cRvtoZDAlpgbYO5PJyBQTyvzkN7/5zWWf5PDjLLtvL7M3+cVvCLniW5uwQmS9//3vL/Ff/LbddtuVLYaMJzrU9hEy78VAtn9wfpyrkHMrfgJiHz5n/K4u4nmTxJZx2l/Yce9BT7dhiesmm2wyx/VHHHFE59dZcL/43TZTnsf2+1vG19577z37d/5IezLOmLQ9TpwTZf/99y9Z9COBNpUUpI3jvtqIfwT0S9Q1iqQCK6eGAzwH3fO2t72t2Du+WKx4USTZSEbip9EvJktr3H333XPUReFbmcTsC7fccktpq/oaz8AntIFn2G233Wafp69OPPHEEgMjNUMerHaSFJQYHQyJgAvmVsCIvRcoDyZDgMAJRjhdMjwMcuCAM2iWC2JaLYUZTEbddIFBYTBqa/vlCGz6y+rSH85V+juvLzAYPqShcIjf8pa3TJqMRGSl5X2IG8SbTZz727Mu2ojsXXHFFbMJIlmYMpDIpv3zrMlPdAd9YPyHLvB3QLvaqwzxZOYv9IT/2+MHCcApqfWHPmR4zG5p+6kG7aOd6M/6vb0v54zscta0Z8A1MaaV3Bti7EBWkVHaWR/RD7VM9wX7+cm6NbGEhOakcJZ9gIRTI0DrBdTyV8sRZ5wzH/I3WNKxL3iOttOO7TaMfWMdowtSnqcnYo9asijj3Lgx9hJTH8h3Nk92iyIG+MIXvlCyPuKYglj40Ic+VLYCqWHJMpJAIkB9viJoFNwLagP0m49tyYhpPwdZx/8TcPpXYA7iEdfV96a3kHCIv/q4LSLqjd8T0xth/+gzPkX8Tdcde+yxZWKPfJpwYP/CPxaD1ONCMgoCBPzr7/jNGBJTu3dc5xzHu8muax2rUd+P723544wZM4q/Yhw4bk9uY8aKFYSY7X3EhrGHcVxvHJmAFDuGL1HXAbnG9iOq/Y04QhDF755vbCEPwf21lfEf50RhO/hYlmwOF9pIu9X31R4xIej3+jdFG2vf4UD/8r3CxpGLOl7nO2pXsqAtot9NVtiuAwnWro82NEnRJj5h5syZRQ9qq/oa+3SaZNZ2tvsJtGVPXyEF+bHOC3nA3yBy/Z4YOcYl518Wh6CbEDKmmGRKCBtsCYLjZuBlHaVDPguEniI0ALWLmRFpzHUwM9pAfmC3FUs0ORxmJ3t9GaZ0WQaN0qa4LP9C5lJyfQGhaVbm3nvvLTOdyEYyyZmSzSJTA+Ofy/0GD1/TNTOmHe0nZTaOzPrIi8AejG/Lo308QOp1AOFpCR8n2HFB2VQGx4YR1FZmORlTBk5GsSzMxOSB4I7upIc4lWZJQ4/qV8shEKy9BF/TDfmj4+k8zrGM1OWXX75z1uhAwOo5irbg6MkGlaWc+nX6AVktg4F9oOsthzZZNpa+TaI3wNcXbL73ve8twR1fwCSvgFdGPP2gvPWtby0TzvSpTBW+nSDR5CiiQGCJtN13333L+Xw421mA32TOIA0AUSCQ97cAWLZQPIe/Z9LfhKEVJJHhImZByslaQSqQT/oRQcCv5NOYsLZ1hKC9TW4kEgHyjcTiG/vwGBkjy2JeckmWTHpZeSMm9je76Byyi/RBYIltkHhWiZBbyQFk0fYRZH/nnXcucQvZlelk64eQc8+R4RXgh8uYQ+DI0vMMpJn9x/jqZJtfKpsPMUU3i5VsHyU29DEL94z7I8vcn8/Dj0fQvOENbyiEHh2v3t7PNeptvIhr/Y54M4Zku/KBZXsh39kI23nEM6Ig0sUVfBYk0XCgfY1dE6RIL5ANJzsWrAZA5mtL8EGLN77xjcVvGQsg3cTb+hkhR09KWNIGZMdKLHWQNRftICtNf+EJkGL8KrB6w+SELD77ctdtJ1ORXCFSZQsHxBxkSMacvYv1h+fjH5ZeeumyJ/Iuu+wyW19notToYFwIOIMvNqE2uAiaQJtw6WDKQMZSzoA+Am0jSKIMfX1PVpdBOdqgWCkz96ZAkaOKweY4xtuA7mXGG0Fow3TKC3ETm333BwqE4qXwkZ0UPpm0FyEyyOxSL23iORnAOUaEakeOM4fVzB8j0NfY5ngjMMzYkDOKH/GJHJ3K4MwY49rKGGOAGUYOx0Cym+gtkHPOD/3DYUZgcSrpUf0p8NPHsmt7BbLQww5bkmAGO+RvtJcCCp49R5EpwtbE/ic54Tb9QO4U/gXfxkc6Ug6mB8QAfNp11lmnbFOBeBAMC8r5nIJMBTkhWBSkI2z5wnwDckOPWsIlWN5mm23K+ZbD2W/SMla6RVadvSzpZoSHIBWJZumrEs+RdWJyW6DNf+G3mEhRJ36LZWieFf6LbQrUEwEhw9lSe8SKd0kkugHZhJjiGyNSyDF5IjN8XbEvP5kMItPIFjmWIcVOI13IMGKGnCOQTZSJX8RvSDJxDz0aGezixZBxBWlXfzHfOER4m/CNiXB+J3lHvJFtY8vkiH89G7GtHsg6Prux4pjCrkeihv87T72QOTHG1UFdPI8PgNjxHO8sDuCDBBFn7Gqr2KqgLp4tI8ukpxViw4H2RuDTM+qBo+D/KKBdtRE4T1upJ90yGoiEA9loCmIyPvpHJrSRbDW+Ix229tprF7LSZED0qX6hRxFtsoIRtOIIcYUJBXGwVUZxvoK8dC8yaQ/0yNwlS5JSXBPyYBWS9pF9Z4mwZc8mPDx3pKskErMwLgScoIThNLiWXHLJMuiwyQws5UNwCBqmPTFLgXE4YrZN+8kUtCQV+8xB4GD0tT/GUMDxNcj0hwEuU1Exm2LAUlQCp0gN7jUgBslWbByuvgJKxW/ai/Hzdz1LSUFx7CgShoty0QYULUNI+ZuhTwwenAKzxtqRsaXIGQ8z1siJNox3BtWmozEbw8Gg7GtnYSqC8yUDQFvJ2AwnH1nRS0RNYmBwlOkdTpygbaeddpqtRzlTnDbOVDg7vQAzucYZ+ROQ+jvkj74cTbAjnhP6lc3hNLJx3fRCYuoCyaHfBWt8G4EU/U/uyIIgjC/YS2MlMbbgbyEQBIABxJuMFISXpW8m6gXHAns+neMCScExkCUEAl9WFhD9grwgU+wpP4SOkzXC1gaQcvQge4wEkFEiOO4GGXn8E8+QMULv83PYb78lEt3Arsr+4hvHNkJKXyBbssfIv6y0s846q+hL4wM5V4+T0YL68F0QNAgWdUagIaj5MMZGvWRRPCXryp7Gymc+85myqgOQSMZeLOcGY8X4q5NIjFfjHNzfuEbueVdjEF8gTotnRJEsgXzzHBPZw4W6SAyie2R2sTniEaA3vB/dg3hDaCIRRwuIRVm68U7IN8f0O39Mu4hftSNyTB+oh34JyFyUqIAslNjEdmoPS+ydJ8OvncjgGsf1Ldnq64NbCFcf68IJ0Hl8WDEZXakuidHBuBBwBAtTTVCQbtJsjz766LLBow41EKREEh5k3HQH5UbxAEUju0vKsWVMyDjtZPBacz9SULyWX1pTX+93JkOMAfC7AU059iI4Vxh/oLzNMlnyRHn6jQKV1eZLkzXBy5iYAZDxgWzUvmQSw28WgAFgUMhuYnBguA855JDSjlKZBdvkxnITMhuzS6BfpJAzPvaDM9tiBlv6veXDUx0CCDON2kp6N6PLCTCTZVxHOnmi9yGIQ+T7l+xyWtk64CxzPDmjvfRBFwFByB/dT/4EwpYuyNYbTfmzzMNzFMtQTbqxb3SyyaTE9AH7LIMB+BUmXsgfuRMQCDr4is5LTA/Qm5F1UYM+EnyaOEWgCdL5DfwI2ZOCxDYElnSx4D2Ka8Bz+iI+PEfQ6ln1RG0NektQOhX3p02MHcipWIpvLGsTcYzMoO9MPEisqONe8ofskRhQA3lH9sbCNyT7/BRkVDcYc+qI6JYhv8Yaa5T36KsgwU1IDgeeY9zK5jPeut0/ilhtpEAo6Q/+meW1kk0kX4hPvIM2kTg0moj+jfeQyWYFGh8J0Ua/IRjFrPqG7mrDOfrC73Qj0lC8qv3Uu68sNe2qiJf7kiXPs5LDR8UyO33sMC4EnMGEONLpGNmYLUJ++DoIoylgkZEUxnI6g5LVJpZA1gUphqw04Py/26AcCih6DLvSJj4pXEGjge15kY7ba6BoOGrttkJmMHzai9xx8Op3oNy8P0PBOIaSoRQVjL/3p5AT3UF5IyoFTeSkBsWNiGAEGAXBVih77Yo0jS9OMiKIT7Mt0sGnIrSP9HBtJZioQYbt2UEWo03py8TkAN1CZ4durgM4esVx9s2/E4X+5E+dzaxzMskfR1Rw0A2Om6E2nvvKWHecTSHHnLwaMk0EIeyLbJO+HMDE1ASfhd/XtteyIYyV0fJtEpMHSPiYLA2IGWSkCITpTTaSDuXT8eMcR+SGDqLf6F0ZlvwN8sOHI1ORueIawXU9mew5suVMdPs/XyQJtsRYwXJlyw3FHLI5LfE0Wc02A7tIRk1Km5ggu7I8yfNpp51W9jokx2S1DeNCMRbcp0Ykbgx3EhDZIyvLeIr9wtRHooNiMs0eYzHRJut9uFtZIMO9L7vAL/HO8RzFF2TtUefrxfaKHCm8jwlJcaJVZTKytT/fxQQqEtBvowl9aouSeKczzjij7MkbE7fAFip8LrrQv7U/RV/ysxBv5ER7aTeTDLLhrLpoT3C6hu/mXnRpZu5OLMaNVSE4hAHbH0qAMDC80sspDaSJVNXpDntMWHIqEyaKDEEZC4I9CoPili48EgikpEUryM8a+kjmHWLOzEivOsQUpK+f1m2lyIJD7pIpmVUUdjhiAc6bNpAhFwaLI0YmKSmy2G1mNjEL9oAgk/arQGjW0I6WSYdjIdU7ZmTIFcJNAI5olgUhM7ZXZWw0YBwdf/zxZdmpJd01BA6WZXGQEBIckJS7yQM6yPINMu+jC5YDsGdAF1nSydmZyMCOw04H0oXtfVP8ZraXLiR/yBCTGt3AGTZjbHktW94N9GnsF9ImkqONBAoc9Jj4SEwPyDYX3NS22pIigSmZM3FjTy6TMYnpAXbPlxMFvgETBTNnziyywRbKGKcrZIrwE9hQgWvoIP4bQk5Qa2WDjBYZa2TKvkngdxvP11+lFsDypS09E+zas2q0s10SiW7gE4qzlCBWTFpZzonMQnohsqx2sn0DWbZPsg+cGTNtOB9R5L5t4gXBI8PK14OHA2OC3Xdvk+d82TpmRGrzYZ2jqOdwJ5ElQHieVUrINu9fE4riDl/+tDSSjzEaiI+fIa3OO++88kw+nBV6scx9vMGnlJBAR+EDyEQ9eUpOkJ363PY/9KNVbLF9j6xyq2tq0LGuQ+LWujExMZjnfx3ysGVfgwGm1ReJdCDyzGCUzWLwCTAEjmDmKZagAcce6+9aSgIRYlaL0nGteyF5OPcGXp2pNJmBmJC+etBBB3WODB1mQyw9pRS0v7bSdgaZZUMyZwKcVsEfGKjID22JhMKKY9dlJclAsA8G4tP1zosU/ICgzHEklZmGkcxoDAb2OaBgYh+B4YA8kTFKhrMVMqreFJQv/gQJh9D01U7K3Iw7+QXvbXZAW1Dwlqb2tWxhqoCxIaNDzfa7/vrry9ePyJGZlHr2RjuSQeQSJe+T2ORQ8O9rYxzeyAoys9bODmJ8yEOvIvZCQEAOBsbR3nvvXZYcmM2vyWCG3u/GW3yZyb3B7LxZQO0JZJPOJZPkOmRTYEteY0+N6QxOpnazvHkosPeUL05xJOkSpLI+IZuhI/SdYJBOrEGuzQKbQa37RTaGcWCfIMEh+zcasA+RCQbjajAwDskfos3EQrse8a7ejfzZjLkN7XLKKacUB5zzhsyzjUQbgmYkCofQmK/tOX1ML4O6s0faNjG5wPew3JpMDxdBvPiSHd9GwGas8QVNCtJpickB2TqC15kzZ3aODAz+vsk3E3F0hUAyJuHYO7qTzkUcsLN+JycmV/lv7KDz6WSg4xAYJvroH6SF/zsPIfDhD3+4/F98EpOBnoMAcS29R67JH/9E/SyVJ5eeyyesn0eHss3xldREb4O/qr/4q2OZ6GHy3jiwnQjZYfNMvpGX2hayueSV7MdEBF/chB05JaMys3x5lJ+NdGajjQn+tt/ENBG3yaiL53pWPeEXfqM9C42fiOMdN874n3xSk28BsbhxFMs86Wsxk+vUmd2OZ4cP633AeI0vdGoDvyPSjTHviFyj6y2/tJxVnAUm5G36jxcwZumUaLuA53gX7ScOjgltXyy2osY7Iez4Xd5NHcW34ZPZB23G/2Jl/wZMPCL0tZ/+c416Ibi09Ug5CZOOvqoqxtKH2k9b0yX6E08QX3EOkBv7m/Mr+W3Rp1EX7epdZeipO79TTKVt+Wlsq3vzwQJ8L7os9irmR+obbWd8mCDVttqDPNS+mdjE+ZbIJkYGE0fka0hSJSjROUghg0tn6UzHCbtjit/9HeCs+1qQmSaCZyDHeTqfEy6gsTRhpII+1cAxMGCRmP7lMBgc/m8A1sCURx+YAdEvztdPrnfcdQY2aG8zGQa/fo1rFQEspeVT1pYNT2T2xmBBlsij2VP1p6ApYu/mb+0RoEx8IQaRwmjEe7vWjAfn39eGpjr5NhKYqWKg/Rtjum5HDrOg39jn9IL+Cd2gv8hn+9oo9EPdZ5MZDLpJCZtAe+/6PY1NMmgPPTJZ78WofepzjXltQgfU491x5yaGj3CItSfZCx0agZ3j0VdtIMNkLiP6635xPV0SX5WeKHB2zRabSOGkRf2ieCfOlf1AOfbdwGljM8DY9nc3kF+OK+ePHqifwxbxBziIluG4T2J6gr4SIJGL+AJeX75NYuqCHvE1XL5a6Al6g19BZwkUEVz0Fn1Bn8qAEcDw6+Iaepd+E8wj7YJk8y9dg8jwHDIW1yDfEA1WUSDsYkkWW+B+9D1ZVDfH6uexEQLaOjsnkaDH+A5kBVnEB6DnyEvIjtL2IyJGE68APzFky7/+BnLIjrZjGnJMzmWJImbqZ8mkMlm23377lXuRW/UxzpBd7tOOAcm/ZwUQOcYiEk5sqA5xrrp7R+S1r7aKq4xX7cB/0ibGWj1exAJ+10YB9zQ+Je9YXuo+bENdL+/t+epif+lAfITAOf5VHxDv1j5Zt+0zELImlJBy2oLOMGmKJBsNTkI7eq466kdtErpE22mbNsQMJkR9UZ8/FX0W76FuyErcifbQ3qAPxF3627Y2cb7iuUho94sEKWBztZk6kYeQkfpa8lrLQ2LkGFIGHEGWWWSfBYOkL2B1GUfLzgKE2iDA/Bl4ASyrfWEY2xCgqYLRyIAzCCyJbGcnURBS7LVbQKYcxdsfXMPhCULEQJOVY2DXfUrpIN1k1YwHCTUaGXAUG/mUhRJGDJC+FBTnq34XRJAZFllwNQSI2qiW36mM4WbAAfm01NTYrp0BMHsimI+gHcw+Sl0P49gXyJ7ZMXLai3phqBlwAbJG5uoJigBjy4mKwAGc5yuy7bZtg+PA8E4kydMrGG4GHOePbHJE+gJdYpaWLmmD7qWr66+IcuyMATZuNDHUDLiAr16Rv9oGB9RTZnQtf23IDKEnOH+Itnps1xC0XnXVVcVhi8AhQBfn0ofJjdHIgGOjjZf663pA/oyXOkMh0dsYSQYcf2uzzTYr/V4HeGwhP6zbdgzsojjEUqoaNg5HNvRF7Is/rBKJANzEhMwR+rzOiuLP8Gv686cFyPxvWThjmVGVGB2MVwYc22rPLrHIYCDWkk0ugw3REbIZcQuihCzWMZo4xrjwGxkO8KvpVKUGIsbyfmPNPSKOj2SMbuB780m72fhusaZ68PnVyVi2FUVdD+9pvCD9XIuU8w4SHqw+CPBDjCm/0yndvtTJ/xDL1ntGi2Pr9usL2oBt8W8NfSaTTEad95Yp6H3q9h0uvLM+7DaxpJ+1gXinL2gvbV6DbNCP/P5uQPh5J75wgNzz29p7bQ+m7cgBGcp940aOyIAbEgGXGBpGg4CbLhgNAi4xPIyEgJuuGC4Blxh7DJeAm0wYLgGXSIwGRoOAS0wdjJSAs9pAdngiMVYYLwIuMTlhyabsPiSmzDI2LlfkJcYCw1qCmkgkEolEIpFIJBJDQSx1s7eRLBzLnQS8slyuueaaEpj0l5WTSCQSI4WlmLJc6Rx77yn+L2PPihvFstBYLptIjAWSgEskEolEIpFIJBJjBgGtpXQyJ22tIMi1jNQG5fYtsiexbS0SiURirGAJu49KxR7VCn1kQsASdctPLYsdaDlrIjESJAGXSCQSiUQikUgkxhSWddk/zTLAujhmb6upthd0IpHoLdAx9nZr66C65PLTxFgjJSyRSCQSiUQikUiMGWw47gMb5557bnPttdfOUS6//PLyNVIbnycSicRYwUdafDH2sssum0sPKRdccMHsj0kkEmOFJOASiUQikUgkEonEmEHmCRJukUUWaZ7xjGfMUXyMwdcNM/MkkUiMJeiY+eefv+icth5SfJ11vvnmy2zcxJhinnXXXffhvj5jmxgZbOpoIK+wwgqdI4m+YEPeO++8s9l88807RxLjBXuy2PzYV3sTg8NVV13VLLroos3yyy/fOZLoFfjc+9///vfmZS97WefI1APbIoj1Wf9EYrwhS2ChhRZqVlxxxc6RxHTGzTffXD6usM4663SOJBK9hd/85jfNV7/61fIFccsPE4lEYiLwu9/9rrnooouaebbccsuHM4gcG/jE+uKLL9685CUv6RxJ9IVbb721bHq50047dY4kxgs+y45Q2nPPPTtHEgPhvPPOa5ZYYonmxS9+cedIoleAHLDJ7hZbbNE5MvXAtiy22GLNS1/60s6RRGL88MUvfrFkCqy55pqdI4npDMSGr5m++tWv7hxJJHoLv/jFL5ovfelLzVve8paShZlIJBITAV/g/eQnP9nMc8455zz8+te/vnM4MZqQUcRBPeiggzpHEn3hrLPOak4++eTmxhtv7BxJjBcuueSSIqN33HFH50hiILzqVa9q1l9//eaAAw7oHEn0Cg499NDm/vvvb04//fTOkakHs/gmdg4++ODOkURi/LDttts2K6+8cvmaZSJx5JFHNj/72c+amTNndo4kEr2F66+/vtl+++3LhLNN9hOJRGIiYMXZGmuskXvAJRKJRCKRSCQSiUQikUgkEmOJERFw//3vf5u//e1vzZ/+9Kfyb394+OGHm3/+85/Nn//85+aPf/zj7GLfiP/85z+dsxKBf/zjH3O1VV0sseqv3f71r3+V6xX9NBD0jb6I+7tOHfTbZIN2+ctf/jLHe7ThHDIb79surrOPVGJgkBHtTQ9E+w2kEx566KHSL3WbK+R6MPI6mdFtbA80To3nenzGNf/+978n5RjtdWhTbU6OB2Oj9B19UfePQq/2Wv8MR/5GCm0ZOlmJdqUHEtMX9TgjF2SETkskEonE8ECv0qO1nR+ub93Nt+HXjIft9mzvwC6kr/AI9EfYzIi1Mg6YfBgRASeV99hjjy3Lsd773vd2jnYHJ8v6+9e97nXNBhtsMLvssssuzTe/+c0cXC1Yktluq7q84x3vaL7zne90zp4bPum+5ZZbNpYX66eBnFp7uuy8886z72+J05lnnln6bbLhBz/4QVlS6T204SmnnNL55RH88Ic/bN7znvfMft92ec1rXlM+iZ8YGAykpZiveMUrZrffZptt1hx99NGdM+aGNfCnnnrqHG2uvOtd75ryS2E//elPzzG2X/7ylzevfe1rm7vvvrtzxtwwnuvxqbjH1772teIMJUYXnNWrr766eeUrX1nanY3qD/ruhBNOmKN/FJ+z5yT1Ej7zmc/MJX/bbLNN+RDOWEFb7r333rOfueGGG5Y9J3/5y192zkhMR9TjjFy8+c1vbq677rrOr4lEIpEYKkyy8Q3Z9bC5tuYQ9wwV9s776Ec/Ovs+yhe+8IXm97//feeMsYP6imHZhV//+tedo4mTTjqp7HGsL/Avxx13XCaMTEIMiYAzqL/+9a+XgAS5s++++5b9owTgHKm+YOAcf/zxzYknntj8/Oc/n4NJN8AIz5e//OXCcidmoVuWQl20d5tUO/zww0tgpW8+8IEPNPfee2+5h1mEvthxmR3nnHNOKbfffvvs+1O6NprXLxj2yQREry8heg/vry3b0CbaMN63XVyXCm1gIMvsq/GNb3yj+e1vfzu7/ezBhTTaY4895pI9xPGHPvSh5uyzz56jzRXB2Mc//vGyqfNUhD2TPvWpT82hB21ejcDZa6+9mptuuqlz5iyQQ2P5E5/4xBzjU3EPJDJnyFd1EiODPYw+/OEPF/253XbbFbvEdsnU6m8CwxdJkW9BttWFLOu72267rXP2xIITbmKlLX/0/T777NPccMMNnTNHD2ReWxr38UzO+y233DJg5nxiaoPeOu2008oXCsmFsTYZJ/0SicTUBh/gs5/9bEka4SMo9sI0aewjcogiG6ubXO4FTPYMOLaAn8I35p8MlEQynSCmjQw4fZwZcJMTQyLgDACDQTAhywjB043caMPAd/59993XvOENbyhZcxh1jvnqq6/e/PjHP27OP//8IkiJOfHc5z63BEbaqy6yB5ZddtnOWbPw/e9/v3xJVFsjQwbaaFR/ykDwRT1Zcr7oeMghhzTvfve7SzaT/mJQJktwzyBcdtllswO9weDxj398+ZIgQqhuXxmdsgATfYPSZxjvvPPO5qlPfWoJ7qP9ZsyYUeQPESq7sibXH3jggULc6a+3v/3thbxwja9T+WowGfZV1qkExhGZg0Tj0JCtaCv6cMkllyy69YorrmjuuuuuzlWzMoeN63vuuafMeL3vfe8r13D61ltvvXLNhRdeWMZ7YmR48MEHS9vTn2SagzOQk6nd9RnidOGFF27222+/2f0qq4ej6qusN998c+eKiUHIn3FH78vwjXq+//3vL3bGWL7yyiubH/3oR52rRgaya1LIPdmQjTbaaPYzP/KRjxRSzpdcE9MT/IuvfOUrZawNJzBMJBKJ8QCflZ8qe9xkMx9B4ateeumlxYfj67KdvZBI8tjHPrZZccUVyyqUddddt3niE5/Y+WXo8LVrmXRve9vbin8+zzzzdH4ZW7AJ+AX+SpJvcwL5a8Ief5KYvJj3fwPryBVWWKHz58Aw+DjNvuDw/Oc/vwwMM+gCyE033bRz1tyYb775ylezfKYc0bPccss1z3nOc5pHPepRJXgRyBjkT3nKUzpXTH587nOfa571rGcN61P93/rWtwrR+fSnP332ciHtHUUfII/a0Mae9+QnP7k4uI95zGNKIIggmXfeeTtnzQJDIXvjoosuKvU0myPIX3755ZsnPOEJ5fmWJZGPRRddtJl//vk7V44+GDPE2a677to5MjTI5JN1Zdkoh57R8A4CT0Tly172ss6ZsyAYRWxoo9VWW61505ve1LzgBS+Y3b5LLbVU87SnPa1z9tQGAhyJYInYUBDkBNlABpEdRl/7MfiyGsgPuTHmF1hggXI+LLTQQkWHSJ8ms8sss0yRQY4OWaAX6INehYxR+gt5O1jQlcYso7nJJps0a621Vmkr90EYI3/oV8fo04BP5r/whS9sNt988zK2jU+EiXv5shfiiO5NMmMW6DSTPmRrKKArnvSkJxXb9KIXvajoXvLr2Nprrz1HnwToHFnCbCCCaYcddij6RB/SHxxyJKk+buugkUB2MmeYDA0WIX/qR/7URz3JkvqbhIGll1661HckMJkmMJHdpB3JrvEsGPDMKPyCxOSDSTs21rgYDkze+BKY5fjIWfqNP8JPifGTmDywbJgOQez3B0G1/pZJ5BorakwuRca8zHfHFFmy9BX92wb9wvaZfIrzFZN+zkdAdAPbYJI2noM0UZ9nP/vZxc4GPBvRYvIw7s2f4cNIPLBFTBw38cLXrK9P9B5MMOlPK7eG0ldiBTGSFRtk1ZYN7Oc666xTvkTODovX+BzPe97zmlVXXbVZZJFFyrUmoSQ5SGQQ54bMkPcFF1ywT2LMNTLqrQiJa2SDsZd8524wyXfxxReXcUV2ZeWRTfLqHehrvid/fSgwpvgyZN+44W96d5PJMYYVfrt3Mv7EmmJ6GfVWJPldG8V4FpciL/WHc9R9pZVWmt0vzvX+tv7w3nwzWXjOi+fxrYzz4cZp7odQ9Q76Rp/wgbRhPEO7aW/juxv4YfRJnO+dtM8SSywxV7wNJmTFWq6xRDiukzXJ7+wGsYH2YHPjfHKoDcmX9uHDicFqveccz6FX47oo4euRicT4Q3/zjYdEwBkcOoyCETwTTErN0p3+CDgBuKDR4HdNDDLCQzkwpAgU2XFJwM1CEHDaSHsx/hSeYmB3M/icWP2icHAptv4IOAObcpQVYU8eASRjYhArBjBSgJFAkFDmY4WREnDSlS2H5pAxUpx47eMd+yPgKCJtRMEj7rQvw+Habo7fVMRwCThtRCaMa+O7DqYZoSBwkZmIAsYX6ABEHYPLqMeMmtku13AcnGNftF7FUAk470gP0rXePRw0oPvIHXlEnJPdIEDIZk0I+RtcE9lXghpkk7GbGD4BZ7wL/OlP8qxdOZzkti8CTj9w5FyHXELiB+hoOpge1e/DJSu6YagEXMif9zLuaqfVe9oKgvxxoFdZZZXi0I0E7NUxxxxT9C95pgPYJHJu0oPe4NjH2E9MLoyUgONXCGoFA+RYQIeoDoI4CbjJhaEQcHx+KwyQC0hYASQ/jP924403lmOKIMUkH73MHwjwV+jlc889twTpcb7ChxDk8lnpMnAP2cyeJ+AWYMdzLINXH/VyPn+En8w/lJ1pn9q4N1IE8cc3t41EHKfD6MupFLtMRQyXgOOT2j6JPIojxCgmm9levoK+J0N8XTEY/UVe+cAIGfIm2CY3ITN8ArGduKP229hItphcI/xkz8c1xgj5E5uJ54JsEfsgqsSbtiMxNuIapBJ7a2x6znAIuIDJ8chmN1b4nlaqxLPEcCb5jAf182ztbZLF78gz7YOc4osgh04++eTiI4lBTV7Gqi22AWkpJgP3FRfEsxTv5V59EVcDwYTPEUccUfQCwlKf8IH0VzyDzPDj+EtBwuk3fY1AU38EV5wf+oTOqfUJkAfxqdjB5CTbF9exffQc3UWPhHyqk/ppR6sE6+foB32vb9sEHE7Ge5jo0E9xXZTwwSQ/JMYfQcCN6CMMw0EE5pSRwWsQRgATwpN4BAamjwhI/40yc+bMEsgIMkcCwSOlSllQyvVsjL5AHspE4oyM9FljCUqLQmSw1FNQIBCm5AeC88mipbfRvvYr5HwZJInBQx9wOLQnUp1RQxgxumFYa5A/smUW2jUMBkeCwWJYpzKMO8bee2un2EvTe9fkXA2GlqPiGo4Z8tw1yDqGPjH+0FeyZw888MAyGw6cao40B40DxxFDnvYSOG8c5pA/+g5ZJhNkuDPKAc4yclggYSy7Lyc89Kt9C8mvMSDwTUwv0Flkjo0wNhDlZG4oQXFickJwzlaZBEAI8AsEi4JCAW5MIPPfEHMyzZAR4gZ6lS5BMthbU3BuYtj5iAWTHAgC+3gKimOTePEFgtDWKnwNxHE8R9yBDPabINfEAZhMpAtNfD3zmc8sfoznCZr4Key0RAREi8CYn56YekDoigP4toiR/fffv0xQ1f4WssmSQKs8THCJo8gcXxhBI14j65G4gvQgx8hdxB5ily8MZNEerQrbGHKq+NvEm+0b3DuAjLE8FqlTjyFFlhjibrSXxcr61zbe13O0iXbwrsZm2H6+qQSIbrGYcdiXny8eNVHtejpDPOrv+t3aE9lDBXsjNuGbuT/fWjxSP0PfiCu1MegDxCIi/7DDDit6oT7fu/rdFjH0BD8L9Def56ijjirH6Lf6OnG2LXzoF9d7DjuJfLOHMLKOfqPnnE8n0Y+1HATEw65DvokZ6udY3UA+yZvzEhOLcSfgBCW+4GnDyoMPPriwswanryYGw5z4X8f8b0AqBjjFT0koBg+Db6BSGCOBQcixiaWEkxUMJDKCkeQ4ka2Bsjop9Whj8hfta1aAM8Xxo8DMdiQGB4bX7KD2/+AHP1j6hbya2eqWTcgpYKTiGrPiZskYl9HMFupFyNKyX5j39v4cFgZRFlVfsitD9MgjjyzXmMUl8+TY8vSxzE5NDB50qVlJjhF55iRxfHptplFAGvJnv0azy+RPJhLHdiQQ+LpfBMxmuLUJ/Roz47E3nOOJ6QVkC/kTiMgqtZfNYCbLEpMfgl59zlew5YkgnA8m4Pa3rDaF7kRo8E/JCnvJXxWImrSnY2QjsYfOFyTbxxeh5ppY4kUf0zeycekaga+9p+M5glskG7/RPRB0nsMH2XHHHcvEAXIFUQyIF0E7mT3jjDPKXsnsdcYuUxMIGQQWolgWN9n1fxNs9BfClh+LCLaXqpVEdBkiDQnCZyPju+++eyHVyBxSzrZCfDeTYOTIPcQa/GEZbIglWXYhp8pOO+1UiDy+IqKLvTbZJfNNzILM2m233ea4xgqNWHkymvCOtpXwgTDPEY8aE/x972TsaSf7OiOjkNltGDt8j26wVRWiUbvRD2JgxHr9bmIM/vJwoa50hnrwS9TXO9XP0N76UiyDFNNPYhQEnOQNq4bUK4rJRf3mXgh9MTp9YqIT2eq4FWn2cq6v005kykQo38m9kX58J3KGOIsP16mXvbORnrEipgbdSB74XiY64hn6iO6jN21Xwx9LTCzGnYBLDA4IC4qTsTe7wQlRDFSZaWaQp9pG9cOFIBdZZsaF08R5GggcJk6VQmEigrWv9OCNN964KNxI5U4kEonBgNNjJprjyDnn7FhKPd1T/U260a8+wMBxFDxYxhhZKonpA3KASBHQIl0S0xuCX/tqCeADJgFsSSOrWDYtP0wgK2tSZggfbeeddy4ZIYDYI08HHHBAIdlMxgqcZYDwlYPspYfqoJ2vaN9gS7gEvcgDWct9wRJbH4/xLx/dRIJgHImXmD6QlYk8Wn/99ecq5MOKBhmTCBwfzOMDxCQ0cg0Js/322xfShUyzh4gXy6uRwX63KqeG57mPbC2ZWZZRO99zkHlvfOMby5ipQbbHwvcw/tQltgpAkCEfjWHviaSyFHMyAVmp/2p4L+0tW58O8S9yMUDf1H1PL5x++uklAxIJRgfpI4Ve0d8yHxGM9XUHHXRQ547NbNItrpVV99a3vrXot8gSN+mOxKXr2kD40qkyFMWw8Qwr6ehAZJw6krHExGLcCTiCYNbJDJXZJdkxWGUCYZYrHfJZMDgMGOQb4445Vww6AQw2noJDFA0XBjNjYIZhssLMghkg7WG20/+RcIyX3ygy6dIcLw5WwGwRMlNKt+VjCDnta6aGg2bmwL4hsQdBYmBYXiY709g2w2NmmPOsP2JpRw0zUDZmF4i7xqw4/cB5NsNnOSqneyrCfpn2uPDeZsoEIGQQQWH/i27gIJhxdA2i+M1vfnOReeSzJTdm+hMTB7OdHF4ODueHrtZHdEmv6Vj7fZqRJ0v2JfG38WgMyqwcCQQQdUYm/YqIpF/ZLhmf9LXlMRzVxPSBGXxZIfSWAEUWgwkw44b+EnQIUJAaiekBJAUdGcEl0JexrJQuRaSRGf6ErB+BJPKs1qtICNfQPWIKGW+IDUGzbFxkgT1W29cIsP0mq4fP11dWrkzmyB4x2etaGSiun8w+dGLoYL9krJGvdiGf5EhhUyVR1LJNbiRROO4+ZNq/Yl8EDfkVn9TXgL+RK+Tes2XnKZ5nDFnGTy5rkE/PIvejiRhL3gX8a/xYZsvOx7tMJhjD7XEc7wd0iP6VYRvQ9nXf65eIWZyv0Cf0l/+D39uy4z4Bei6uo8csc6fX6rqoJ1nollnoPNmS/C73imfInON74RbY2LasJMYf4241sOOUiwGMWJL+6SMFhNrecGa3Ek1RbpwMyrPebwAjH38btAbycEGhU/YGMzKvbnsDloNsAFPuvZpij1QL0pbSIkf2FPE+fqPsZKXExpgBThODZVZBKm4oNwbLu2pj53P+EoODZSS+AmVsC+jNxgnGLeuQpdhuSwaAPMc1lp0ipvzfJqFmo6cqASfz0v4W3lWQYTkgWbTpKmKi20QEuaQPXIPIsGzfTBg5R/4gmxMTA/t7IK9kv5FzEwCIZzOUvbi8rpY/+7hY0myZg3Fn0mEkE2Eyt9mMgGyW2FdOW3Ac+QFsTDiliekB9jkCM/1vYsYsP/KNP2PsCEjrICcxtYGER1a0wZ5F4Bp+gH/9TT91ixUc4xMjAfge9bVkjMx1gzrw9+gn13YDvcYGt4mRxNQFeUCiIcjIaNgrE8WWP0uSMNls6wZyYdm0TDDEiGvos25JEo4jV8Re7u9fckoGg7Dphoj5+M5kMcYDuQ45b8M16jKa8Lz2PdWdblcfv9Xx1lSBPqYHxIvIeEtOyUBfBb/B9xFPupb/zk/sdm4U5BkfSftpR/3XTdf1F/+L67faaqs57msZPh+PzTXxipBLTCzGnIAjOJYbWB/vU791FhLlxhGPQUvgQsFNZ0hJNkilMbcdE+v/BUmAvJBqOlxQCr7Yg3SSLSaIZxT0meeYqaYALAPo1fXiyBsKywaWdUH++I18IXqlZ4djxSDKOqKUvGMb0ruRjxy44X4xaDpAO8lUkPHTNgQcBMVxxlpb+psTbJ8LMzBS7mtwRBCj4SRPJQPOOTKe7ePQfm/GnGwaa96dM+ZvetFeYhw8BA8iOaCdjP9adyYmBjYFl8EtY5PjIxPUvkHIrV4h38iW/UVkVPv4RxvkiYyG/Pm7G2x7YH8m72uioxs4muySfXH8ny2RhQIx0eZZAgjPSkwfmGSxTKm21bLTBSpIYdkdJm+m+h6giUcgi8eyLvFBAMFGX9GpfDiTBfwHOoVOtazUtiGhg9g/xK2schn0stRMApAp2XVgLy9+X72qAdFhJQ7fly6yFDV9vkSA/CDT+FrklN/qX0SKFQl0FSKGrPHjIisJ0UGXkUkyR44j2xvBZmmgTHN+Hvlkb03WWZHERlqGaOVODXGhVWJk1nmuMx7YWtdYpk2Oa/BNfLBvtDPNbSNgHEU8z8+Pj6Z4P0k27diUn+q3IArFnFZu9AXjXLsb267jwwTEEfSDDGo+yXhl0kuMiT2a9S1/yVdYyUHYLfrD/m3eT/sg4MiLTDb11G4m0OMaRT/yk1zDV9JGZEncbemqfqxB79GX7f4Gei5WxZDL+jlIOUtaJaTEhyUSE4d5t9lmmyNDoAaCQWaJgGBQYGidtywVgsg4YmT97RzONWH1m82WbQBIcRAuQuM8hcBRNq63IXSvZgwMB5ZDGngy/IYC+wsYcAaSoFt7RntxOrS7tpX9YsYlYOma9nQeZSyThtJCfhiwAn8zL/omCBHOjfM9i3LQPwYmZe84Q2KvjbF2SjwLGSZFdihgIAW6Up8pNe+DRCR3iEr/54wxVuHEMRSWPSJEvC/j5flRbJ6qvWSGWCI5EpJzMkAGArmyoehQIJC2jE17GbMMSLRhjGvGg3ExtslsOMFklZOtn+q255i4D8PjGn3Xi0G6JaDkiRM2GNCdNt/lVHEmOBDxzsZb6FSyxlDGl7KCjCejZLXWBTIL6VawpwQZN7anOzipHB9fVxwKONZ0kGBQnyhsFceR3uC0cGb1hexk0GeIfPJO1yLg2DByTt9GX+l/sjxaOO+884pztdZaa3WO9A91U09Ov0mdetx5Tw61dzFGzeDTp214//g4jf8bo5bRdAOnma1B9slkMdbpXZNxniXT07IKe8l4ZmJygf0UIAyVKONHsKvki29h8s94Io8mdASijhtD7p+YHDCm+ff2QBos+Kj0qb6P2IDNo5MQFgJseoYttN8UX1r2CYKNfqWv6RW6hJ6hW2yBYQJZhpJsejqSTYw9mEys+t218Rz6zN9k0nJoE7cmab2T39XTM0CM4/+uFUjzTficJhoSvQ39z/eU7T3Y/qKfFLaMLIip2Da2rLafYjIyJBaR1IB844OQEbJHrsk5eecryEByP+f5ijqdx3dgK8m3Qs4iplZsFeFa8sxHJN9sJ71pPBgrrg/ZVkyQi2X4HzGpxhdAkA0W/AX34mt6VzFVZCz7l4/EdwjS0ES6uIl9V1d18rt4zHgx1rWL+MsYQzY57lxxhDGuzfWRdvNczzTOvKe62P+OfnC9GNDYFdMOBcgz91BvbcfPk5TCB3cvusRv3h9Rqm5+Q6Spg3bVp3QQveKY9+R/iv3pDbaOLeM/RmytvZC18S6KuEdfkQnPEDN5jraj2/SxNorzvbdCDh1X9DHCUvyEPxA7qFstD97Tc7Un4nC99dbrtEZiPMG+4MTm+V8g+bBAdzBguDheAkIDoy8QIJ/btURK5xtAAlaKqJ2pYaBhiCktX+jo1Uyr4QDbjHyrN1gcDBgJysnAM4DaEPhTwJyFmjzdZJNNShv3B5lh9t0zwIHyQ4ZwQiiGWB5C4VgSx/GxZlyfjiUEdggKinW4YFjIp/swtgGKEzl30kknFeNAaVG83huh0QaFbpbAF3FslDrVQdbIqP4fCih0BBzCglFtZ68ypAwQIoQMaXvPYKS1fzi1NRhAM4hIAHsY9Cq8EyffJqyDAeNonyO6kGxGll8Ns+/GtbZiHI19xnzmzJllXLevYdSNS7pTPThxiaZk1XAMZWkNBXTPpz71qUIo9wW6BOllJhyk9dMj3fY4rCEDV72G6iT2ha233rpkJvuS+GBAz5M/RDv5E1C0wa4Yd2TbuG1DkOFLXtpH4GCPO8FMN3DOOY0y7ugHvkNAG3JKLdHlAHKsE5MLPp6AGOGzDReCFn4hR7RGTL5Ylp+YHLAcT0DKVg0W9oLmr4kl+AqCTXYyIMuHHeSHCegDAmPBJ33U1rsIN3aQ38Y+A7tpslDdTFoJhOknELjySzyHzJlQQ4QIvC0v68+fprdkc6qbwDfR20BIkAsEhPhmKGDLDjvssPIvmavlFMSxCCcTErJ5+bCIEMkUSDP/r/1jMYZJPPsK1jqUbZa5xCdHwkU8BnwHJDS5lmEvRgGknnFkTCBYIsMM6FJ1RbiQeTJruay9hgcLY8DenfXYFhvy+ZFT4i7QBuqnHXyN1TmgTshDSx75ZXG+CRbvxA4EtAX/NyZf/CZus2qGzxJtyPdFUCHetDmfhQ4ZCtSfD6NPQx+Ii/lq2phvEnUFfSVBRNILn08/idFNqNdArvHL+VNi7VieTF95F/3lmjYXoi1Chug8k1Vklk+KsNR2AfdDvmqH+jh/S19rb7quG8iEeBiBO9RJ6sToADlLnoaUARdONSXBiSYA3YoOJnQUDOMmsDT7byBjuetzDVjE0RFHHFHOnUoYbgac4ER7UTgGU91eihkTzkJ7FkOwDu3z68Jp1t/hMHBAPM+ADkXiPMpT5hsSUZ+NNZA5w8mAayPk03vFO1PUlKGMQbNA3p3wc7Q4ZnFeFL9RnNNFORmXw8mAM845rgwZR4Fxr9tRdsw+++xTFH04PJxqfYFo01f1+QpZFNwx4L2MoWbAMZT0gGDAzGgY0Lr4WhZiJcY1HWsceg7SmOzW53NSOAqIHYRIYhaGmwEnACST9GDdznWhSwR4dAlwrGXwcD67nR8lsnpGy8YNNQOOPiSrbHhf8ufLrYLJyO5rg0PImTaTzVEVBPSV1RfksEk4Die5j+e4dv/99y8fuyHjicmH4WbA1eDbmIQhU7Ucui/bMRZf70uMDQT//IDhZMCxd+IFRAE/IeRAdix/sJ2lYXLAtiKIBhkoteyYYGZH7TsZoOvYR8QI3afEc2Ly38eNXMMvASSdoBfq+9eFLyNglvU0VEInMf4QFww1Ay6AMJPwwI6aTGr7YuI8RAkb61wgW+SDvZMZVfvHYgw+LrKnht/Io2vYWYRTXEPOXLPLLruU2CVADtlSdUPGkOG4Rp3pU+9LRtWJL1J/CXgg8If4RZJp4r4+YOd+xiDiyzH+iLopQaCB9+bHIpxMKgcHwH8w7hH3cV/+jHODTHMMyab9PC/aUOxhsvrYY48ttiKy+4YC+sbkoHaL+yJO6QH/mmis+0y92CTt55nqRaa0QZyj8BG9F8JW/yPW1M891Zkvry3aXIj+RXLq//AT+WKeyW/jZ8a5/C62ly6sj8fH3BwTk8XxupAJenWwsUti9DGsDLjE0DDcDLjpiNHIgEsMD8PNgJvOQO4MJQMuMX4YbgbcZMJQM+ASidHEaGTAJaYORpIBJ5gWEApOE4mxwkgy4BKJRGK0EBlwuQNyIpFIJBKJRCKRSCQSiUQiMYZIAi6RSCQSiUQikUiMGSzXspzN/q42CpepbGP7j3zkI2V5nX3X6v0iE4lEIpGYikgCLpFIJBKJRCKRSIwZ7Gll7z9LcGywbp9jG7nbC+6mm24qewG3N7hPJBKJRGKqIQm4RCKRSCQSiUQiMWaw4blNyu07LeOtLjNmzChfQMwPsyQSiURiqiMJuEQikUgkEolEIjFm8HVkH13Ya6+9mkMOOWSO4oMyvj4fX0BMJBKJRGKqIgm4RCKRSCQSiUQikUgkEolRgH0ub7311lLuuOOO5qGHHur8kpjuSAIukUgkEolEIpFIJBKJRGIUcOKJJzYrrrhiKRtssEHz97//vfNLYrojCbhEIpFIJBKJRCKRSCQSiURiDJEEXCKRSCQSiUQikUgkEolEIjGGSAIukUgkEolEIpFIJBKJRCKRGEMkAZdIJBKJRCKRSCQSicQE44EHHmg+/vGPl/Ld7363+ctf/tL5ZXRx9dVXN5/5zGeaW265pXMkkUiMB5KASyQSiUQikUgkEolEYoLx29/+tvnQhz5Uyre//e3m//7v/zq/jB4efPDB5sILL2xOP/305hvf+EbnaCKRGA8kAZdIJBKJRCKRSCQSicQEY/75529WXnnlUp72tKc1j3nMYzq/jB5++tOfNn/4wx+af/zjH2OWYZdIJLojCbhEIpFIJCYRHn744c7/EolEIpFIjCb++9//Nn/7298KQaX88Y9/bP70pz+Vf/0tIw1pFb/5+6GHHupcPctG//Of/5x9fV2c++9//7tz5iPwzL/+9a/lnKc85SnNGWecUcomm2xS/m7D+X/+85/nuG9dZ8XfzmvDu6i/eqgrEq6+Tvn73//e9VrXRTso/q/ebdTv7xzPqOvr/87phn/961+ljnFuFO/otxreoX1fda+v6+tdAu3zFW3nuHfrVs/o/yjq65r0zxKDQRJwiUQikUgkEolEIpGY9vjxj3/cvO9972vWX3/92WXrrbduNtpoo/L/t7zlLc3b3/728v+Xv/zlze6779788pe/7Fw9i+C6+OKL57g+yn777dd87Wtf65z5CLo9Uzn66KObu+66q3PWLPznP/8pGWw77LDD7PP23nvv5oQTTpjj2g9+8IPNT37yk85Vs4DAet3rXlfqcfPNNze/+93vmrPPPnuO65RPfOITzT333NO56hEceOCBhRSM87bYYovmiCOO6Pz6CD73uc/NPmfDDTdsPv3pTzdveMMbZh/bcccdm/PPP79z9py45pprmi233HL2uVF23XXX5itf+UrnrFlEpyW6jsc5u+22W3PSSSfNcd3HPvax5he/+EXnqrlx6qmnznG+cuyxx5Y2OPTQQ5vzzjuvc+YjOOCAA+Y4XzvoPyRcIjEQkoBLJBKJRCKRSCQSicS0h2w22U+yqRSEGoLt97//ffkbcXXDDTeU/8vu+sEPftCcc845zc9//vNy/c9+9rPmyiuvnH19XRBGn/zkJwvJVEOGVv3MKH1lb6mjLKw4z8caLrjggjmu/dKXvtR89rOfbW677bbOVbMgk0xmFyIvsvXq6xQZa5HV52/vs9VWW5X94pB2cd79999fPubwqle9qrn00ktLe0B9Txli3hkZGMd+9KMflTbzEYg6q+2OO+4oBOV99903+9wo3sP71MSdd/Au9TnnnnvuHNc5H8nYJiOvu+66QkS6Z32+cskllxTizTn33ntvOV+72TcPkagd6vN/85vfFHJw2223ba699trSN4lEX5h3m222OXKFFVbo/JkYTWD/n/WsZzVrrrlm50iiLzBe3/nOd8osRmJ8YdbtiiuuKLNnicGB0/Cc5zyneelLX9o5kugVcGo5Y5zBqYqwLWuttVbnSCIxfvj85z/fPOMZz2jWXnvtzpHEdIYAVYD9mte8pnMkkegtyH764he/2Oy7777Nox/96M7RvvG4xz2uWWKJJZonPvGJzfe+971yjayvV7ziFcW/QA49+9nPLoTUcsst19x6663l3FVWWaV5+tOfXvZs8/t6663XbLbZZrPL0ksvXUgc1y+88MLNS17yks4Tm2a++eYr17zsZS8rcSPS7Ve/+lXzvOc9r1lttdXKXnCBeeaZp9Tx+c9/fvliqo82eOZKK63UHHTQQeVZz33ucwsRiDTkL6hnXOs3xW8ILPXcf//956irOjzzmc9sHvvYx5b7HHPMMeU9t99++2a77bYrPpbz+CFPeMITCumEfFMHdbVsVpFFh4yad955S+aga9kO74vIRPRtuumm5TmgrT3Xfev6vPjFLy73l/m34IILlqwz77LAAgs0L3jBC0o7eJa66AeZeq5jqxBoSDL3XXbZZctzwEcuvvrVrzZPfepTi/7aZZddZj9v0UUXLe/tviuuuGJ5PnJQVuEPf/jDkvWoLeJ8/eYdv/WtbxXSdKmllirnX3/99eVZ6kX+4j0T0xPG9GmnnZYZcIlEIpFIJBKJRCKRSDzpSU8qRBLiC5BC22yzTVlKiVxCoiByLJN0HuIFmRV7hSHXEGfIJSRMFEQgIghBIxCv4Zk+urD55puXZa0IQPftBsST8xFnyDX1Q6hZJuv6uMdCCy1UyDkl8KhHParZYIMNCvmnnog8ZFFcFwVhhzSS7Sa7TqKEjDhkluy1eCfLY2V/wS233NLcfvvtJWNQfTwDMek9tF3cG3m3+uqrl/ZBqNX75yHtvJN61W0ne819kXlIscAiiyxSCD3kJZgcnzFjxuxnIca8p/f49a9/Xc5BOiL/EGneceONN25e//rXz75GsUxXu2hDbW2S4Zvf/Gapi33n9GVdP+2gnWUUOk8bIWsTiW5IAi6RSCQSiUQikUgkEokWkFbLL7988/jHP778jYBDzMioCtj7Kz6uYLnqF77wheb0008v+5GdeOKJpVgSapmq7LbRJmfURaZWALGEmLO8s/3hgqEA2YWoClx++eXlveKdPvWpT5UsMtAGsXS0hvZbY401CpEFstYQc4g37VB/uEDbXXbZZWXJajxDsVTVih1tjLjrCzIQ65VnniU7UBvEde5hKbBnI0qtZvFvDSSgzDzLTRGxyD9EW0Bf1vVTX8tS3RtZp91yP7hEX0gCLpFIJBKJRCKRSCQSiREA+WK/tJNPPrmQUYgnyxeVF77whSVjazJBtpjMPiSapZqWd8b7dCuLL754yV4bDmS32UYEqSfjLpZ+RrGcdDSA+EOoIUJl3AWx2oYsOB9bkGHnmshwlAUpW7GuW7sgRBF/iUQ3JAGXSCQSiUQikUgkEonECGDPOPuhybhCIMncio8NHH744YWc6QVYFmopq+yzOgMNZIbJ4LKsFokU+9rZM/4973lPM3PmzPJOig8YyP6yn5piPzRLPocDGW6yyCzvtK+br7q6v+fIJFx33XU7Z44M3tv7+Nd7Wp4a5FoNGWx+0w4ISO3gX3347ne/u3zZNdrBRx7OPPPMUmftYM/AJz/5yZ07JRJzIgm4RCKRSCQSiUQikUgkRgBZXD60IEtqiy22KCQP2PMNmeRLmb0AS2gtz7QfnfrW8NXQHXbYoXnHO95RCCh7zSGofJ30+OOPb+68887OmbNIqptuuqmco1iaKbtsOPCRBeSfDyBYFrrkkkvObr/jjjtu1NrO0lxk4vzzz18IPx8Wss9dGxdffHGz2267Ne985zvL/m72k5MJ5wupNtKvl6Tqd5mP9o/TDldddVXnl0RibiQBl0gkEolEIpFIJBKJaQ8fBnj/+9/fHHXUUeVve4dtu+22Za8zhBXSCdHky6GBu+++u2SH2S9tmWWWKYTbhz/84bKPmE3+d9xxx+bqq68uBA6yxr18VRWphLByrvMU+459+ctfLqSXrwzvtddes3+zJNLSSV/o9NXOSy+9tNTphhtuKPW98cYbS3n7299e6uJZZ511Vvk6qq+EBhZbbLHZe9hddNFFs++v2NPM+1h+KjvOuQg52V++8rn33nvPPvfVr351yeyz95mCsNM+SC3PtOed47LCZAHae+1jH/tYc+yxx5ZnI/98TRbp58MN2u7+++8vGWWyyOI53jP2zXMPH5w45ZRTSrbhnnvuOZucQxLuuuuuJZtOG37gAx8oy1kffPDB8nx9JvsNwffKV76ykH0IRO0Vz4qizj6mYEmtNkDa+fCGL7jql3322Wf2ud7Bl2L1pff1wQeZc4lENyQBl0gkEolEIpFIJBKJaQ/EFxIovpqJNEMkIbP8X5Gt5YugAUtOfQ3UPmlIKeSarClf71QQQPaDiywq94oveyLU6nORX44jvxBUiLP4zTMd97z4qmrcT339q9h/DnHoN0SQv+uPMSChEH3q6Vlxf8VHJpB+++67b/n4hH3rdt5550J42TOtrg8iEOnm66NISxlg2sBeePFM9fV+2gA5Z9lnfDk1yETtiejabrvtSr3Uua6Tpa2+nAruEc/VPj7c4B3Au2sX7+6YfkRQIhPdU91l1dn3zR5vb3vb28qXbNW1fp7iPO+9xx57FLJSViOy79BDDy3LbPVFnBv1sc8fIhYp19feconEPOecc87DPr2bGH1gw32JxQxAon+YnbFhqVmbxPhCKjUZrVOpE/3DJ9TXX3/9MhOZ6C1wjDhcvtI1VcG2mL09+OCDO0cSifGDTBAbUFuWk0gceeSRJfi0L1Qi0Yu4/vrrm+23374QJYP5QACiSPaYTLgavoaJqAnyaMEFFyz7vMmgQiS5t48U+IKmZ918883lPPDbUkstVbKjZGcBgoctX2KJJcoSyLvuuqsc7w9IIKQZwkr2V/3FUeSY58PXv/71QjwFfMBATKrONWSHtZdf2rsMWSjrq40LL7ywkGs17Cfn2RtssMFs0um2224rmWo17OvmIw1IsHoZKyDXZMBZFqsd2vGgfdcQd3QNIAmXXnrpQoR5h7pO3nGdddYp56sHUi6ATLQ0OOA3/aS/2vDV1lVXXbWQizW0vYxDhFsNGYL/396dwOs61f0fv2QqQhooJEWGBiGZUkiRqcFcyaOiUJ7HWJQMDR5UepIxnuJQ5yFDhUyFiNIgpAlNxsyUigzn/38v99pd53bvffbeZ+999tn7+3m9rtc5+7qvcV1r/dZvfddvrSXN6oqvBx54YF8UpfR3j4hykxtlQv6IADeKRIAbPBHgZh0R4IZOBLjxSwS4EEaXCHChTQS4MN4ZqgAXwkgQAS50UwW4DEENIYQQQgghhBBCCGEUiQAXQgghhBBCCCGEEMIoEgEuhBBCCCGEEEIIIYRRJAJcCCGEEEIIIYQQQgijSAS4EEIIIYQQQgghhBBGkTnWX3/9acsss0znzzCSXHjhhWXVk9e85jWdPaE/LDn961//unnHO97R2RPGiltuuaUsV25luzA4LrjggmaxxRYry8+H8cVPfvKTsvT+Ouus09kz8UjdEmYlF198cfP85z+/WXnllTt7wmTmZz/7WfPXv/61edOb3tTZE8L44o477mguueSS5l3velcz55xzdvaGMLpY8fKaa64p/59vvvmabbfdtpl77rnL32Fycvfddzdnn312M8dmm202bYUVVujsDiOJBF588cXLcrNhYH71q1811157bfOe97ynsyeMFb///e+bSy+9tNlxxx07e8KMOPPMM5uXvOQlzaqrrtrZE8YLl19+efP3v/+92WijjTp7Jh6pW8Ks5Nvf/naz6KKLNmussUZnT5jM/PCHP2weeuihZpNNNunsCWF8ceuttzbnnntus9NOOzVzzTVXZ28IIYwtd955Z3PKKac0c0ydOnUaRTaMPJtvvnmz1lprNXvvvXdnT+gPmfG4445rrrzyys6eMFacd955JY/+5je/6ewJM+Jtb3tbs9566zV77LFHZ08YL3ziE59o7rrrrubEE0/s7Jl4qFvWXHPNZp999unsCWHsEC290korNfvtt19nT5jMHHTQQc0f/vCHZsqUKZ09IYwvfvCDHzTbbbddc/PNNzfzzjtvZ28IIYwtoiJ1nmcOuBBCCCGEEEIIIYQQRpGZEuCefPLJ5tFHH23+8Y9/lH9nxOOPP17m5nF83fz9xBNPdI4IvZg2bVpJu5pmjzzyyIBp9thjj02XxjbHu05//Otf/3raOe4zO+JdPbt3kL+8Wy+607Vu8nLy5OCRjjW9u9OxP5zTK5/6VgPl04mA9+5lB9nT/mjn6cGeE4ZP2zYMtY5ybvf3nZHNHkt61cOebzTyUvUP2lt/9jhMHvqzZ6l3w3iGjez2ldXnw/FZ5PW2HR7LOsI7uLdnD+OPah99o4nuD/eirS20N/k2Pm+YKMyUACeU99BDD20222yz5jOf+Uxnb28Upm9961vNVltt1ay77rp92/vf//4yaXYKVf88/PDDzUUXXVTmNJJmu+yyS5nnqD9OOumk8k1qGhsqZ5J9xrw/Pve5z5UFEOo57mV400DnjFeuv/76Zq+99irvIb8df/zxnV+m529/+1tz/vnn971z3Qxhq5NmhhkjHXfffffmrW99a18ayj+f/vSnO0c8nfvuu68566yzpkt32+GHH9785S9/6Rw1MVE+t9xyy753NnG1v//4xz92jng6Jrn+4Ac/OF1amUyYDSaohJHFHHLf//73m0033bTZYYcdmquvvrrzy4y55557ykS766+/ft+3+q//+q8yT9J4QD38vve9r+/ZPKe89ec//7lzxMjAWf7Yxz7WbLzxxn33evvb394cdthhnSPCZEVZ+PCHP9yXL2xDLWchjDV/+tOfmi996UvT5VvzwfJnhgKB5cc//nHzH//xH33XUUeYB3ksOPLII8u9+SJh/KH9Ya4638jiJpONX/7yl82nPvWp6cqZTTv1pptu6hwVwuzNkAQ4ijwHyWTtGozmPzKp5f33318a4f1hwrkjjjiiOfbYY0vhuffee/s2YolGt+sQmsLTsWLG//7v/5ZVfKSZyW77iy46+uijm//7v/8rK1vWNNYgPPjgg5vf/e53naP+jev4niZV5lzUc26//fbmiiuuKIsimNtjduI73/lOGWPtPeRNPSfdSIsTTjih5Mv6znXT8P7yl7/cnHHGGZ2jQ3/89re/LU7CVVdd1Zc/bfIPcXPXXXd9Wg+e1W7N93fMMcdMl+42+ZCoL+9NRPbff//i9BLO6jsr3/7mgHPK27CJ5tVhIzll7bSS9oRm+dTfYeYggCr36rb3vve9Jc1N3PzAAw8MKmqLzWVTOM7si+9avxXbOh7s6Oc///nyjBzc+myeU97abbfdRmwOTmlBIDbvzm233dZ3LyIf+6zjjcgZJh+nnnpqqXd1vNZ8YZMnzSV2+umnd44MkwH+AFGe3a0b+8AX4Pean3a8+AOEM3VyO98ON3pY9Jm6pV6HXz8WEWnaY+oii29pG4T+ueGGG4o/2s6bA23nnHNOaXPMLPLFL37xi/KNxioqcjyhU5mm0C5nNmUvHc5hojAkAU7GZ7j10nDYNSoG40Q7hjHhlJu8V2SMhoCKdZVVVikNyW9+85uTUumfEYSMCy+8sEyQP6NK3kqWNpWqqDdpfOCBBzYrrrhiaUiKfLjxxhs7RzclvatYZVluQopzbMQAXHfddUVIIa6Md6SPSEHvowIbCBXrxRdfXAy6ilNj23v/53/+Z7PEEkuU/CotTeYeekPYZAOk5XOe85zmox/9aF/+2X777ctS2xpZHOkqrnMyifjylApWJM5///d/l3NMkLvAAgsUEep73/teOX6iQIQU2aeRScwRbVrTij20oioRTv6tPXzEcfZ26tSpZZVgC7qY9Nw5olOVa40X5ZqIEmYODh47q26Tp0U1DLZhRbxjS0877bRiY1dfffVie+s3JpS+/vWv7xw99lTbeNlll5V8KOqynf8WXHDBIhqyie06Yjho4H33u98tfsKzn/3sEh1b76WMy9dstMbKgw8+2DkrTAZ01LDtysurX/3qvnxhW3rppYuPKI8qg2Hi41t/5StfKbbTN6+bERvEN53JOulHOjp3uFj51wI4gg8WW2yxZo455uj8MjSe8YxnNMsvv3zxmTbYYINmoYUW6vwy+hAM2WBi32QUd4YCH5UI1s6bA23aCyMhompr868n6xDhpZZaqvgK6gWRcCuvvHLzzGc+s/NrCBODObfccsuDXvWqV3X+HBiNSI68Sui1r31t8/KXv7wYCk60AmMIWi+cpzHuPnVlUM7Xy172slKBqWwZLkLIwgsv3Dlr9kdj7MUvfnF53+HAABMwrBCqcfjKV76yCBnPe97zSvovs8wynSOfQmSDSuAVr3hF8+53v7sMn/KNnvvc55Y0JsL5bdllly3H66khfGp4veENbygRC8J8V1hhhfKNNf45xPPNN1/5XvaNFpwsw+w+8IEPdPYMDY4EEUIEIFHCs3pucHTWXnvt8v8KcY3zx+knuq2zzjolbQgh8iJRmJMknV/0ohd1zpqYEHw0zj/ykY909gwOac4evOAFLyjpR1RSUco/hLTa0/qsZz2rCBK+B1uhN/vnP/95WUXPPa3mKG8vvvjiRfQgNhGE2YPxClHspS99aXn2wUJ4s/qWTgdDdKWZtFKOvTcBDsose8pJ5vyJgOPsi8pSpqWxfMshIVYS3Nle6Rea5pJLLimdPlaqHQryM8GIffSNqg0kTrGPvkl/EBXYew77FltsUYZavuUtbykiqW/se7HbI0WtWwYr6nk3ohgbK78ZIisv1fzHdtZGrr/l7eGiziCuEecNP+VIr7HGGuVe888/fxFfdCyxB6uuumpJ3zB7Ier2hS98YSkXQ0FEJF+E4KCc6JCVL2w6Z/gopr3QCTZYvzTMevhSOj3f+c53dvbMGCK8aEfnqsvqFCh8BXaBz1v9B74Zm1zReWwYs5EzOvTqpn7le8wzzzydI6dH/mOrnet4Ha3qXvltrrnm6hz1b9TZxEHPKN/qVGDj2bE6mkc9rs62b7Bo96hr1AvqeD64MqGO4Yu130m5YCNdX3uL/dTpxo/yO3/V796bP8an97x8A8cvueSS5Z7EHPWG6Wu8B1/M8c5v38/7ebahvM/sgPrNtCf8/V7fuj+krTaUzlOY1ubNb35zyac29aVOLXaLPVxuueVKvtXJLK1rulaxUz5SF9f9ygH7J+/6v4AL37Z2xPpG2nX1ePu1qdlfaKs4xzf3u/aPb80f5DvK8/b73nz1tpClHlYedLzV6/PNoS2u3c6PFxnvmbVHdU7qSJG/lB9+q2dwHedLi+c///l97S/wx5wjTbx/vZdj+VnKeBvnen7pws/x/vwKvhmfapFFFukc+ZS+4N3d33O6rvIkvV1be8Kz12/h/eT52g4eLPxs79y2OcqxNGmnn2fVZvRO2jFtfBfpd9555/XZIJsAF+/aH2yUVf3r8fUc9xD80MY3kRb1uwuiYRt8f8/JP/aM2v/ybhh7fDt6zZAEOEZLxlI5cqgVZkaNsRlIgFOYCDjOUTCr8VM5MAAKhv8TjSLA/RtGRGFnuDgInBNprTD1EuAM8WVYNP40fBhajojjFHgGTCFXQTD2xDyGngPg+7im7wOVsILM2DvfkrltozfSzKwA53kZWRWsd/Mu3p3R6SXAMUwMMWFDWjFijCkDqaIVCSMvEkpqmkxUhivAKcdsACdE/mlX7CoMjoDKWWNe+lcHkqMibUVpKhuETrAT8qLvwuHh6IxXhirAyVvej/NAQGuXJWmirKso5UMNDdfmWMiPhHhOvvJfz+MYQXSh85V5NiIMX4DTAGIb1VPyM8dX3STfDiTAcSI1iDRq2BrCMuRlwy/Zo5EWmYYqwEGjVRlV7l73uteVRhbkM86YcqdukT91jg0XYh5HlQAnLeVn1wUnVj7nNxDd/V5/C7MPwxXg1NPqDfmPTWs3Hgg4GifsmfJnC7MHGsBDFeC++tWvluk+2CFzFhu6T9hgE2zsEjvBDvPn1J1gVzVev/GNb5R8yNbUrUZ2uWaNKnM+26dBSpBQZ7LrjmfziL5go9XRGs2uoZHELxKJR+DQuHcO35CfzZbJz8MR4NrwRYkE7skn94ztdyKASAuNbc+onjGEWyPb796ZX69tRnQQec3f97wEiFpHiHz75Cc/Wb4V/8yx6q72vWzqK8KgcycSwxHgqk8gbeU3mM6HPyuv8H/VlXxoeUL+JezIn/KN/FPTVXr6fvJf/ca+PZu39dZbl3rQbyeffHIRSOAbyaP1Gjb51X2rn+FepjXRVvS79ovvKz/JJ/wh+31rnYDyqvykHvZ83kvbqV6fCChfy1f8cOXAPIeemdjkPO1GQppnk3e1FYlrzpfOxDO+Kn+DP+A+p59+ekn/Wo5s2qTKmzLq+NoWaCPfyrP8if4EOO/PJxJY4bqO9a6vec1ryrnEjvotPKs2CJszFFyTn+e71udXXpVD5a3ukybanvKHb6o8gZDuW7mG9gN7VM9xbW0iae7fKtxpv7I3nv0LX/hC3/H1HG0DacYXrPgOX//61/u+h7ykTvWdfAO2TFtbfiXOp+N+7KkC3EwtwjAcOPrUcoVAYZEZZCIiT3+9VpMRDgMDp5AqkJtsskkxut2KOhggBsU50pBxaju2Gv+EJsaQ4KlCh781ghgJBZVx8F1sDK17ux6DxxCPVxgtwqRIQQ1vlSOHpLtXpY0KVZroTWSUGE3vrYeAcXJNIojKNwwOFQIhVTrKS/JUjXytlZB8SRgx148e74r05jjU6LfaaztR4SBVx0V+4zypoFWkyjmkmXwsDP9DH/pQn8CmMlWOOTLKPGFIZR9mDRwcjUJ5W941wfWee+5ZNvlcBEW1ubMKTtqGG25YGmcij2rvuQgPDj17z3bKYzX/DRf1CSdf/q2NxFqvqNPkdw0RjeqJFmURBoYYYPj8+973vhJtDv6L8qEciSjiv6QzYWKj3jLU3b9EXNOfdAs+hHsLxPA/5RX5RB1JDGBjdfBpN+gwIEbo/NDo1FDVYNV4Bd+Y4EZ8Ii6wb86pkeTaI37TMNYohXxIlLAgl04Ux9Vz+M38RXWwZxop+LCemw/gfdyL/6lusZAYgYEwQhTiUykntSOuwtd3Tu1caaNu4k/Y2F9/u0Z9r7pJ6/gT/SPf8tfq0Hl+XE07vph2hzymDtTOqBDE1LfEJmhbsXM6oat/rF72bWsEum+kI6L9fXy/tgClbSbvEwLVvYRw5YD/4V6iR/nT8rnIdP4je2vot/k4iXzt6zueMGhaHuKVa8iT8oX/K4Pey/08t/Kh3BDHvI9Od+XNfse6hnQiUnr29r34/cqyOaEJdZ5lqMjz1W/2PDZBE+yJ3/xfW0+eVl6k3XA6GJ0vHaWP67j2BRdcUIR47+59fDtly/sQBeUV353Gwf8x1+XZZ59dxMHaGS9N6CIWrCLK8Md8I+dpE5krm5DqfQiKNe2Ifzox/ud//qevowLezzOyWWyVe2sbf+1rXyvp7Tffz/cg1IVZx5gLcJRzc79pBJhHQQZmsAyH6VVpTFY4CoyYws2oi06qRrobRov4wbgPBcKeYW0MgPsccsgh5bvYOMmcIxWBoVTtimS8QU3WyOWoMIyG0s6o95zTJ/JNxcFY6oHy3ubYkvYqNHNzhMFjdTCOtHRUeXNQOQT2qZT6Q0WjMvAdCKAqRz2JExnChFUApZX00QuqchSdNFDerb3WGgdWhKq2s+2QhbGF/eFA6c0limrwcYpt7Kp8zdEdqn0ebTh5HDeNO/bT32w9J29m4Kizp+otaWL+u1qvsAvyOfvK/tYolTA50WjQYNQ4EB2hY0JE9VAj68LshSiaOiSuRlvJCxqVbKlNhwb/9OMf/3ipE3UQ1OF7BDJirvmhCHI6UfkfrsXmEiC0NVzT35/97GeLP0sUcT3n2Iwa0ZjlW0+ZMqWIwPwREemGcvIn2cOjjjqq75x99923NOhHGmILIUGEFrHNvdTxIuyklZEw0k30KPFEvd9tP13DnLq9Oo41xomTX/ziF0vnB99Bx359r7rxS6Rj6A1R9jOf+UwRVNRlOpG0G+TBOtLDaDBzq/LtaicTv02HP1FKBJ62lY4IebAGOJiiSX2szoRvxDa2v498ru6svPGNbywCjWeovqMON3lDHpF3tbWNYtKOUw5qJBpRSduS8FM3xxMF+QPKEQHHQn0WVKvXtmo6wUhe9LdADuKSlaz5/PIrP4iQJ8KO36oDkNjWvpdrErKUa+1d5X+oOF/0rFEgyiUR02gReVs682mqP8LOmNpGGR4qvtcuu+xS0oeA5r2JqDoJLNTh2xgmKgqYlsFOSWN1GiFOmdZO95v78wmdQ0Dz7NKIsCvwhf3TNiVeClRiJ7VrCWk1H0hr78dW+f7SG765PCI/1I6smh8sqii/0WCU8US/zVrGXIALg0NovsgBDsNoD8VT2Bnb2RVGTUgv50OFNxijoiex9pCGWQcHWSVtdVBRcxrmdY6N8HSIzJxvjgxHR1rZIsCNDzQaOVOGfXCeDKXiVBo2xBkbTxB9Oc2GvRAHNSw41COB+oTjWXtlQ+iFSAxDuky2L7+YgmKoQ8fDxIBQJhKNeKEB3d7UcYab6qAjIGhU8/WqvdIQ1aAU9aNDWT2pU4+Px492bQ1wjVKCVkWD3crXOv0IfDWCX4NZB6KIF4JVjdbEm970ppJnRxr38p7yf41s8y726ZgjVPORRjLqLowehCC+gDxJADHai6AqPxJ1CZ2mXRoNRH3xE91bviLYEY4s+iGf802IhzrICNLtsmbaHYEx2kiiTHXSVbyHa+skqXPa8nkIvu0yUgU40VwiBImObLznaN+L3+9YojfhSdkeLtoM2ss1ot+/Fe1p7yFCjbg4UrAlBL0qfBLKiHRshKAD9oQtIr6yK0Qw85R7hirMsluuId2JiYR2daG0F7XIRpmz1yiY9ogBAiMh1HfiW/bXhq/fjHjneO1jwSWE3brYYpg1jLkAp9BRZ4XCGktNkWUQhFIyCiqZyY6wUD1xNbJNeukZoVzr+aN4M64UdRCeqPNDHcJLeFMIhQrrCaHK+y42IcPuL5xYxSHKYzwiWk3PUw3t1jNgCfs63IAh06ugcSmfVfymZ0ElomfB8APv7TzG1Lh7vT9h8OhVIYRKR71/esU4vnr5VEDdKOt6wfROy9PmU1PJ6Ckb7BwdsysqQO8ureRfFbbKVeVsPoleKId6sOVngpvKdOeddy6RrCruMGsghOqp5lzpAefUcL70dHKShPwrB3q/xwvyneGoxG/RH8qthm93RMVwUGfJ02wv51zvrPvZ2AhzunAu/Z1OkMmLOlgDkd+nbhYdKeIpnQmTE/4b26DDonsThUMw4EdorBPMRHfwfSsamoQBjU2NUo1554gkIVoZJsbfa/sWzuH7+o0N55PUiGb+NGFBvey4ivNFLHmGkax31eOeo4pv8H4EFOKGdzFML8xa2CkCrCHSogrVcb2QZ+Q3vp4IMvnIN/Q9+bjEm6G22QYDEYjQRWzig3gOeUr+9ryEmjrcs78yp4wpM37v7kST5+XLmvf96x7tMuJcbVWb+/hbG42db9/Hvf1m81z+HS6iR0V2Sl8dO4RO1yQmEuP5Nn7XyT9SiCpUNqsdkhbsiW/rfvwb70mMZI/UbdpFjqnpJ92UfX4ifBv5xPE21yHE89PqOajRw3xNacvvcl438p38x17KbzU/eIb+RtWFsWHMBTiZSaapEzAzFCpNDRTjnSnlkx0FkMMBBopARhBiVBhGhZkjIs2gUDKs0rY6HO2GDaOmN895CmENn3cs4cM99B5oPPouNgttCGVlPH0XDsl4hHFj5OE9pYneS70dfpNenr09Rh6O00A0h4hQXpWV99Zg1juhstI7JN3D4NCzonKTjhwMvTYMvIaWykE+q+gVEnqtV8z/9QARlKR9fw7NREKFq7dOWpnvxbATdlE+1evV3RGhs0InBcFEnt19991L76qQ+nYjJIw97C4nx6YMtIfrcwo11jiCvZyjsYbdM8TFpoeY3SOQaUx4j5HISxq/5jNijw3HEKVS6xUiO+eUbdbJVOu5MHlg2wzv05BVvyov/m8oj0bFRO98CU/VfxqDfFJb3WcoGb9AR5SOVCKXRqsOKkPt+LrsCp+OnemGXWFr+R2uz+fzN9i+/mww38Sx/Gj5r4oBbZ+ljWNHekoBvnava/JhqyDi3zBrEewgWknAgohKdSixh09m3i9trYp8aroRkYu1rtNeEe1lvr/RgLjC55CX24JNhQBTBSBtPJ3lyluvjV0WNDMciH98Imhz9rp+3Yzo0JlMPB8uyjstwdxqvoFRCMqx6TW0ifnZftO2GynUZd02QjnVtlRWq8hpn7LNZvn+1SZVHFNtkzRjg9oCaW3rt3GMb8h++qa+ea+6k08nGjP16vhj1AU4GU6jURg3I9V2uGvUgIwpg1alfLJDCBMJJFy4bnqKhd2LtuCwcla7V2DUWydNTRCrcQM9DgwQwU4h1DvgGqiFu1eat/eN5+/CQRNF2U4rmzH/fvOuGpfbbLPNdGo/A8jgebd2b45jvKs86bfx0Gger2jAE9BUoN2OIydAWqqE5LHa8wKTsAuHF2FIcCe8+YZ6pzjhExH5TU+c4S5C8tvIexyidiVce8H1gIlGlc6EZfPesA3Kf+ZvGB/ondSxofGns6R2CIDw7O/aAz2rkLfMH1RXC+M4atQqezpfan6bEaKGOeWu49160c7H6NUIQOr7yUedC8f8N0RaPox5gDQEJ0PHS3gKdZdN+TfkynxJBAO+moghAocGM39Ag9TwUcKHDj521BAzwkaNKmZzdFxPmTKldOhp8LPJokPq8DCjOQy31+lc0VFtxIl9/BM+o44CHSf8QueI0GyLffaJUieujKT9EnlHmNHYrtflH0kf7ysddNp1w/eq7SrpYKhZWwTqpoozzusWD/gmRsWYt6udTmF6CEWCFHQYy6M6EoxQ8K1qsILvyedj7/xOQDbs1Dc0HFGUuLZZL9THfEL5QH6owithx3BKfqRrq0OHim9vCCyfnDDlPjrJlDmbdibxjH229RK6B4P7aKsq5/KZjmVze9b72JRngSXynXcbzvu0UX7N6aguMfzTSDHtYTaDOKfzeiRRXuka1edTDgUcsE3KrneXV9gh9ojfZSSberD6SL6vfMO38r3ZH8drr+tg97uh93XYcMW8eUZusVvylHdOZ/zsxZxbbrnlQRT8wcAIqHxMbsqZN6+NTK4QV3XVvDKOUVkQ11SKlH497jIk4yTzOc4ms8pYMg7RRGNmVjZURhKGV0XOSA8FhZZSz8AT1RjIqpyLkJE+0klBbQ/XkIbSVvpLa+cwPp6DkdNoF31Qz/E9VRK+pWNVyCpu38V5jIj9HCKO0Wg6yPIRYcYcMEPBMzHi0oqAI+Tbe8hn3oUA6Rv4vR0qLCTZMCgOmB6EWgnIj3qr5GlpbKXO2oszUZEWyqjJWIeCfGLSUZWDCoOT0S7X0pGDrNIz1wVHRYVOTBIBoVKWl4lKKiYVdD1fvhQRNl4xZE+DoFsE7w9lTcVrBSR5krNR31WEKRso/8vPyhsnQhm236TKjpd3hamzq75ZPd8mcoTTFJrS8ymNhzqXlDLPMebY+CbqNzYCnFU2Qh71LdrznfhmhDc2rA7tkO99Fw1LNpmNEu3Nto8EtW5RdgYDAVj+47B5D89cO2Pa+chv3lUe64Y91cDVwBMdzDns5TtwQonz6hX/l/drenBW63wlm2222Yj3SIexwXxcGghDXSxBw57tZ7/Uq/IwsaRt++vcPXWOoTD+UU+pw0W8DgZlnp0k4rMT6nviUc0DNvUh20nAJ6LxQZ3Hv5V/dCrz39gs9ppt4VuoN0XtGFIvf7Fx8hff2f3UDey0exC2qmBFlGCT3MuzEfKcx+/mB7uvc9QvddVyuD575t/B+sga2p5fW8rk855N+rmX39jL6o/qqPQc/FF+lDpEmqifpEMd6aH+kg6mtpAm0lMZq5FI1T8gjAiKcE24X01zfiAfxfnqh16C3+yKNLb4gNEGg40Gqj6B7yTNQMBU39c0k3/lI76tOpHQI3+pa4lk1YcwyoMPoO50TW0Uz1Q7pn2f2hEmb2iDyRPqYzaRf+0Z5D1tM++gPSePuL9/HaPT1m/yeX1GedV3lw/cz7+CNJQv97DVOtr71Cl5XM9zyd/EJn87X17njxJpvYPOdhuf3nMoP84jPnl+z+edtRPaviu7ocwSoFyP3+tfeVuaO0aedk1pKn2IUO7pWaQT0a3iXlW09B7KEBvBTze6ic8+s7ieqY74NvKHdK7pJ019cz6kdjZ7ou0pLZRRz+R9wOYpg45V7ryzsr399tuXNpM0Znd8I7bI+yvrzpEuOhO0veQ57WZ6gLSTlnws+cf7a9/SEJxfz5VHtMekVxh7fHt2eo7/35CcZqjYYPDROF6iV2TC/mCgrE7E2LiRzMXxYqBUCm0UKIVUwTMhI6duomDeNuKbeW+GizSTdoaftZFOKuNu0YTizzgwBoxmhfNickhj1hVsEKoYMvNKcXZ80/p9VPCcHQ0scxpxThTi0YITZLXAmZmonNGXP13He1W8h/ylAVrfnSFkwDhTKsQ2KgnCJ4PNGE509ObKoyq0oaDCMDSSwZd3VHxt5BdOIyHEcEnpevrppzcnn3zyDO+lMiEy+Hb9RdDMSryTiZGtLjUYlDVDazhOnKl2T1aFqKP3UVp5fxWv1ZU4Pt1p243voDGcMPOnVinjGBGHhwLbI7JLD3N/yI9EL3a2DeeSc+9cTmHF9/Bd2RHzW40U6hZOpdWqB4P8plEqXQZCvjMUhO3rhnNpSXw2k2hicvBek/hyTDmZ8jtnz981/3LeiXs6S0R1c57jBM5+iCgXoWQI1lDYbrvtSn0xEBpJfJuhdsaFWcdBBx1UfFUC/VDgC/DZCD41cqiNBilBQ7Su9gT4BWxQ7fxvwy5pvLK1OpzB9jmWbeezELk0hsEeaRzz9+Q5tl17xLPIpyI12TCN2GrD+DXO0fC2QZ41BFGDezDwVQkM5r/VuAb/SNtJm4m/UNFQ9nw65kyXUhExw5/SgNc2A19JZw8fQ2MdfF+rarYDAbQRtCvY6XY7QXtM+klz04j4d6LAj2J/CKnt0TADIW21vQbyCdrIP6LcHM8na6P95Rv4ZsStijzoHO3wOn0FkUqbiBjarj+hs9U3JexYiMSIH0JWFYR7QYx2bP2evrn6mc8j/9W80saz6ASXn5Sz9jODnyAt+bTSk58jiMaIGIKUiC/DyLUh+bHE73Ybs1LbCaakUm7lfRqDdBoI99SBxx60URaI1u7p/67PJ+Rbj0SnjvdgK4h87I17tNOeCCbN3I89qKIf+2gRDt+WgNsu4+wJ30sa+E5VyNdO8i6CGdiuNs6hA/imhhFXCMxE2oHg3/Ediexh7CEo02KGHAEn88lIMr8Ko9fGQAi3lfEIHgqxipT6qjC0j7WfcTCppb8nEjVKoV3xDRUKuDRXobbTjerN+HCC22jYMK4cGj0ejtXgURkQ0doVD0PBIBn+4R4Mff0+Kn3RNhqaGkm1Z2a0GG4EXDeEN/kTNa28iyEMhlrVxh7DxUj6nUGsx9oUDEaQEDIZ8P7DiYCThmyHiCD5VIXQTke/cUo5zjXfEYYJnvJo+9juzbU5GPIuB2W8MdQIOGWNc6aHUIXtnbrfmYOml1RehUpdD5bj2dHu49ubtOIMKPOTneFGwOkhrE5irzS2cYw0ULpX6eWs+m6+q2iKerz6bbfddivfdSQZagQcp1fPLEGw/T7dm/pAPWEy8G68o7Jr87toF+/XjbqC88355DRqPOhxd32NW1MsmPPF/5WLMPsx3Ag40T4ae935rr1VwUEjM8weDDUCrsJ/5WcSuHrZXQ1yIm87EotfYcicBiw/t328qSwMaWbDKmweO6XRKe+pT9kox7NBOqdNkeNZ+L/Q0cLGaZvoeCBsVf/G88r36lp+jLpZ3ctvbEfjDASbSNRQv/u/6zpfx4oOHM9X63xRTiZRrwJkhf/h9yoE+r/6SWOcOEB4tE+95NqeseId3Fe7ot2WY7cFQkhH/59IaBsMNQJOOmpP8MVqGg208Q2kt3zp+7Z/k2cJHtKcCFz383F9H+0R9STUw9rNxLEaTVaPlw9MAyHfqj9Fl3m+gdrkBC7tRTYb/BTtUu1I59a80t50sihL3odf1H5mm2d2nnIr3/EPlE3ppZ3lXp6RryQPaycof9UXqJu8SIg2JNV7yssi65SD9nHdm3sS/brLhXSgVWjXELPZgpHMz963RsBpr9Znrs9F/zjkkEOK7fD/inpNWvjenqvti0knnRjOafvwztfGkNZE3Xq8Tf1I4DSNSBtRkt3fqnuTH+RH/w9jz7Ai4MCR71awe8EwtCNXBjrPcRPRER+JCDiVpK1X2jGivcSJXmnd/T26YeTdp5vBVlQzi96emY2AQ3/5rFce6y9tHStdB0qvicRwI+BQ069X3sFQ7EA3M8qzs5KhRsBVBnr/7vI8o7Rt058tmIwMNwJusOndy5agv/NH49sMNRISoNAAABZjSURBVAIO7UiHgRjoedv5dzDls9c9+0u/MPsw3Ai4/vyMbkajzITRY7gRcBjI7vaXDwaytexLf3apbb8qM7JH/dmwXvceSp51vvJQqc/d6/nqe3XTKx28S3tff+f3SgsMxq7PjgwnAq5X+g6EdLM5vvuc+g16Xa9X3unv3q7Rzq+DsanO6ZUH+rsH2sf398z2tffb59iKv+tx/d0H7Tw3o2PbdKdFReSiUXiEQ7ZJ9CgBbCRwzRoBR+wW6UZUazNQGfJu7TSCY9vp3Y20aNsKOLae12Zm8kMYG2oE3JA9HB+NKDOjrfvDDnRerwIUnqIWlF7p1l3wKr2On1FB8w26z7HNbvSXVr3yWH9pO5DxDNMjnfrLO7budOzv+/TaJuI3GOj9/dZmRmnb3rrPDUNnsOndy5agv/PHy7fpfq7+toGet51/B1M+29etW3/pFyY+sWehm4Hsbn/5YCBbO5Bdatuvus3IHnUfX8/p3jfUPOs52+e7Zn/P19879UqH7n39nd/rXrb+7jUZ6ZW+A22Ola69zrG/v+v1yjv9HWtfm17HdG+O6fVdB3q/+rwDPXP3fvu6/57RfWztZ5vRse3Ncd0Y3kngEGUk0kvE/WhGevV61vb7dNOdRjbXGOgcv/U6p6Zvm8Gk3YzuF8aGodUYIYQQQgghhBBCCLMI0V7majQaxZBQowIMNTZE1LDjww47rAz7nVlMvWHOyo9//ONluL0oNn8b0iwSbmZHb4XJRwS4EEIIIYQQQgghzBYQ4CxYZqECC5OYA41YZiim+drMkWeO6pnFNcxjb7Vlc9+5r7nq3NeKo+3Ft0IYDBHgQgghhBBCCCGEMFtgKKXVQ81LavG87s3KrCOx+qlrmNO91z0sZGgBjhCGQgS4EEIIIYQQQgghzBYQ4KyEaiG5Aw88cLrtgAMOaPbcc8/pVgAeLlZ1tbJ79z1sVilur7wcwmCIABdCCCGEEEIIIYQQwigSAS6EEEIIIYQQQgghhFEkAlwIIYQQQgghhBBCCKNIBLgQQgghhBBCCCGEEEaRCHAhhBBCCCGEEEIIIYwiEeBCCCGEEEIIk4K77767Offcc5vjjjuubCeddFLz+9//vvPr7McTTzzR3HPPPc2UKVP63umcc85p/vznP3eOmDmuueaa5utf/3pz9dVXN3//+987e0MIIQyHCHAhhBBCCCGEScFf/vKX5vTTT28OP/zwsh111FHNb3/7286vsx+PP/54c+eddzbHHHNM3zuddtppIyYqXnTRRSWNLr744ub+++/v7A0hhDAcIsCFEEIIIYQQJgXPetazmiWXXLJ56Utf2sw555ydvbMvz3jGM8o7Lbvsss0LXvCCZp555un8MjLceuutzT/+8Y8S/ZYIuBBCmDkiwIUQQgghhBDGhMcee6wIOg8//HDZiDr2GUrZ3v/II490zvg3jvnnP//Zd0zdnD9t2rTOUdPz5JNPTnfOi170ombPPfdsPve5zzULLbRQ56inru2e7euKLqvXdY+63zO7bjf2+a19De/06KOPNv/617/K/7uf0z16neN+/dFOQ9f2Tscff3yz7bbbNosuumjnqOHjPWpaeD6079l+zl7pIC2738k3sD+EECYzEeBCCCGEEEIIY4L513bcccdm3XXXLdvmm2/enHHGGc1vfvObZuedd+7bf/DBB3fO+DfmIdtnn336jqnbN7/5zea+++7rHDU95kL78Ic/PN3x733ve8tQ1LZ45P6HHHLIdMd973vfK+IRzj///LJv/fXXb7baaqsSGdaNa/rNMfUa7vWFL3yhOeGEE5rtttuuefDBBztHP8UVV1zRvOMd7+g73vae97ynDP3sD8/STsM3velNzb777tv88Y9/7Bwxc9x2221lKOt6663X/OAHPyhpcN555zUf+MAH+u7pt5122qm58cYbO2c9BeHu+uuvbzbZZJO+Y2177LFHc91113WOCiGEyUkEuBBCCCGEEMKYQKD561//WuYTs/3pT39qjj322CKsmfC/7r/sssuaz372s52zmuboo49uPv/5zxfBqh5TNwsP7L///s3ll1/eObpp/va3v5UFFj72sY81P/3pT6c73vxoruWYSo1Eax8nuqxGrPl/3f/AAw9MJ97dddddzdSpU5sPfehD5dr33ntv37G//vWvm29961vNqaeeWn4jkkkD///iF79Y3pFIWI+3mZPO833qU58qwmAbIqHziFn1ePcjlP3whz8szzKz1Ag21xa5Jw28/0MPPdR3T5u/21Ft3s1cdPvtt19z++23T3fsj370o/I+nn+g6L4QQpjIRIALIYQQQgghjAlrrrlms9dee5UILvOwEWNEXP3ud79rVlllleajH/1o8653vauZb775SkSZ37/73e82F1xwQYnEEjF3xBFHTLctssgizS9+8Yvm0ksvbW666aYiFt18881l9U5C1Yorrtjsvffe5diDDjqo2XjjjYvw1xaPXvKSlzTvfve7y7MtuOCCzRxzzNH55Sle9apXNdtss03nr+khkp155pnlnq94xStK9F59tk984hPNWmutVYQx72IoJvHuwgsvbM4666xm3nnnLeJjPd62yy67lGew8IH3rpx99tlFaLOS6xve8Ia+44l15rUj7BHMZhZzyRnOKnLvNa95TZljbo011njac0qrxRdfvJzjmYijxEZC3IYbbtiXDtL89a9/fREjRfZ9+9vfLiJsCCFMNiLAhRBCCCGEEMaEpZZaqgxfJMQ997nPLfsshmB44/vf//4yhNNQzQ9+8IPNZpttVkQrwx9vueWWErF2zz33FPGsvYnWIuhce+21zQ033FCGeYp6E2X28pe/vIh2W2+9dRnqucUWW5R7rL322tMtWLDwwgs3r33ta8uzPfOZz3yaAGeetZVXXrnz178RffbLX/6y3GvppZcuz+1+7mXzf0NEiYTPfvazm+c///lFoPJ8osQIcv5tv49VTc2vRtT62c9+VvaJQjN894477iji2w477NB3D5v7LrPMMs3cc8/debLh4zm9q+sutthizVxzzVUESmlT7/f2t7+9/P2c5zynnCOK7yc/+UmJijPk1DBaae1Y/0qH1VZbrYiqEeBCCJOVCHAhhBBCCCGEWYIIMFFWhm8Sbp73vOc1K6ywQok222CDDUqUmsgpgpQoMtFwRx555HSb6DlRb8Q5ohWh7le/+lW5vsgrwg/hC/PPP3+JZiMgieyaWYhlxCcilUi7jTbaqETvVfz/la98ZXkfIpSIMUNMPSuIa1OmTJnufU477bQi6BEfDd90DFGRcEcYXGeddUpEWsVKqJtuuml5L+LZrMC38ZwEOaIbMbOmgzT3N0HVUF8iqWi9EEKYbESACyGEEEIIIcwSFlhggSLM9CeGifyqwzZFYxG5DFXttRGgrAJKuKoRVi984QtLRFsbUWJLLLFEibybWQiDNkJifyuQioyzCIGFEghkxCdClOd68Ytf3PNd6kaMJGAR+pwjatDfvSBejoSoOBwIoCIRpa1oP6JgG9+Z+Oh79rd6agghTHQiwIUQQgghhBDGJYQcwhZhR2SVCLHTTz+9rJxat5NPPrn5yle+0hx66KHNW9/61nJOHV5qfjlzx1XBpwpAf/jDH4qgNRDOcTzMrVZXRG1DxLMRoAyvJELVcyp1UQPDVd1bNB4RzbBWc62JgGu/jwg4C0hYXOKAAw5oXv3qV5cIO5voPtFw3RFknk30H7FyJJGWou68U/u9/L8usODdpYFv5D0Nm22nuX+9u/n5XM97e5cQQphsRIALIYQQQgghjEsINYaRWpTghBNOKGJb90qfVt7ccsstyxxy5kkTCWbhA1h99Mc//nGZmwxVILIiZ3sV1F4QjaqgZYXRww8/vPy/jaguGyHKogmepXt+M3O8EdPe8pa3lOcXxWdONUNXiYneqw0h77DDDitDci3IQEQURbf88ssXMc/iDeeff37n6KcEPiujWqCBODeSSEtipndqp5coQ3PpEUUvueSSMrefobZEQGlARJQmuO+++8oCEt5JpKA57GbVUNkQQpiVzDF16tRpel7CyGOeB5W/VZfCwJxyyinFMbnyyis7e8JYYWJjebR7mfvQP29729vKxMOGk4TxhdXmNMxOPPHEzp6Jh7rF5OVWowthrDGP1UorrdTst99+nT1hMmN1S5FkIrgGixU7f/SjHxVxy0bIIfKYO6wOW+Q/E9SWW265EmnluN1337255ppryrxijm8vNsDuE4gMN91+++3LAgW33nprc+CBBxaxzbUJeKK0ajQaUQz2Oc+8asQk1xZ1dvXVV5fhns5zL8KWYaAgChLQPvKRjxRx0HxthDUC3EILLVQi3Fy3InrO+QQs1xald9VVV5Vzrr/++nIPwzYr0sQccURDotv+++9f7L5nEuV34403lkUj6gII0qimgfcTXeedzBP36U9/uhwzXAiYX/va18o3kB51Xjf3tOqrZ5fOb37zm8s7HXXUUeWdpIHnk1YiDb2/zcq3BMexioIjSlrUw7MS/0IIYVZg4R3zkSYCLoQQQgghhDAmWMXTogkEMtFlxBnikX06A23EsTrE0vDHF7zgBc2ee+5ZVtYkcBFT6rE2kVZWGt1tt92a9ddfvwg75otzzs4771z+Jlo51r/uK1qOmESwcj+rrBo2abjrrrvuWhpK/q73IpARcuCZiW7u6/le8YpXNB/+8IebT37yk2VfvVfdXNv5hs++8Y1vLPOhEcc+9rGPlWuKEGsf757ESB1+OpaWXXbZch9z3BG/N9lkkzLssx4v7er8eATEKjBK45lFhyNxTbqL2Kv3NJyUIE9QXHXVVcvccxZa0Kmrg1LaOaYeK60Jo44XMTgW4lsIIYw3EgE3iiQCbvAkAm7WkQi4oZMIuPFLIuBCGF0SARfaDCcC7tJLLy2reQ40/5ooKSujtqPCQMixuqlhjt04XrQYoaiN4Zsix4hcFcMfV1999TKslJAFopC51pZccskSgcYntaqn6DWIeLNdfvnl5W+wxcsss0zfwgci1gy97KZG2RHOuiG2GcLZjSg2wt7KK6/c2fNvRJhZSZTIVbGYA1FLpJpIO/cUZbbxxht3jhg+fEQr0bbTkEC49tprl6Gn7UUufFfRexdeeGFf2oGI6hu97GUv6+wZGxIBF0IYD9QIuAhwo0gEuMETAW7WEQFu6ESAG79EgAthdIkAF9oMR4ALYSyJABdCGA9kCGoIIYQQQgghhBBCCGNABLgQQgghhBBCCCGEEEaRCHAhhBBCCCGEEEIIIYwiEeBCCCGEEEIIIYQQQhhFIsCFEEIIIYQQQgghhDCKRIALIYQQQgghhBBCCGEUiQAXQgghhBBCCCGEEMIoEgEuhBBCCCGEEEIIIYRRJAJcCCGEEEIIYcx5/PHHmwcffLC5+eabm1tuuaV59NFHO7+MPA8//HBz2223NX/605+aBx54oLN3ZHjsscea++67r7xHr+33v/99c/vtt3eODiGEMFmJABdCCCGEEEIYE6ZNm1aEN6LV3Xff3Zx55pnNhhtu2Oy6667NTTfd1DlqZHjiiSfKfWyXXXZZs9deezU77LBDc/rpp3eOGBnuvPPO5uSTT2422GCDnttmm23W7Lfffp2jQwghTFYiwIUQQgghhBDGhBtuuKHZd999m3XXXbfZYostmi9/+cudX0aWhx56qDn66KObTTfdtNzrwAMPbK677rrOryGEEMLYEwEuhBBCCCGEMCbce++9zR133FGixu6///5mjjnm6Pwysoh6++Mf/9h3r3/961/NXHPN1fl1dJh77rmbZZZZpjnmmGOab3zjG33bSSed1Hz84x/vHBVCCGGyEgEuhBBCCCGEMCYsu+yyzU477dQceuihZVimIZqjwbOf/exmq622ag4++OByr6233rpZYoklOr+ODs94xjPKfVdeeeVmjTXW6NtWW221Zvnll+8cFUIIYbISAS6EEEIIIYQwJiy++OLNeuutVwSxTTbZpFlhhRU6v4wsz3zmM5u11lqr2Xzzzcu9Vl111eY5z3lO59fRwZxzd911V5kPThRcjYS79tprO0eEEEKYzESACyGEEEIIIYxrrrzyyua8884bcDPH21//+tfOGWOPxSUMdz3uuOOaz3/+82U78sgjm6lTp0aECyGEEAEuhBBCCCGEML4hZu22224Dbqeeempz2223dc4YOww9Nb+c+ezmm2++Mtz0Va96Vdn8dv7555douPvuu6958sknO2eFEEKYbESACyGEEEIIIYxr5p9//mbBBRcccDPsdM455+ycMXZ4tkUWWaR53vOeV+Z/MwT1O9/5Ttl23HHH5tFHH22uv/768vcjjzzSOSuEEMJkIwJcCCGEEEIIYVxz7LHHNpdeeumAm0UdrEI61phb7p3vfGdz0UUXlUg3QlyFILfRRhsV4e3Xv/51GaYaQghhchIBLoQQQgghhDCuWWCBBZqFF154wM3wz1kRAWfo6bzzzluEOM9p2GnF0NR55pmnmTZtWsS3EEKY5ESACyGEEEIIIYQubrrppuZLX/pSs/vuu5eFFHrx0EMPNeecc05zwAEHNGeeeWZn77+59dZbmxtuuKGIcEsttdQsEQhDCCGMDyLAhRBCCCGEEMaEm2++uTnttNOaI444ojn++OObyy67rOy/++67m69//etl/1FHHdV8//vfL/uHyz/+8Y/m3HPPLddyTf+3QAPB7Iorrij7bN/85jeLSNaLn//852UBBXO3eZ4bb7yx88u/+ec//9n85je/ac4666zmlFNO6btu3c4444xy30UXXbRZb731ihAXQghhchIBLoQQQgghhDAm/OEPfyhiFWHsq1/9anP55ZeX4Zn33ntvEebsbwtzw4UARzw77rjjyjX9/4477igC3FVXXVX22c4+++x+V041b9sTTzxR/m/4aK8FFJ71rGeV1U5XXXXVItDV69aNiLfssss2b3/725sVV1yxmXvuuTtnhhBCmGxEgAshhBBCCCGMCeZJW2655Ypg1d+2yiqrNEsuuWTnjOFh7rWll166XKvXPermWayg2ovXve51zRprrFGOW3311YuA1s1CCy3UbLzxxs0+++zTrL322k+7vqi37bffvtlpp506Z4QQQpiszDF16tRp2267befPMJJsvvnmzVprrdXsvffenT2hP4Ts66G88sorO3vCWHHeeeeVPGr4RBgcb3vb24pDvccee3T2hPHCJz7xieauu+5qTjzxxM6eiYe6Zc011yyNvRDGmm222aZZaaWVymqTIRx00EElom3KlCmdPSGML37wgx802223XRn6bKGMEEKYFfz0pz9tVltttUTAhRBCCCGEEEIIIYQwmkSACyGEEEIIIYQQQghhFIkAF0IIIYQQQgghhBDCKBIBLoQQQgghhBBCCCGEUSQCXAghhBBCCCGEEEIIo0gEuBBCCCGEEEIIIYQQRpEIcCGEEEIIIYQQQgghjCIR4EIIIYQQQgghhBBCGEUiwIUQQgghhBBCCCGEMIpEgAshhBBCCCGEEEIIYRSJABdCCCGEEEIIIYQQwigSAS6EEEIIIYQQQgghhFEkAlwIIYQQQgghhBBCCKNIBLgQQgghhBBCCCGEEEaRCHAhhBBCCCGEEEIIIYwiEeBCCCGEEEIIIYQQQhg1mub/Ab6tIylfifkNAAAAAElFTkSuQmCC)"
      ],
      "metadata": {
        "id": "e5JF1f1JFtun"
      }
    },
    {
      "cell_type": "markdown",
      "source": [
        "Reasons for churn those who have taken BOTH INTERNATIONAL AND VOICE MAIL plan:\n",
        "\n",
        "2)Because price of INTL CALL RATE/min for International plan is same as the price of INTL CALL RATE/min for NO PLAN. Thus there is no extra benefit for taking International Plan."
      ],
      "metadata": {
        "id": "nQYG9n4mF2ye"
      }
    },
    {
      "cell_type": "markdown",
      "source": [
        "![image.png](data:image/png;base64,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)"
      ],
      "metadata": {
        "id": "D7xdE2CpF6bm"
      }
    },
    {
      "cell_type": "markdown",
      "source": [
        "3) Customer service calls mean is 1-1.7 and it’s good and try to keep between 1-1.5."
      ],
      "metadata": {
        "id": "iDQkfV9EGFdw"
      }
    },
    {
      "cell_type": "markdown",
      "source": [
        "Customer service calls(mean)-1.7\n",
        "\n",
        "Customer service calls(median)-1"
      ],
      "metadata": {
        "id": "Cg2p9td1GGgW"
      }
    },
    {
      "cell_type": "markdown",
      "source": [
        "I think, for respective area codes those who have taken voice mail plans where there we see a more differnce between the maximum number of vmail sent from that area and the average number of vmail sent for that area. So, here we can conclude like this that\n",
        "\n",
        "May be customers are using voice mail as per their requirement or may be there would be some network unstability for which they won't able to send more voice mails while they get access of around 50 voicemails in voicemail plan but they are using on an average of 25-35.\n",
        "\n",
        "on my own experience i know and felt that the voice mail needs more network stability to get sent through.\n",
        "\n",
        "If this is the problem , then i have found some states with poor network status and some states network needs maintenence."
      ],
      "metadata": {
        "id": "axcp2D1zGK_A"
      }
    },
    {
      "cell_type": "markdown",
      "source": [
        "4) POOR NETWORK STATES FROM AREA CODE 415,408 :-\n",
        "\n",
        "'GA', 'NV', 'OR', 'NC', 'KS', 'MA'\n",
        "\n",
        "5) STATES NEED MAINTAINANCE OR NEW INSTALLATION REQUIRED :-\n",
        "\n",
        "'WV', 'NJ'"
      ],
      "metadata": {
        "id": "_E9DYiJDGNfW"
      }
    },
    {
      "cell_type": "markdown",
      "source": [
        "## ***4. Data Vizualization, Storytelling & Experimenting with charts : Understand the relationships between variables***"
      ],
      "metadata": {
        "id": "GF8Ens_Soomf"
      }
    },
    {
      "cell_type": "markdown",
      "source": [
        "# **Chart - 1 - Pie Chart on Dependant Variable i.e., Churn (Univariate)**"
      ],
      "metadata": {
        "id": "0wOQAZs5pc--"
      }
    },
    {
      "cell_type": "code",
      "source": [
        "# Chart - 1 visualization code\n",
        "# Dependant Column Value Counts\n",
        "print(dataset.Churn.value_counts())\n",
        "print(\" \")\n",
        "# Dependant Variable Column Visualization\n",
        "dataset['Churn'].value_counts().plot(kind='pie',\n",
        "                              figsize=(15,6),\n",
        "                               autopct=\"%1.1f%%\",\n",
        "                               startangle=90,\n",
        "                               shadow=True,\n",
        "                               labels=['Not Churn(%)','Churn(%)'],\n",
        "                               colors=['skyblue','red'],\n",
        "                               explode=[0,0]\n",
        "                              )"
      ],
      "metadata": {
        "id": "7v_ESjsspbW7"
      },
      "execution_count": null,
      "outputs": []
    },
    {
      "cell_type": "markdown",
      "source": [
        "##### 1. Why did you pick the specific chart?"
      ],
      "metadata": {
        "id": "K5QZ13OEpz2H"
      }
    },
    {
      "cell_type": "markdown",
      "source": [
        "A pie chart expresses a part-to-whole relationship in your data. It's easy to explain the percentage comparison through area covered in a circle with different colors. Where differenet percentage comparison comes into action pie chart is used frequently. So, I used Pie chart and which helped me to get the percentage comparision of the dependant variable."
      ],
      "metadata": {
        "id": "XESiWehPqBRc"
      }
    },
    {
      "cell_type": "markdown",
      "source": [
        "##### 2. What is/are the insight(s) found from the chart?"
      ],
      "metadata": {
        "id": "lQ7QKXXCp7Bj"
      }
    },
    {
      "cell_type": "markdown",
      "source": [
        "From the above chart I got to know that, there are 2850 customers which are not churned which is 85.5% of the whole customers data given in the dataset. In other hand, 483 customers are churned which is 14.%% of the whold customers data given in the dataset.\n",
        "\n",
        "14.5% customers are churned which might look like a small number, but once upon a time the 14.5% was 1.45% which has grown upto 14.5%. So, Immediate action should be taken."
      ],
      "metadata": {
        "id": "C_j1G7yiqdRP"
      }
    },
    {
      "cell_type": "markdown",
      "source": [
        "##### 3. Will the gained insights help creating a positive business impact?\n",
        "Are there any insights that lead to negative growth? Justify with specific reason."
      ],
      "metadata": {
        "id": "448CDAPjqfQr"
      }
    },
    {
      "cell_type": "markdown",
      "source": [
        "Customer churn is often referred to as customer attrition, or customer defection which is the rate at which the customers are lost. Telecom companies often use customer churn as a key business metrics to predict the number of customers that will leave a telecom service provider. Churn is significant in the telecommunication industry because it directly affects the competitiveness of the service provider.\n",
        "\n",
        "It's easy to loss customers but too difficult to aquire one. One churned cutomer will make 3-4 customers away those might be acquired by your teleservice provider with \"POWER OF WORDS\".\n",
        "\n",
        "When Jio provided free internnet services to everyone, and started acquiring maximum number of customers, so cutomer churn rate for other teleservice providers increased and customers from other teleservice providers those who converted to JIO spread the benefit of JIO to their relatives and friends and they also converted too easily. So, \"POWER OF WORDS\" also comes into action that wrong and bad reviews spread first."
      ],
      "metadata": {
        "id": "3cspy4FjqxJW"
      }
    },
    {
      "cell_type": "markdown",
      "source": [
        "# **Chart - 2 - State Vs. Average True Churn Percentage (Bivariate with Categorical - Numerical)**"
      ],
      "metadata": {
        "id": "KSlN3yHqYklG"
      }
    },
    {
      "cell_type": "code",
      "source": [
        "# Chart - 2 visualization code\n",
        "# Showing Average True Churn Percentage state wise\n",
        "# Showing top 10 churned state\n",
        "print((dataset.groupby(['State'])['Churn'].mean()*100).sort_values(ascending = False).reset_index(name=\"Average True CHurn %\").head(10))\n",
        "print(\" \")\n",
        "\n",
        "# State vs. average true churn percantage visualization code\n",
        "# Vizualizing top 10 churned state\n",
        "plt.rcParams['figure.figsize'] = (12, 7)\n",
        "color = plt.cm.copper(np.linspace(0, 0.5, 20))\n",
        "((dataset.groupby(['State'])['Churn'].mean())*100).sort_values(ascending = False).head(10).plot.bar(color = ['violet','indigo','b','g','y','orange','r'])\n",
        "plt.title(\" State with most churn percentage\", fontsize = 20)\n",
        "plt.xlabel('state', fontsize = 15)\n",
        "plt.ylabel('percentage', fontsize = 15)\n",
        "plt.show()"
      ],
      "metadata": {
        "id": "R4YgtaqtYklH"
      },
      "execution_count": null,
      "outputs": []
    },
    {
      "cell_type": "code",
      "source": [
        "# Showing Average True Churn Percentage state wise\n",
        "# Showing top 10 churned state\n",
        "print((dataset.groupby(['State'])['Churn'].mean()*100).sort_values(ascending = True).reset_index(name=\"Average True CHurn %\").head(10))\n",
        "print(\" \")\n",
        "\n",
        "\n",
        "\n",
        "# State vs. average true churn percantage visualization code\n",
        "# Vizualizing bottom 10 churned state\n",
        "plt.rcParams['figure.figsize'] = (12, 7)\n",
        "color = plt.cm.copper(np.linspace(0, 0.5, 20))\n",
        "((dataset.groupby(['State'])['Churn'].mean())*100).sort_values(ascending = True).head(10).plot.bar(color = ['violet','indigo','b','g','y','orange','r'])\n",
        "plt.title(\" State with most churn percentage\", fontsize = 20)\n",
        "plt.xlabel('state', fontsize = 15)\n",
        "plt.ylabel('percentage', fontsize = 15)\n",
        "plt.show()"
      ],
      "metadata": {
        "id": "I2uv5-eALncw"
      },
      "execution_count": null,
      "outputs": []
    },
    {
      "cell_type": "markdown",
      "source": [
        "##### 1. Why did you pick the specific chart?"
      ],
      "metadata": {
        "id": "t6dVpIINYklI"
      }
    },
    {
      "cell_type": "markdown",
      "source": [
        "Bar charts show the frequency counts of values for the different levels of a categorical or nominal variable. Sometimes, bar charts show other statistics, such as percentages.\n",
        "\n",
        "To show the average percentage of true churn with respect to states, I have used Bar Chart."
      ],
      "metadata": {
        "id": "5aaW0BYyYklI"
      }
    },
    {
      "cell_type": "markdown",
      "source": [
        "##### 2. What is/are the insight(s) found from the chart?"
      ],
      "metadata": {
        "id": "ijmpgYnKYklI"
      }
    },
    {
      "cell_type": "markdown",
      "source": [
        "There are 51 states having different churn rates .\n",
        "\n",
        "CA, NJ ,TX , MD ,SC ,MI, MS, NV, WA, ME are the ones who have higher churn rate more then 21.74% which is more than 50% of average churn rate.\n",
        "\n",
        "Under the Data wrangling, I have defined a hypothetical logic for some states with poor network region and some states where service needs to be maintained or new installations required. So, here states [ ' NV ', ' NJ ' ] are common which are in top 10 churned states."
      ],
      "metadata": {
        "id": "PSx9atu2YklI"
      }
    },
    {
      "cell_type": "markdown",
      "source": [
        "##### 3. Will the gained insights help creating a positive business impact?\n",
        "Are there any insights that lead to negative growth? Justify with specific reason."
      ],
      "metadata": {
        "id": "-JiQyfWJYklI"
      }
    },
    {
      "cell_type": "markdown",
      "source": [
        "Yes, the data of state wise churning depicts that 10% of a large state is same as 20% of a smaller state. So, we can't neglect the churn rates and will have to sagreggate based on the area covereage in respective states. Still, priotizing to actionable tasks we should try to figure out the issues in top 10 churning states first.\n",
        "\n",
        "The issue might be poor network coverage or negligible maintaince on existing antenna, or total area coverage & no. of mobile tower or users is low or new towers needs to be installed to coverage additional areas."
      ],
      "metadata": {
        "id": "BcBbebzrYklV"
      }
    },
    {
      "cell_type": "markdown",
      "source": [
        "# **Chart - 3 - Account Length with Churn Wise (Univariate)**"
      ],
      "metadata": {
        "id": "EM7whBJCYoAo"
      }
    },
    {
      "cell_type": "code",
      "source": [
        "# Chart - 3 visualization code\n",
        "# Chart - 3 visualization code\n",
        "# One Digit Account Length\n",
        "print(dataset[dataset['Account length']<=9].loc[:,['Churn']].value_counts())\n",
        "print(\" \")\n",
        "\n",
        "# Visualizing One Digit Account Length Based on Churn percentage\n",
        "dataset[dataset['Account length']<=9].loc[:,['Churn']].value_counts().plot(kind='pie',\n",
        "                              figsize=(15,6),\n",
        "                               autopct=\"%1.1f%%\",\n",
        "                               startangle=90,\n",
        "                               shadow=True,\n",
        "                               labels=['No','Yes'],\n",
        "                               colors=['skyblue','red'],\n",
        "                               explode=[0,0]\n",
        "                              )"
      ],
      "metadata": {
        "id": "t6GMdE67YoAp"
      },
      "execution_count": null,
      "outputs": []
    },
    {
      "cell_type": "code",
      "source": [
        "# Two Digit Account Length\n",
        "print(dataset[(dataset['Account length']<=99) & (dataset['Account length']>=10)].loc[:,['Churn']].value_counts())\n",
        "print(\" \")\n",
        "\n",
        "# Visualizing Two Digit Account Length Based on Churn percentage\n",
        "dataset[(dataset['Account length']<=99) & (dataset['Account length']>=10)].loc[:,['Churn']].value_counts().plot(kind='pie',\n",
        "                              figsize=(15,6),\n",
        "                               autopct=\"%1.1f%%\",\n",
        "                               startangle=90,\n",
        "                               shadow=True,\n",
        "                               labels=['No','Yes'],\n",
        "                               colors=['skyblue','red'],\n",
        "                               explode=[0,0]\n",
        "                              )"
      ],
      "metadata": {
        "id": "FK51twyrMgDV"
      },
      "execution_count": null,
      "outputs": []
    },
    {
      "cell_type": "code",
      "source": [
        "# Three Digit Account Length\n",
        "print(dataset[(dataset['Account length']<=dataset['Account length'].max()) & (dataset['Account length']>=100)].loc[:,['Churn']].value_counts())\n",
        "print(\" \")\n",
        "\n",
        "# Visualizing Three Digit Account Length Based on Churn percentage\n",
        "dataset[(dataset['Account length']<=dataset['Account length'].max()) & (dataset['Account length']>=100)].loc[:,['Churn']].value_counts().plot(kind='pie',\n",
        "                              figsize=(15,6),\n",
        "                               autopct=\"%1.1f%%\",\n",
        "                               startangle=90,\n",
        "                               shadow=True,\n",
        "                               labels=['No','Yes'],\n",
        "                               colors=['skyblue','red'],\n",
        "                               explode=[0,0]\n",
        "                              )"
      ],
      "metadata": {
        "id": "qcYiolQsMkMJ"
      },
      "execution_count": null,
      "outputs": []
    },
    {
      "cell_type": "code",
      "source": [
        "# Box Plot for Account Length attribute\n",
        "dataset.boxplot(column='Account length',by='Churn')"
      ],
      "metadata": {
        "id": "w8ZhAuEUM14F"
      },
      "execution_count": null,
      "outputs": []
    },
    {
      "cell_type": "markdown",
      "source": [
        "##### 1. Why did you pick the specific chart?"
      ],
      "metadata": {
        "id": "fge-S5ZAYoAp"
      }
    },
    {
      "cell_type": "markdown",
      "source": [
        "A pie chart expresses a part-to-whole relationship in your data. It's easy to explain the percentage comparison through area covered in a circle with different colors. Where differenet percentage comparison comes into action pie chart is used frequently. So, I used Pie chart and which helped me to get the percentage comparision of the churn percentage account length wise.\n",
        "\n",
        "Box plots are used to show distributions of numeric data values, especially when you want to compare them between multiple groups. They are built to provide high-level information at a glance, offering general information about a group of data's symmetry, skew, variance, and outliers. So, I used box plot to get the maximum and minimum value with well sagreggated outliers with well defined mean and median as shown in the box plot graph."
      ],
      "metadata": {
        "id": "5dBItgRVYoAp"
      }
    },
    {
      "cell_type": "markdown",
      "source": [
        "##### 2. What is/are the insight(s) found from the chart?"
      ],
      "metadata": {
        "id": "85gYPyotYoAp"
      }
    },
    {
      "cell_type": "markdown",
      "source": [
        "Account Length\n",
        "\n",
        "We can catagories Account Length into three catagories like\n",
        "\n",
        "One Digit Length\n",
        "\n",
        "Churn True -8.3%\n",
        "\n",
        "No. of Churn True-2\n",
        "\n",
        "Churn False-91.7%\n",
        "\n",
        "Two Digit Length\n",
        "\n",
        "Churn True -14.0%\n",
        "\n",
        "No. of Churn True-225\n",
        "\n",
        "Churn False-86.0%\n",
        "\n",
        "Three Digit Length\n",
        "\n",
        "Churn True -15.0%\n",
        "\n",
        "No. of Churn True-256\n",
        "\n",
        "Churn False-85.0%\n",
        "\n",
        "REMARK\n",
        "\n",
        "AS from the above record, we can see that Two digit Account Length customers are churning with a number of 225 And Three digit Account Length customers are churning with a number of 256"
      ],
      "metadata": {
        "id": "4jstXR6OYoAp"
      }
    },
    {
      "cell_type": "markdown",
      "source": [
        "##### 3. Will the gained insights help creating a positive business impact?\n",
        "Are there any insights that lead to negative growth? Justify with specific reason."
      ],
      "metadata": {
        "id": "RoGjAbkUYoAp"
      }
    },
    {
      "cell_type": "markdown",
      "source": [
        "Are there any insights that lead to negative growth? Justify with specific reason.\n",
        "\n",
        "Account length is the no. of days the customers are active. So for the new customers those churning rate is too low around 8.3% in percentage and number is 2. They might be just using the telecom service to experience the benefits and they might not be satisfied with the service provided and churned.\n",
        "\n",
        "Those people whose account length are between 10 to 99 are having a churning rate of 15%. The customers below 50 might be treated as new customers and more than 55 and less than 99 they mightn't be geting benefits from plan taken.\n",
        "\n",
        "Those people whise account length are more than 100 are like of old customers and they might be churning due to no additional offers given to them like power plus plan or other benefits.\n",
        "\n",
        "So, Yes Account Length is also depicting a clear view of churing reasons and inaights."
      ],
      "metadata": {
        "id": "zfJ8IqMcYoAp"
      }
    },
    {
      "cell_type": "markdown",
      "source": [
        "# **Chart - 4 - Area Code (Bivariate)**"
      ],
      "metadata": {
        "id": "4Of9eVA-YrdM"
      }
    },
    {
      "cell_type": "code",
      "source": [
        "# Chart - 4 visualization code\n",
        "# Area Code wise average churn Percentage\n",
        "print(dataset.groupby('Area code')['Churn'].mean()*100)\n",
        "print(\" \")\n",
        "\n",
        "# Visualizing code for Area Code wise average churn percentage\n",
        "a1= list(['408','415' , '510'])\n",
        "b1= dataset.groupby('Area code')['Churn'].mean()*100\n",
        "plt.bar(a1,b1, color=['r','b','g'])\n",
        "\n",
        "plt.rcParams['figure.figsize'] = (6, 5)\n",
        "\n",
        "\n",
        "plt.xlabel('Area code', fontsize = 15)\n",
        "plt.ylabel('churn percentage', fontsize = 15)\n",
        "plt.show()"
      ],
      "metadata": {
        "id": "irlUoxc8YrdO"
      },
      "execution_count": null,
      "outputs": []
    },
    {
      "cell_type": "markdown",
      "source": [
        "##### 1. Why did you pick the specific chart?"
      ],
      "metadata": {
        "id": "iky9q4vBYrdO"
      }
    },
    {
      "cell_type": "markdown",
      "source": [
        "Bar charts show the frequency counts of values for the different levels of a categorical or nominal variable. Sometimes, bar charts show other statistics, such as percentages.\n",
        "\n",
        "To show the average percentage of true churn with respect to Area Code, I have used Bar Chart."
      ],
      "metadata": {
        "id": "aJRCwT6DYrdO"
      }
    },
    {
      "cell_type": "markdown",
      "source": [
        "##### 2. What is/are the insight(s) found from the chart?"
      ],
      "metadata": {
        "id": "F6T5p64dYrdO"
      }
    },
    {
      "cell_type": "markdown",
      "source": [
        "All Area Code have around 14% Churn rate. So, Area Code doesn't matter."
      ],
      "metadata": {
        "id": "Xx8WAJvtYrdO"
      }
    },
    {
      "cell_type": "markdown",
      "source": [
        "##### 3. Will the gained insights help creating a positive business impact?\n",
        "Are there any insights that lead to negative growth? Justify with specific reason."
      ],
      "metadata": {
        "id": "y-Ehk30pYrdP"
      }
    },
    {
      "cell_type": "markdown",
      "source": [
        "No, Area Code doesn't have any contribution to churn rate for 14% churn rate is same for all the area codes. But while furthur sagreggating the area codes with respective states in those area code, it can be analysed the states in which the issue is happeing. So, it has been defined above.\n",
        "\n",
        "So, here Area code won't help to create business impact but the respective states wise analysis can help."
      ],
      "metadata": {
        "id": "jLNxxz7MYrdP"
      }
    },
    {
      "cell_type": "markdown",
      "source": [
        "# **Chart - 5 - International Plan (Univariate + Bivariate)**"
      ],
      "metadata": {
        "id": "bamQiAODYuh1"
      }
    },
    {
      "cell_type": "code",
      "source": [
        "# Chart - 5 visualization code\n",
        "# Visualizing Percentage of customers taken international plan\n",
        "dataset['International plan'].value_counts().plot(kind='pie',\n",
        "                              figsize=(15,6),\n",
        "                               autopct=\"%1.1f%%\",\n",
        "                               startangle=90,\n",
        "                               shadow=True,\n",
        "                               labels=['No','Yes'],\n",
        "                               colors=['skyblue','red'],\n",
        "                               explode=[0,0]\n",
        "                              )"
      ],
      "metadata": {
        "id": "TIJwrbroYuh3"
      },
      "execution_count": null,
      "outputs": []
    },
    {
      "cell_type": "code",
      "source": [
        "# Assigning values for further charts\n",
        "i1 = dataset['International plan'].unique()\n",
        "i2 = dataset.groupby('International plan')['Churn'].mean()*100\n",
        "i3 = dataset.groupby(['International plan'])['Total intl charge'].mean()\n",
        "i4 = dataset.groupby([\"Churn\"])['Total intl minutes'].mean()"
      ],
      "metadata": {
        "id": "sZ8-t-x-OqcJ"
      },
      "execution_count": null,
      "outputs": []
    },
    {
      "cell_type": "code",
      "source": [
        "# Visualizing code for people churning percentage having international plan\n",
        "plt.rcParams['figure.figsize'] = (6, 7)\n",
        "\n",
        "plt.bar(i1,i2 , color=['b','r'])\n",
        "\n",
        "plt.title(\" Percentage of people leaving\", fontsize = 20)\n",
        "plt.xlabel('International plan', fontsize = 15)\n",
        "plt.ylabel('percentage', fontsize = 15)\n",
        "plt.show()"
      ],
      "metadata": {
        "id": "T3UpySuNQdNX"
      },
      "execution_count": null,
      "outputs": []
    },
    {
      "cell_type": "code",
      "source": [
        "# Visualizing code for average calling charge of customers having international plan\n",
        "plt.rcParams['figure.figsize'] = (6, 7)\n",
        "\n",
        "plt.bar(i1,i3, color=['b','r'])\n",
        "plt.title(\" Average charge of people\", fontsize = 20)\n",
        "plt.xlabel('International plan', fontsize = 15)\n",
        "plt.ylabel(' charge', fontsize = 15)\n",
        "plt.show()"
      ],
      "metadata": {
        "id": "-lLMU5VxQhUC"
      },
      "execution_count": null,
      "outputs": []
    },
    {
      "cell_type": "code",
      "source": [
        "# Visualizing code for average minutes takled by customers having international plan\n",
        "plt.rcParams['figure.figsize'] = (6, 7)\n",
        "\n",
        "plt.bar(i1,i4, color=['b','r'])\n",
        "plt.title(\" Average minute people talk\", fontsize = 20)\n",
        "plt.xlabel('International plan', fontsize = 15)\n",
        "plt.ylabel(' Minutes', fontsize = 15)\n",
        "plt.show()"
      ],
      "metadata": {
        "id": "HK34F1uqQlts"
      },
      "execution_count": null,
      "outputs": []
    },
    {
      "cell_type": "markdown",
      "source": [
        "##### 1. Why did you pick the specific chart?"
      ],
      "metadata": {
        "id": "QHF8YVU7Yuh3"
      }
    },
    {
      "cell_type": "markdown",
      "source": [
        "Pie charts are used to represent the proportional data or relative data in a single chart. The concept of pie slices is used to show the percentage of a particular data from the whole pie.\n",
        "\n",
        "Thus, I used to show the percentage of people taken international plan through pie chart with differentr colored area under a circle.\n",
        "\n",
        "A bar chart is used when you want to show a distribution of data points or perform a comparison of metric values across different subgroups of your data. From a bar chart, we can see which groups are highest or most common, and how other groups compare against the others.\n",
        "\n",
        "Thus, I used bar chart to show the percentage of customers churned having international plan and the avergae calling charge as well as conversation average minutes of customers those have international plan."
      ],
      "metadata": {
        "id": "dcxuIMRPYuh3"
      }
    },
    {
      "cell_type": "markdown",
      "source": [
        "##### 2. What is/are the insight(s) found from the chart?"
      ],
      "metadata": {
        "id": "GwzvFGzlYuh3"
      }
    },
    {
      "cell_type": "markdown",
      "source": [
        "INTERNATIONAL PLAN\n",
        "\n",
        "3010 dont have a international plan\n",
        "\n",
        "323 have a international plan\n",
        "\n",
        "Among those who have a international plan 42.4 % people churn.\n",
        "\n",
        "Whereas among those who dont have a international plan only 11.4 % people churn.\n",
        "\n",
        "Among those who have a international plan their average charge is 2.86 and they talk for 10.7 minutes average .\n",
        "\n",
        "Whereas among those who dont have a international plan their average charge is 2.75 and they talk for 10.15 minutes average .\n",
        "\n",
        "The reason why people having international plan might be leaving is that they are [paying same amount of money for international calls as for those customers who dont have a international plan.Hence they arent getting any benefits for having an international plan so they might be unhappy.\n",
        "\n",
        "*Customers with the International Plan tend to churn more frequently *"
      ],
      "metadata": {
        "id": "uyqkiB8YYuh3"
      }
    },
    {
      "cell_type": "markdown",
      "source": [
        "##### 3. Will the gained insights help creating a positive business impact?\n",
        "Are there any insights that lead to negative growth? Justify with specific reason."
      ],
      "metadata": {
        "id": "qYpmQ266Yuh3"
      }
    },
    {
      "cell_type": "markdown",
      "source": [
        "Yes, the insights found will definitely help for a positive business impact. Thsoe people who have international plan they are paying some additional charges to get the plan but the talk time value charge is same as those customers having no international plan. That's might be great reason for more churns those having international plan."
      ],
      "metadata": {
        "id": "_WtzZ_hCYuh4"
      }
    },
    {
      "cell_type": "markdown",
      "source": [
        "# **Chart - 6 - Voice Mail (Univariate + Bivariate)**"
      ],
      "metadata": {
        "id": "OH-pJp9IphqM"
      }
    },
    {
      "cell_type": "code",
      "source": [
        "# Chart - 6 visualization code\n",
        "# vizualizing code for customers percentage having voice mail plan\n",
        "dataset['Voice mail plan'].value_counts().plot(kind='pie',\n",
        "                              figsize=(15,6),\n",
        "                               autopct=\"%1.1f%%\",\n",
        "                               startangle=90,\n",
        "                               shadow=True,\n",
        "                               labels=['No','Yes'],\n",
        "                               colors=['skyblue','red'],\n",
        "                               explode=[0,0]\n",
        "                              )"
      ],
      "metadata": {
        "id": "kuRf4wtuphqN"
      },
      "execution_count": null,
      "outputs": []
    },
    {
      "cell_type": "code",
      "source": [
        "# Vizualizing code for customers churning while having voice mail plan\n",
        "plt.rcParams['figure.figsize'] = (6, 7)\n",
        "\n",
        "cc1=list(['no','yes'])\n",
        "cc2=dataset.groupby('Voice mail plan')['Churn'].mean()*100\n",
        "plt.bar(cc1,cc2, color=['b','r'])\n",
        "\n",
        "plt.title(\" Percentage of people leaving\", fontsize = 20)\n",
        "plt.xlabel('Voice mail plan', fontsize = 15)\n",
        "plt.ylabel('percentage', fontsize = 15)\n",
        "plt.show()"
      ],
      "metadata": {
        "id": "K-J9e_bUegFt"
      },
      "execution_count": null,
      "outputs": []
    },
    {
      "cell_type": "markdown",
      "source": [
        "##### 1. Why did you pick the specific chart?"
      ],
      "metadata": {
        "id": "bbFf2-_FphqN"
      }
    },
    {
      "cell_type": "markdown",
      "source": [
        "Pie chart is a type of graph in which a circle is divided into sectors that each represents a proportion of the whole. Pie charts are a useful way to organize data in order to see the size of components relative to the whole, and are particularly good at showing percentage or proportional data.\n",
        "\n",
        "Thus, I have used pie chart to show the percentage of customers having voice mail plan.\n",
        "\n",
        "The bar graph is used to compare the items between different groups over time. Bar graphs are used to measure the changes over a period of time.\n",
        "\n",
        "Thus, I have used bar chart to show the percentage of customers churned having voice mail plan."
      ],
      "metadata": {
        "id": "loh7H2nzphqN"
      }
    },
    {
      "cell_type": "markdown",
      "source": [
        "##### 2. What is/are the insight(s) found from the chart?"
      ],
      "metadata": {
        "id": "_ouA3fa0phqN"
      }
    },
    {
      "cell_type": "markdown",
      "source": [
        "VOICE MAIL\n",
        "\n",
        "2411 dont have a voice mail plan\n",
        "\n",
        "922 have a voice mail plan\n",
        "\n",
        "Among those who dont have a voice mail 16.7 % people churn.\n",
        "\n",
        "Whereas among those who have a voice mail plan only 8.7 % people churn.\n",
        "\n",
        "Hypothesis Based on Voice Mail\n",
        "\n",
        "Customers sending less number of voicemails either as per their Requirement or There would be less Network Stability at that place for which they won't be able to send the voice message successfully.\n",
        "*Customers with the Voice Mail Plan tend to churn less frequently *"
      ],
      "metadata": {
        "id": "VECbqPI7phqN"
      }
    },
    {
      "cell_type": "markdown",
      "source": [
        "##### 3. Will the gained insights help creating a positive business impact?\n",
        "Are there any insights that lead to negative growth? Justify with specific reason."
      ],
      "metadata": {
        "id": "Seke61FWphqN"
      }
    },
    {
      "cell_type": "markdown",
      "source": [
        "Voice mail plan doesn't have that much impact in business untill the hypothesis has been proven. If the hypothesis remains true, we need to take care of the respective states where there is less network stability or the states the towers needs either maintainance or new towers should be installed.\n",
        "\n",
        "yes, voice mail plan might be considered partially."
      ],
      "metadata": {
        "id": "DW4_bGpfphqN"
      }
    },
    {
      "cell_type": "markdown",
      "source": [
        "# **Chart - 7- Overall Calls (Bivariate)**"
      ],
      "metadata": {
        "id": "PIIx-8_IphqN"
      }
    },
    {
      "cell_type": "code",
      "source": [
        "# Chart - 7 visualization code\n",
        "# Geeting means of churn vs total day calls, total day minutes, total day charge\n",
        "print(dataset.groupby([\"Churn\"])['Total day calls'].mean())\n",
        "print(\" \")\n",
        "print(dataset.groupby([\"Churn\"])['Total day minutes'].mean())\n",
        "print(\" \")\n",
        "print(dataset.groupby([\"Churn\"])['Total day charge'].mean())\n",
        "\n",
        "# 18% more min    18% more charge    no insight"
      ],
      "metadata": {
        "id": "enpdrl-ZiMZ2"
      },
      "execution_count": null,
      "outputs": []
    },
    {
      "cell_type": "code",
      "source": [
        "# Vizualizing Total day minutes vs total day charge\n",
        "cdd = sns.scatterplot(x=\"Total day minutes\", y=\"Total day charge\", hue=\"Churn\", data=dataset)"
      ],
      "metadata": {
        "id": "MCvei-DziQAT"
      },
      "execution_count": null,
      "outputs": []
    },
    {
      "cell_type": "code",
      "source": [
        "# Geeting means of churn vs total eve calls, total eve minutes, total evening charge\n",
        "print(dataset.groupby([\"Churn\"])['Total eve calls'].mean())\n",
        "print(\" \")\n",
        "print(dataset.groupby([\"Churn\"])['Total eve minutes'].mean())\n",
        "print(\" \")\n",
        "print(dataset.groupby([\"Churn\"])['Total eve charge'].mean())"
      ],
      "metadata": {
        "id": "HD5yWUj0iWiX"
      },
      "execution_count": null,
      "outputs": []
    },
    {
      "cell_type": "code",
      "source": [
        "# Vizualizing total evening minutes vs total evening charge\n",
        "cdd = sns.scatterplot(x=\"Total eve minutes\", y=\"Total eve charge\", hue=\"Churn\", data=dataset)"
      ],
      "metadata": {
        "id": "YE2dFi6XiZmj"
      },
      "execution_count": null,
      "outputs": []
    },
    {
      "cell_type": "code",
      "source": [
        "# Getting means of churn vs total night calls, total m=night minutes, total night charge\n",
        "print(dataset.groupby([\"Churn\"])['Total night calls'].mean())\n",
        "print(\" \")\n",
        "print(dataset.groupby([\"Churn\"])['Total night minutes'].mean())\n",
        "print(\" \")\n",
        "print(dataset.groupby([\"Churn\"])['Total night charge'].mean())"
      ],
      "metadata": {
        "id": "3bsORyeiiwst"
      },
      "execution_count": null,
      "outputs": []
    },
    {
      "cell_type": "code",
      "source": [
        "# Vizualizing Total nights minutes vs total night charge\n",
        "cdd = sns.scatterplot(x=\"Total night minutes\", y=\"Total night charge\", hue=\"Churn\", data=dataset)"
      ],
      "metadata": {
        "id": "5wgzdL3ni0c9"
      },
      "execution_count": null,
      "outputs": []
    },
    {
      "cell_type": "code",
      "source": [
        "# Import pandas library\n",
        "import pandas as pd\n",
        "\n",
        "# initialize list of lists\n",
        "data1 = [['Total day minutes',175.17 , 206.91], ['Total day charge',29.78, 35.17]]\n",
        "\n",
        "#7.012,6.12,6.86\n",
        "\n",
        "# Create the pandas DataFrame\n",
        "minutes_code1 = pd.DataFrame(data1, columns = ['day', 'dont churn',' churn'])\n",
        "\n",
        "# print dataframe.\n",
        "minutes_code1"
      ],
      "metadata": {
        "id": "OQ6Qw_uvZn7o"
      },
      "execution_count": null,
      "outputs": []
    },
    {
      "cell_type": "code",
      "source": [
        "# Vizualizing code for the above created dataframe\n",
        "plt.rcParams['figure.figsize'] = (8, 6)\n",
        "\n",
        "\n",
        "minutes_code1.plot(kind='bar', x='day',ylabel='mean  ')"
      ],
      "metadata": {
        "id": "oz-LgFp-jJK9"
      },
      "execution_count": null,
      "outputs": []
    },
    {
      "cell_type": "code",
      "source": [
        "# Import pandas library\n",
        "import pandas as pd\n",
        "\n",
        "# initialize list of lists\n",
        "data2 = [ ['Total eve minutes',199.04, 212.41], ['Total night minutes',200.13,205.23]]\n",
        "\n",
        "#7.012,6.12,6.86\n",
        "\n",
        "# Create the pandas DataFrame\n",
        "minutes_code2 = pd.DataFrame(data2, columns = ['minutes', 'dont churn',' churn'])\n",
        "\n",
        "# print dataframe.\n",
        "minutes_code2"
      ],
      "metadata": {
        "id": "hra0ElZQjOsG"
      },
      "execution_count": null,
      "outputs": []
    },
    {
      "cell_type": "code",
      "source": [
        "# Vizualizing teh above created dataframe\n",
        "plt.rcParams['figure.figsize'] = (8,6)\n",
        "\n",
        "\n",
        "minutes_code2.plot(kind='bar', x='minutes',xlabel='minutes',ylabel='mean of churn ')"
      ],
      "metadata": {
        "id": "cDrPrxZjjR4G"
      },
      "execution_count": null,
      "outputs": []
    },
    {
      "cell_type": "code",
      "source": [
        "# Import pandas library\n",
        "import pandas as pd\n",
        "\n",
        "# initialize list of lists\n",
        "data3 = [ ['Total eve charge',16.91, 18.05], ['Total night charge',9,9.23]]\n",
        "\n",
        "#7.012,6.12,6.86\n",
        "\n",
        "# Create the pandas DataFrame\n",
        "minutes_code3 = pd.DataFrame(data3, columns = ['charge', 'dont churn',' churn'])\n",
        "\n",
        "# print dataframe.\n",
        "minutes_code3"
      ],
      "metadata": {
        "id": "R-UCWNSwjU29"
      },
      "execution_count": null,
      "outputs": []
    },
    {
      "cell_type": "code",
      "source": [
        "# Vizualizing code for the above dataset\n",
        "plt.rcParams['figure.figsize'] = (8,6)\n",
        "\n",
        "\n",
        "minutes_code3.plot(kind='bar', x='charge',ylabel='mean charge')"
      ],
      "metadata": {
        "id": "4lBbu_i1jXXt"
      },
      "execution_count": null,
      "outputs": []
    },
    {
      "cell_type": "markdown",
      "source": [
        "##### 1. Why did you pick the specific chart?"
      ],
      "metadata": {
        "id": "t27r6nlMphqO"
      }
    },
    {
      "cell_type": "markdown",
      "source": [
        "A scatter plot (aka scatter chart, scatter graph) uses dots to represent values for two different numeric variables. The position of each dot on the horizontal and vertical axis indicates values for an individual data point. Scatter plots are used to observe relationships between variables.\n",
        "\n",
        "Thus, I have used the scatter plot to depict the relationship between evening, day &n night calls , minutes and charge.\n",
        "\n",
        "The bar graph is used to compare the items between different groups over time. Bar graphs are used to measure the changes over a period of time. When the changes are larger, a bar graph is the best option to represent the data.\n",
        "\n",
        "Thus, I have used the bar plot to show the evening, night and day manipulated data to depict meaningful insights."
      ],
      "metadata": {
        "id": "-7wOPVDQjcdA"
      }
    },
    {
      "cell_type": "markdown",
      "source": [
        "##### 2. What is/are the insight(s) found from the chart?"
      ],
      "metadata": {
        "id": "r2jJGEOYphqO"
      }
    },
    {
      "cell_type": "markdown",
      "source": [
        "Churn customers speak more minutes that non-churn customers at day,evening and night. Hence they pay more charge that non-churn customers.\n",
        "\n",
        "We can retain churn customers if we include master plan. In master plan if a customer is talking more minutes then we can charge a little less amount from him or he can get discount or additional few free minutes to talk.\n",
        "\n",
        "This will make customers who are going to churn happy and they will not leave the company."
      ],
      "metadata": {
        "id": "Po6ZPi4hphqO"
      }
    },
    {
      "cell_type": "markdown",
      "source": [
        "##### 3. Will the gained insights help creating a positive business impact?\n",
        "Are there any insights that lead to negative growth? Justify with specific reason."
      ],
      "metadata": {
        "id": "b0JNsNcRphqO"
      }
    },
    {
      "cell_type": "markdown",
      "source": [
        "For telecom service provider calling and messaging are two essential product plans. Thus, optimizing voice call plans will definitely create a business impact. Those who are using just calling service must be provided som additional offers either in talktime or powerplus plan. Those who use voice call plan for night only, we might offer some exciting plans from midnight 12 to morning 6. For customers those who have higher accout length should be provided exciting offers as they are our loyal customers. churing of higher account length customer will have a negative impact on business."
      ],
      "metadata": {
        "id": "xvSq8iUTphqO"
      }
    },
    {
      "cell_type": "markdown",
      "source": [
        "# **Chart - 8 - Customer Service Calls (Bivariate)**"
      ],
      "metadata": {
        "id": "BZR9WyysphqO"
      }
    },
    {
      "cell_type": "code",
      "source": [
        "# Chart - 8 visualization code\n",
        "# Visualizing churn rate per customer service calls\n",
        "plt.rcParams['figure.figsize'] = (12, 8)\n",
        "\n",
        "\n",
        "s1=list(dataset['Customer service calls'].unique())\n",
        "s2=list(dataset.groupby(['Customer service calls'])['Churn'].mean()*100)\n",
        "plt.bar(s1,s2, color = ['violet','indigo','b','g','y','orange','r'])\n",
        "\n",
        "\n",
        "plt.title(\" Churn rate per service call\", fontsize = 20)\n",
        "plt.xlabel('No of cust service call', fontsize = 15)\n",
        "plt.ylabel(' percentage', fontsize = 15)\n",
        "plt.show()\n"
      ],
      "metadata": {
        "id": "TdPTWpAVphqO"
      },
      "execution_count": null,
      "outputs": []
    },
    {
      "cell_type": "markdown",
      "source": [
        "##### 1. Why did you pick the specific chart?"
      ],
      "metadata": {
        "id": "jj7wYXLtphqO"
      }
    },
    {
      "cell_type": "markdown",
      "source": [
        "The bar graph is used to compare the items between different groups over time. Bar graphs are used to measure the changes over a period of time. When the changes are larger, a bar graph is the best option to represent the data.\n",
        "\n",
        "Thus, I have used the bar plot to show the relationship between churn rate per customer service calls."
      ],
      "metadata": {
        "id": "Ob8u6rCTphqO"
      }
    },
    {
      "cell_type": "markdown",
      "source": [
        "##### 2. What is/are the insight(s) found from the chart?"
      ],
      "metadata": {
        "id": "eZrbJ2SmphqO"
      }
    },
    {
      "cell_type": "markdown",
      "source": [
        "CUSTOMER SERVICE CALL\n",
        "\n",
        "The service calls of customers varies from 0 to 9 .\n",
        "\n",
        "Those customers who make more service calls they have a high probability of leaving.\n",
        "\n",
        "As we can see from graph , customers with more then 5 service calls their probability of leaving is more then 50 %.\n",
        "\n",
        "Hence customers who make more then 5 service calls, their queries should be solved immediately and they should be given better service so that they dont leave the company.\n",
        "\n",
        "Customers with four or more customer service calls churn more than four times as often as do the other customers"
      ],
      "metadata": {
        "id": "mZtgC_hjphqO"
      }
    },
    {
      "cell_type": "markdown",
      "source": [
        "##### 3. Will the gained insights help creating a positive business impact?\n",
        "Are there any insights that lead to negative growth? Justify with specific reason."
      ],
      "metadata": {
        "id": "rFu4xreNphqO"
      }
    },
    {
      "cell_type": "markdown",
      "source": [
        "Customer service is an essential factor for every business. SO definitely good customer service will have a positive impact to the business. We have to look afted the customer calls and customer query report resolution duration. Need to optimize the time period. If one type of issue is coming from more than 5 customers, root cause analysis should be done on that same issue and should be resolved for everyone. Need to reduce the calls for each customer and he should be satisfied in a single call only. The customer service agents should be given great offer or recognition over great performance of customer issue resolution."
      ],
      "metadata": {
        "id": "ey_0qi68phqO"
      }
    },
    {
      "cell_type": "markdown",
      "source": [
        "# **Chart - 9 - Column wise Histogram & Box Plot Univariate Analysis**"
      ],
      "metadata": {
        "id": "YJ55k-q6phqO"
      }
    },
    {
      "cell_type": "code",
      "source": [
        "# Chart - 9 visualization code\n",
        "# Visualizing code of hist plot for each columns to know the data distibution\n",
        "for col in dataset.describe().columns:\n",
        "  fig=plt.figure(figsize=(9,6))\n",
        "  ax=fig.gca()\n",
        "  feature= (dataset[col])\n",
        "  sns.distplot(dataset[col])\n",
        "  ax.axvline(feature.mean(),color='magenta', linestyle='dashed', linewidth=2)\n",
        "  ax.axvline(feature.median(),color='cyan', linestyle='dashed', linewidth=2)\n",
        "  ax.set_title(col)\n",
        "plt.show()\n",
        "\n",
        "# Visualizing code of box plot for each columns to know the data distibution\n",
        "for col in dataset.describe().columns:\n",
        "    fig = plt.figure(figsize=(9, 6))\n",
        "    ax = fig.gca()\n",
        "    dataset.boxplot( col, ax = ax)\n",
        "    ax.set_title('Label by ' + col)\n",
        "    #ax.set_ylabel(\"Churn\")\n",
        "plt.show()"
      ],
      "metadata": {
        "id": "B2aS4O1ophqO"
      },
      "execution_count": null,
      "outputs": []
    },
    {
      "cell_type": "markdown",
      "source": [
        "##### 1. Why did you pick the specific chart?"
      ],
      "metadata": {
        "id": "gCFgpxoyphqP"
      }
    },
    {
      "cell_type": "markdown",
      "source": [
        "The histogram is a popular graphing tool. It is used to summarize discrete or continuous data that are measured on an interval scale. It is often used to illustrate the major features of the distribution of the data in a convenient form. It is also useful when dealing with large data sets (greater than 100 observations). It can help detect any unusual observations (outliers) or any gaps in the data.\n",
        "\n",
        "Thus, I used the histogram plot to analysis the variable distributions over the whole dataset whether it's symmetric or not.\n",
        "\n",
        "Box plots are used to show distributions of numeric data values, especially when you want to compare them between multiple groups. They are built to provide high-level information at a glance, offering general information about a group of data's symmetry, skew, variance, and outliers.\n",
        "\n",
        "Thus, for each numerical varibale in the given dataset, I used box plot to analyse the outliers and interquartile range including mean, median, maximum and minimum value."
      ],
      "metadata": {
        "id": "TVxDimi2phqP"
      }
    },
    {
      "cell_type": "markdown",
      "source": [
        "##### 2. What is/are the insight(s) found from the chart?"
      ],
      "metadata": {
        "id": "OVtJsKN_phqQ"
      }
    },
    {
      "cell_type": "markdown",
      "source": [
        "Almost all columns are symmetric distributed and mean is nearly same with median for numerical columns. Here Area code will be treated as text values as there are only 3 values in the particular column."
      ],
      "metadata": {
        "id": "ngGi97qjphqQ"
      }
    },
    {
      "cell_type": "markdown",
      "source": [
        "##### 3. Will the gained insights help creating a positive business impact?\n",
        "Are there any insights that lead to negative growth? Justify with specific reason."
      ],
      "metadata": {
        "id": "lssrdh5qphqQ"
      }
    },
    {
      "cell_type": "markdown",
      "source": [
        "Just a histogram and box plot cannot define business impact. It's done just to see the distribution of the column data over the dataset."
      ],
      "metadata": {
        "id": "7cTtRDwufKqb"
      }
    },
    {
      "cell_type": "markdown",
      "source": [
        "#### Chart - 10"
      ],
      "metadata": {
        "id": "U2RJ9gkRphqQ"
      }
    },
    {
      "cell_type": "code",
      "source": [
        "# Chart - 10 visualization code\n",
        "# Correlation Heatmap visualization code\n",
        "corr = dataset.select_dtypes(include='number').corr()\n",
        "cmap = sns.diverging_palette(5, 250, as_cmap=True)\n",
        "\n",
        "def magnify():\n",
        "    return [\n",
        "        dict(selector=\"th\", props=[(\"font-size\", \"7pt\")]),\n",
        "        dict(selector=\"td\", props=[(\"padding\", \"0em 0em\")]),\n",
        "        dict(selector=\"tr:hover td:hover\", props=[(\"font-size\", \"12pt\")]),\n",
        "        dict(selector=\"tr:hover th:hover\", props=[(\"max-width\", \"200px\"), (\"font-size\", \"12pt\")])\n",
        "    ]\n",
        "\n",
        "corr.style.background_gradient(cmap, axis=1)\\\n",
        "    .set_properties(**{'max-width': '80px', 'font-size': '10pt'})\\\n",
        "    .set_caption(\"Hover to magnify\")\\\n",
        "    .format(precision=2)\\\n",
        "    .set_table_styles(magnify())"
      ],
      "metadata": {
        "id": "GM7a4YP4phqQ"
      },
      "execution_count": null,
      "outputs": []
    },
    {
      "cell_type": "markdown",
      "source": [
        "##### 1. Why did you pick the specific chart?"
      ],
      "metadata": {
        "id": "1M8mcRywphqQ"
      }
    },
    {
      "cell_type": "markdown",
      "source": [
        "A correlation matrix is a table showing correlation coefficients between variables. Each cell in the table shows the correlation between two variables. A correlation matrix is used to summarize data, as an input into a more advanced analysis, and as a diagnostic for advanced analyses. The range of correlation is [-1,1].\n",
        "\n",
        "Thus to know the correlation between all the variables along with the correlation coeficients, i used correlation heatmap."
      ],
      "metadata": {
        "id": "8agQvks0phqQ"
      }
    },
    {
      "cell_type": "markdown",
      "source": [
        "##### 2. What is/are the insight(s) found from the chart?"
      ],
      "metadata": {
        "id": "tgIPom80phqQ"
      }
    },
    {
      "cell_type": "markdown",
      "source": [
        "From the above correlation heatmap, we can see total day charge & total day minute, total evening charge & total evening minute, total night charge & total night minute are positiveliy highly correlated with a value of 1.\n",
        "\n",
        "Customer service call is positively correlated only with area code and negative correlated with rest variables.\n",
        "\n",
        "Rest all correlation can be depicted from the above chart."
      ],
      "metadata": {
        "id": "Qp13pnNzphqQ"
      }
    },
    {
      "cell_type": "markdown",
      "source": [
        "##### 3. Will the gained insights help creating a positive business impact?\n",
        "Are there any insights that lead to negative growth? Justify with specific reason."
      ],
      "metadata": {
        "id": "JMzcOPDDphqR"
      }
    },
    {
      "cell_type": "markdown",
      "source": [
        "Answer Here"
      ],
      "metadata": {
        "id": "R4Ka1PC2phqR"
      }
    },
    {
      "cell_type": "markdown",
      "source": [
        "# **Chart - 11 - Pair Plot**"
      ],
      "metadata": {
        "id": "x-EpHcCOp1ci"
      }
    },
    {
      "cell_type": "code",
      "source": [
        "# Chart - 11 visualization code\n",
        "# Pair Plot visualization code\n",
        "sns.pairplot(dataset, hue=\"Churn\")"
      ],
      "metadata": {
        "id": "mAQTIvtqp1cj"
      },
      "execution_count": null,
      "outputs": []
    },
    {
      "cell_type": "markdown",
      "source": [
        "##### 1. Why did you pick the specific chart?"
      ],
      "metadata": {
        "id": "X_VqEhTip1ck"
      }
    },
    {
      "cell_type": "markdown",
      "source": [
        "Pair plot is used to understand the best set of features to explain a relationship between two variables or to form the most separated clusters. It also helps to form some simple classification models by drawing some simple lines or make linear separation in our data-set.\n",
        "\n",
        "Thus, I used pair plot to analyse the patterns of data and realationship between the features. It's exactly same as the correlation map but here you will get the graphical representation."
      ],
      "metadata": {
        "id": "-vsMzt_np1ck"
      }
    },
    {
      "cell_type": "markdown",
      "source": [
        "##### 2. What is/are the insight(s) found from the chart?"
      ],
      "metadata": {
        "id": "8zGJKyg5p1ck"
      }
    },
    {
      "cell_type": "markdown",
      "source": [
        "From the above chart I got to know, there are less linear relationship between variables and data poiunts aren't linearly separable. Churned customers data is clusetered and ovearlapped each other. Non churn data are quite symmetrical in nature and churned customer data are quite non symmetric in nature. In this whole pair plot, the importance of area code can be seen and the number of churn with respect to different features are really insightful. Rest insights can be depicted from the above graph."
      ],
      "metadata": {
        "id": "ZYdMsrqVp1ck"
      }
    },
    {
      "cell_type": "markdown",
      "source": [
        "##### 3. Will the gained insights help creating a positive business impact?\n",
        "Are there any insights that lead to negative growth? Justify with specific reason."
      ],
      "metadata": {
        "id": "PVzmfK_Ep1ck"
      }
    },
    {
      "cell_type": "markdown",
      "source": [
        "## **5. Solution to Business Objective**"
      ],
      "metadata": {
        "id": "JcMwzZxoAimU"
      }
    },
    {
      "cell_type": "markdown",
      "source": [
        "Solution to Reduce Customer Churn\n",
        "\n",
        "Modify International Plan as the charge is same as normal one.\n",
        "Be proactive with communication.\n",
        "Ask for feedback often.\n",
        "Periodically throw Offers to retain customers.\n",
        "Look at the customers facing problem in the most churning states.\n",
        "Lean into best customers.\n",
        "Regular Server Maintenance.\n",
        "Solving Poor Network Connectivity Issue.\n",
        "Define a roadmap for new customers.\n",
        "Analyze churn when it happens.\n",
        "Stay competitive."
      ],
      "metadata": {
        "id": "8G2x9gOozGDZ"
      }
    },
    {
      "cell_type": "markdown",
      "source": [
        "# **Conclusion**"
      ],
      "metadata": {
        "id": "gCX9965dhzqZ"
      }
    },
    {
      "cell_type": "markdown",
      "source": [
        "• The four charge fields are linear functions of the minute fields.\n",
        "\n",
        "• The area code field and/or the state field are anomalous, and can be omitted.\n",
        "\n",
        "• Customers with the International Plan tend to churn more frequently.\n",
        "\n",
        "• Customers with four or more customer service calls churn more than four times as often as do the other customers.\n",
        "\n",
        "• Customers with high day minutes and evening minutes tend to churn at a higher rate than do the other customers.\n",
        "\n",
        "• There is no obvious association of churn with the variables day calls, evening calls, night calls, international calls, night minutes, international minutes, account length, or voice mail messages."
      ],
      "metadata": {
        "id": "Fjb1IsQkh3yE"
      }
    }
  ]
}